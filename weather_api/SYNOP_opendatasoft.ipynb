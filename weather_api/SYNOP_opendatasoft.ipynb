{
 "cells": [
  {
   "cell_type": "code",
   "execution_count": 1,
   "metadata": {},
   "outputs": [],
   "source": [
    "import requests\n",
    "import numpy as np\n",
    "import matplotlib.pylab as plt"
   ]
  },
  {
   "cell_type": "markdown",
   "metadata": {},
   "source": [
    ">Données d'observations issues des messages internationaux d’observation en surface (SYNOP) circulant sur le système mondial de télécommunication (SMT) de l’Organisation Météorologique Mondiale (OMM). Paramètres atmosphériques mesurés (température, humidité, direction et force du vent, pression atmosphérique, hauteur de précipitations) ou observés (temps sensible, description des nuages, visibilité) depuis la surface terrestre. Selon instrumentation et spécificités locales, d'autres paramètres peuvent être disponibles (hauteur de neige, état du sol, etc.) https://public.opendatasoft.com/explore/dataset/donnees-synop-essentielles-omm/table/?sort=date"
   ]
  },
  {
   "cell_type": "code",
   "execution_count": 16,
   "metadata": {},
   "outputs": [
    {
     "name": "stdout",
     "output_type": "stream",
     "text": [
      "r.status_code=200\n"
     ]
    }
   ],
   "source": [
    "# Get dataset info\n",
    "url = 'https://public.opendatasoft.com/api/datasets/1.0/donnees-synop-essentielles-omm/'\n",
    "r = requests.get(url)\n",
    "print(f\"{r.status_code=}\")\n",
    "metadata = r.json()"
   ]
  },
  {
   "cell_type": "code",
   "execution_count": 37,
   "metadata": {},
   "outputs": [
    {
     "name": "stdout",
     "output_type": "stream",
     "text": [
      "      numer_sta ID OMM station \n",
      "           date Date \n",
      "           pmer Pression au niveau mer \n",
      "           tend Variation de pression en 3 heures \n",
      "       cod_tend Type de tendance barométrique \n",
      "             dd Direction du vent moyen 10 mn \n",
      "             ff Vitesse du vent moyen 10 mn \n",
      "              t Température \n",
      "             td Point de rosée \n",
      "              u Humidité \n",
      "             vv Visibilité horizontale \n",
      "             ww Temps présent \n",
      "             w1 Temps passé 1 \n",
      "             w2 Temps passé 2 \n",
      "              n Nebulosité totale \n",
      "           nbas Nébulosité  des nuages de l' étage inférieur \n",
      "           hbas Hauteur de la base des nuages de l'étage inférieur \n",
      "             cl Type des nuages de l'étage inférieur \n",
      "             cm Type des nuages de l'étage moyen \n",
      "             ch Type des nuages de l'étage supérieur \n",
      "           pres Pression station \n",
      "        niv_bar Niveau barométrique \n",
      "           geop Géopotentiel \n",
      "         tend24 Variation de pression en 24 heures \n",
      "           tn12 Température minimale sur 12 heures \n",
      "           tn24 Température minimale sur 24 heures \n",
      "           tx12 Température maximale sur 12 heures \n",
      "           tx24 Température maximale sur 24 heures \n",
      "        tminsol Température minimale du sol sur 12 heures \n",
      "             sw Méthode de mesure Température du thermomètre mouillé \n",
      "             tw Température du thermomètre mouillé \n",
      "          raf10 Rafale sur les 10 dernières minutes \n",
      "         rafper Rafales sur une période \n",
      "            per Periode de mesure de la rafale \n",
      "       etat_sol Etat du sol \n",
      "       ht_neige Hauteur totale de la couche de neige, glace, autre au sol \n",
      "         ssfrai Hauteur de la neige fraîche \n",
      "      perssfrai Periode de mesure de la neige fraiche \n",
      "            rr1 Précipitations dans la dernière heure \n",
      "            rr3 Précipitations dans les 3 dernières heures \n",
      "            rr6 Précipitations dans les 6 dernières heures \n",
      "           rr12 Précipitations dans les 12 dernières heures \n",
      "           rr24 Précipitations dans les 24 dernières heures \n",
      "       phenspe1 Phénomène spécial 1 \n",
      "       phenspe2 Phénomène spécial 2 \n",
      "       phenspe3 Phénomène spécial 3 \n",
      "       phenspe4 Phénomène spécial 4 \n",
      "        nnuage1 Nébulosité couche nuageuse 1 \n",
      "         ctype1 Type nuage 1 \n",
      "        hnuage1 Hauteur de base 1 \n",
      "        nnuage2 Nébulosité couche nuageuse 2 \n",
      "         ctype2 Type nuage 2 \n",
      "        hnuage2 Hauteur de base 2 \n",
      "        nnuage3 Nébulosité couche nuageuse 3 \n",
      "         ctype3 Type nuage 3 \n",
      "        hnuage3 Hauteur de base 3 \n",
      "        nnuage4 Nébulosité couche nuageuse 4 \n",
      "         ctype4 Type nuage 4 \n",
      "        hnuage4 Hauteur de base 4 \n",
      "    coordonnees Coordonnees \n",
      "            nom Nom \n",
      "type_de_tendance_barometrique Type de tendance barométrique \n",
      "  temps_passe_1 Temps passé 1 \n",
      "  temps_present Temps présent \n",
      "             tc Température (°C) \n",
      "          tn12c Température minimale sur 12 heures (°C) \n",
      "          tn24c Température minimale sur 24 heures (°C) \n",
      "          tx12c Température maximale sur 12 heures (°C) \n",
      "          tx24c Température maximale sur 24 heures (°C) \n",
      "       tminsolc Température minimale du sol sur 12 heures (en °C) \n",
      "       altitude Altitude \n",
      "      longitude Longitude \n",
      "       latitude Latitude \n",
      "         libgeo communes (name) \n",
      "        codegeo communes (code) \n",
      "       nom_epci EPCI (name) \n",
      "      code_epci EPCI (code) \n",
      "       nom_dept department (name) \n",
      "       code_dep department (code) \n",
      "        nom_reg region (name) \n",
      "       code_reg region (code) \n",
      "mois_de_l_annee mois_de_l_annee \n"
     ]
    }
   ],
   "source": [
    "for info in metadata['fields']:\n",
    "    print(f\"{info['name']:>15}\", info['label'])"
   ]
  },
  {
   "cell_type": "code",
   "execution_count": 68,
   "metadata": {},
   "outputs": [
    {
     "name": "stdout",
     "output_type": "stream",
     "text": [
      "200\n"
     ]
    }
   ],
   "source": [
    "url = \"https://public.opendatasoft.com/api/records/1.0/search/\"\n",
    "\n",
    "params = {'dataset':'donnees-synop-essentielles-omm',\n",
    "          'rows':40,\n",
    "          'facet':['date', 'nom', 'temps_present', 'libgeo', 'nom_epci', 'nom_dept', 'nom_reg'],\n",
    "          'refine.nom':'MARIGNANE',\n",
    "          'sort':'date'}\n",
    "\n",
    "r = requests.get(url, params=params)\n",
    "print(r.status_code)\n",
    "data = r.json()"
   ]
  },
  {
   "cell_type": "code",
   "execution_count": 69,
   "metadata": {},
   "outputs": [
    {
     "data": {
      "text/plain": [
       "[<matplotlib.lines.Line2D at 0x7f3cac8b4eb0>]"
      ]
     },
     "execution_count": 69,
     "metadata": {},
     "output_type": "execute_result"
    },
    {
     "data": {
      "image/png": "[encoded data removed]",
      "text/plain": [
       "<Figure size 432x288 with 1 Axes>"
      ]
     },
     "metadata": {
      "needs_background": "light"
     },
     "output_type": "display_data"
    }
   ],
   "source": [
    "records = [r['fields'] for r in data['records']]\n",
    "temperature = [(r['date'], r['t']) for r in records]\n",
    "temperature = sorted(temperature, key=lambda x:x[0])\n",
    "plt.plot(*zip(*temperature))"
   ]
  },
  {
   "cell_type": "code",
   "execution_count": 70,
   "metadata": {},
   "outputs": [
    {
     "name": "stdout",
     "output_type": "stream",
     "text": [
      "On n’a pas observé d’évolution des nuages ou on n’a pas pu suivre cette évolution\n",
      "Brume\n"
     ]
    }
   ],
   "source": [
    "temps = {r['temps_present'] for r in records  if 'temps_present' in r}\n",
    "print('\\n'.join(temps))"
   ]
  },
  {
   "cell_type": "code",
   "execution_count": null,
   "metadata": {},
   "outputs": [],
   "source": []
  },
  {
   "cell_type": "code",
   "execution_count": null,
   "metadata": {},
   "outputs": [],
   "source": []
  },
  {
   "cell_type": "code",
   "execution_count": null,
   "metadata": {},
   "outputs": [],
   "source": []
  }
 ],
 "metadata": {
  "kernelspec": {
   "display_name": "Python 3",
   "language": "python",
   "name": "python3"
  },
  "language_info": {
   "codemirror_mode": {
    "name": "ipython",
    "version": 3
   },
   "file_extension": ".py",
   "mimetype": "text/x-python",
   "name": "python",
   "nbconvert_exporter": "python",
   "pygments_lexer": "ipython3",
   "version": "3.8.2"
  }
 },
 "nbformat": 4,
 "nbformat_minor": 4
}

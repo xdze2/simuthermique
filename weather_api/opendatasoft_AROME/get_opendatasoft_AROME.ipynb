{
 "cells": [
  {
   "cell_type": "code",
   "execution_count": 14,
   "metadata": {},
   "outputs": [],
   "source": [
    "import requests\n",
    "import json, os\n",
    "import logging\n",
    "from time import sleep\n",
    "from datetime import datetime"
   ]
  },
  {
   "cell_type": "markdown",
   "metadata": {},
   "source": [
    "# data AROME from opendatasoft"
   ]
  },
  {
   "cell_type": "code",
   "execution_count": 13,
   "metadata": {},
   "outputs": [],
   "source": [
    "# ============\n",
    "#  Parameters\n",
    "# ============\n",
    "dataset = 'arome-0025-sp1_sp2'\n",
    "commune = 'Marseille'\n",
    "lat_lon = (43.3, 5.4)\n",
    "\n",
    "save_dir = 'data'\n",
    "\n",
    "wait_hours = 3"
   ]
  },
  {
   "cell_type": "code",
   "execution_count": 3,
   "metadata": {},
   "outputs": [],
   "source": [
    "logging.basicConfig(filename=os.path.join(save_dir, 'log.txt'),\n",
    "                    format='%(asctime)s - %(levelname)s  %(message)s',\n",
    "                    level=logging.INFO)"
   ]
  },
  {
   "cell_type": "code",
   "execution_count": 11,
   "metadata": {},
   "outputs": [],
   "source": [
    "try:\n",
    "    os.mkdir(save_dir)\n",
    "    print('mkdir', save_dir)\n",
    "except FileExistsError:\n",
    "    pass"
   ]
  },
  {
   "cell_type": "code",
   "execution_count": 12,
   "metadata": {},
   "outputs": [],
   "source": [
    "logging.info('start script')"
   ]
  },
  {
   "cell_type": "code",
   "execution_count": 20,
   "metadata": {},
   "outputs": [],
   "source": [
    "def query():\n",
    "    url = \"https://public.opendatasoft.com/api/records/1.0/search/\"\n",
    "\n",
    "    lat, lon = lat_lon\n",
    "    params = {'dataset':dataset,\n",
    "              'rows':100,\n",
    "              'facet':['communes', 'code_commune'],\n",
    "              'refine.commune':commune,\n",
    "              'geofilter.distance':f\"{lat:.2f}, {lon:.2f}, 100\",\n",
    "              'sort':'forecast'}\n",
    "\n",
    "    r = requests.get(url, params=params)\n",
    "\n",
    "    if r.status_code != 200:\n",
    "        logging.error('query error')\n",
    "        print('query error')\n",
    "        print(r.text)\n",
    "    else:\n",
    "\n",
    "        data = r.json()\n",
    "        records = data['records']\n",
    "        fields = [r['fields'] for r in records]\n",
    "\n",
    "        times = [(f['timestamp'], f['forecast']) for f in fields]\n",
    "        date_of_the_run = min(times, key=lambda x:x[1])[0]\n",
    "\n",
    "        filename = os.path.join(save_dir, f'{date_of_the_run}.json')\n",
    "        with open(filename, 'w') as outfile:\n",
    "            json.dump(data, outfile)\n",
    "\n",
    "        print(' > save:', filename)\n",
    "        logging.info(f'save - run:{date_of_the_run} {len(times)} points')"
   ]
  },
  {
   "cell_type": "code",
   "execution_count": 21,
   "metadata": {},
   "outputs": [
    {
     "name": "stdout",
     "output_type": "stream",
     "text": [
      " > save: data/2020-07-26T03:00:00+00:00.json\n",
      "2020-07-26 15:38:19.938620 waiting...\n",
      " > save: data/2020-07-26T03:00:00+00:00.json\n",
      "2020-07-26 15:38:27.835877 waiting...\n"
     ]
    },
    {
     "ename": "KeyboardInterrupt",
     "evalue": "",
     "output_type": "error",
     "traceback": [
      "\u001b[0;31m---------------------------------------------------------------------------\u001b[0m",
      "\u001b[0;31mKeyboardInterrupt\u001b[0m                         Traceback (most recent call last)",
      "\u001b[0;32m<ipython-input-21-ce3fd1d9d299>\u001b[0m in \u001b[0;36m<module>\u001b[0;34m\u001b[0m\n\u001b[1;32m      2\u001b[0m     \u001b[0mquery\u001b[0m\u001b[0;34m(\u001b[0m\u001b[0;34m)\u001b[0m\u001b[0;34m\u001b[0m\u001b[0;34m\u001b[0m\u001b[0m\n\u001b[1;32m      3\u001b[0m     \u001b[0mprint\u001b[0m\u001b[0;34m(\u001b[0m\u001b[0mdatetime\u001b[0m\u001b[0;34m.\u001b[0m\u001b[0mnow\u001b[0m\u001b[0;34m(\u001b[0m\u001b[0;34m)\u001b[0m\u001b[0;34m,\u001b[0m \u001b[0;34m\"waiting...\"\u001b[0m\u001b[0;34m)\u001b[0m\u001b[0;34m\u001b[0m\u001b[0;34m\u001b[0m\u001b[0m\n\u001b[0;32m----> 4\u001b[0;31m     \u001b[0msleep\u001b[0m\u001b[0;34m(\u001b[0m\u001b[0;36m5\u001b[0m\u001b[0;34m)\u001b[0m\u001b[0;31m#wait_hours *60*60)\u001b[0m\u001b[0;34m\u001b[0m\u001b[0;34m\u001b[0m\u001b[0m\n\u001b[0m",
      "\u001b[0;31mKeyboardInterrupt\u001b[0m: "
     ]
    }
   ],
   "source": [
    "while True:\n",
    "    query()\n",
    "    print(datetime.now(), \"waiting...\")\n",
    "    sleep(wait_hours *60*60)"
   ]
  },
  {
   "cell_type": "code",
   "execution_count": null,
   "metadata": {},
   "outputs": [],
   "source": []
  }
 ],
 "metadata": {
  "jupytext": {
   "formats": "ipynb,py:light"
  },
  "kernelspec": {
   "display_name": "Python 3",
   "language": "python",
   "name": "python3"
  },
  "language_info": {
   "codemirror_mode": {
    "name": "ipython",
    "version": 3
   },
   "file_extension": ".py",
   "mimetype": "text/x-python",
   "name": "python",
   "nbconvert_exporter": "python",
   "pygments_lexer": "ipython3",
   "version": "3.8.2"
  }
 },
 "nbformat": 4,
 "nbformat_minor": 4
}

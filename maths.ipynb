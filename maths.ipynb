{
 "cells": [
  {
   "cell_type": "markdown",
   "metadata": {},
   "source": [
    "## Modèle thermique dynamique\n",
    "\n",
    "Système linéaire:\n",
    "$$\n",
    "M \\frac{dT}{dt} = K \\times T(t) + S(t)\n",
    "$$\n",
    "\n",
    "avec $M_i = \\rho C_p \\, V$\n",
    "\n",
    "Conduction\n",
    "$$\n",
    "\\phi_{i \\rightarrow j} = \\operatorname{UA} \\cdot ( T_j - T_i )\n",
    "$$\n",
    "\n",
    "Convection (considérée linéaire)\n",
    "$$\n",
    "\\phi_{i \\rightarrow j} = hA\\,( T_j - T_i )\n",
    "$$\n",
    "\n",
    "Source directe:\n",
    "$$\n",
    "S_i(t) = flux(t) \n",
    "$$"
   ]
  },
  {
   "cell_type": "markdown",
   "metadata": {},
   "source": [
    "## What about radiation ?"
   ]
  },
  {
   "cell_type": "code",
   "execution_count": 2,
   "metadata": {},
   "outputs": [],
   "source": [
    "import numpy as np\n",
    "import matplotlib.pylab as plt"
   ]
  },
  {
   "cell_type": "code",
   "execution_count": 7,
   "metadata": {},
   "outputs": [],
   "source": [
    "T_deg = np.linspace(-20, 70, 123)\n",
    "T_Kelvin = T_deg + 273"
   ]
  },
  {
   "cell_type": "code",
   "execution_count": 8,
   "metadata": {},
   "outputs": [
    {
     "data": {
      "text/plain": [
       "[<matplotlib.lines.Line2D at 0x7fc00a71c748>]"
      ]
     },
     "execution_count": 8,
     "metadata": {},
     "output_type": "execute_result"
    },
    {
     "data": {
      "image/png": "[encoded data removed]",
      "text/plain": [
       "<Figure size 432x288 with 1 Axes>"
      ]
     },
     "metadata": {
      "needs_background": "light"
     },
     "output_type": "display_data"
    }
   ],
   "source": [
    "plt.plot(T_deg, T_Kelvin**4)"
   ]
  },
  {
   "cell_type": "code",
   "execution_count": null,
   "metadata": {},
   "outputs": [],
   "source": []
  }
 ],
 "metadata": {
  "kernelspec": {
   "display_name": "Python 3",
   "language": "python",
   "name": "python3"
  },
  "language_info": {
   "codemirror_mode": {
    "name": "ipython",
    "version": 3
   },
   "file_extension": ".py",
   "mimetype": "text/x-python",
   "name": "python",
   "nbconvert_exporter": "python",
   "pygments_lexer": "ipython3",
   "version": "3.6.9"
  }
 },
 "nbformat": 4,
 "nbformat_minor": 4
}

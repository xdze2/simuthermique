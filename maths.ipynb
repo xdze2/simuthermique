{
 "cells": [
  {
   "cell_type": "markdown",
   "metadata": {},
   "source": [
    "## Modèle thermique dynamique\n",
    "\n",
    "Système linéaire:\n",
    "$$\n",
    "M \\frac{dT}{dt} = K \\times T(t) + S(t)\n",
    "$$\n",
    "\n",
    "avec $M_i = \\rho C_p \\, V$\n",
    "\n",
    "Conduction\n",
    "$$\n",
    "\\phi_{i \\rightarrow j} = \\operatorname{UA} \\cdot ( T_j - T_i )\n",
    "$$\n",
    "\n",
    "Convection (considérée linéaire)\n",
    "$$\n",
    "\\phi_{i \\rightarrow j} = hA\\,( T_j - T_i )\n",
    "$$\n",
    "\n",
    "Source directe:\n",
    "$$\n",
    "S_i(t) = flux(t) \n",
    "$$"
   ]
  },
  {
   "cell_type": "code",
   "execution_count": null,
   "metadata": {},
   "outputs": [],
   "source": []
  }
 ],
 "metadata": {
  "kernelspec": {
   "display_name": "Python 3",
   "language": "python",
   "name": "python3"
  },
  "language_info": {
   "codemirror_mode": {
    "name": "ipython",
    "version": 3
   },
   "file_extension": ".py",
   "mimetype": "text/x-python",
   "name": "python",
   "nbconvert_exporter": "python",
   "pygments_lexer": "ipython3",
   "version": "3.6.9"
  }
 },
 "nbformat": 4,
 "nbformat_minor": 4
}

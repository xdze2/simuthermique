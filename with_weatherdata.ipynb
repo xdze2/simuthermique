{
 "cells": [
  {
   "cell_type": "code",
   "execution_count": 1,
   "metadata": {},
   "outputs": [],
   "source": [
    "#import Pkg; Pkg.add(\"BenchmarkTools\")"
   ]
  },
  {
   "cell_type": "code",
   "execution_count": 2,
   "metadata": {},
   "outputs": [],
   "source": [
    "using BenchmarkTools"
   ]
  },
  {
   "cell_type": "code",
   "execution_count": 3,
   "metadata": {},
   "outputs": [],
   "source": [
    "#import Pkg; Pkg.add(\"CSV\")\n",
    "#Pkg.add(\"Plots\")\n",
    "#Pkg.add(\"PyPlot\")"
   ]
  },
  {
   "cell_type": "code",
   "execution_count": 4,
   "metadata": {},
   "outputs": [],
   "source": [
    "using Plots"
   ]
  },
  {
   "cell_type": "code",
   "execution_count": 5,
   "metadata": {},
   "outputs": [
    {
     "data": {
      "text/plain": [
       "surface_projection"
      ]
     },
     "execution_count": 5,
     "metadata": {},
     "output_type": "execute_result"
    }
   ],
   "source": [
    "deg_to_rad(theta) = theta * pi / 180.0\n",
    "\n",
    "\"\"\"\n",
    "Get the projection coefficient, cos(theta),\n",
    "for a given surface orientation and sun position\n",
    "\n",
    "sun_altitude:      sun altitude in degree (angle from horizon), degree\n",
    "sun_south_azimuth: sun azimuth relative to south, negative at east, degree\n",
    "\n",
    "surface_angle:     vertical angle of the surface, 0° is horizontal and 90° is vertical, degree\n",
    "surface_south_azimuth: azimuth of the surface, relative to south, with negative values\n",
    "                       in the southeast direction and positve values in the southwest\n",
    "\n",
    "Returns cos_theta such as  I = I_normal * cos_theta\n",
    "\"\"\"\n",
    "function surface_projection(sun_altitude, sun_south_azimuth,\n",
    "                            surface_angle, surface_south_azimuth)\n",
    "      \n",
    "    beta = deg_to_rad(sun_altitude)\n",
    "    phi_S = -deg_to_rad(sun_south_azimuth)\n",
    "    sigma = deg_to_rad(surface_angle)\n",
    "    phi_C = -deg_to_rad(surface_south_azimuth)\n",
    "    \n",
    "    cos_theta = cos(beta)*cos(phi_S - phi_C)*sin(sigma) + cos(sigma)*sin(beta)\n",
    "    return max(cos_theta, 0.0)\n",
    "end"
   ]
  },
  {
   "cell_type": "code",
   "execution_count": 6,
   "metadata": {},
   "outputs": [],
   "source": [
    "using CSV"
   ]
  },
  {
   "cell_type": "code",
   "execution_count": 7,
   "metadata": {},
   "outputs": [
    {
     "data": {
      "text/plain": [
       "build_interp1d"
      ]
     },
     "execution_count": 7,
     "metadata": {},
     "output_type": "execute_result"
    }
   ],
   "source": [
    "\"\"\" Linear interpolation\n",
    "\"\"\"\n",
    "function build_interp1d(x, y)\n",
    "    function interp1d_glob(t)\n",
    "        idx = searchsortedfirst(x, t)\n",
    "        if idx <= 1\n",
    "            return y[1]\n",
    "        elseif idx == length(x)+1\n",
    "            return y[end]\n",
    "        else\n",
    "            prev = idx-1\n",
    "            slope = (y[idx] - y[prev])/(x[idx] - x[prev])\n",
    "            return y[prev] + slope*(t - x[prev])\n",
    "        end\n",
    "    end\n",
    "    return interp1d_glob\n",
    "end"
   ]
  },
  {
   "cell_type": "code",
   "execution_count": 8,
   "metadata": {},
   "outputs": [
    {
     "name": "stdout",
     "output_type": "stream",
     "text": [
      "Symbol[Symbol(\"# Htsmd\"), :te0, :dirN]\n"
     ]
    }
   ],
   "source": [
    "path = \"./data/Fichiers_Meteo_RT2012/H1a_Trappes.csv\"\n",
    "data = CSV.read(path; header=1);\n",
    "\n",
    "println(names(data))"
   ]
  },
  {
   "cell_type": "code",
   "execution_count": 9,
   "metadata": {},
   "outputs": [
    {
     "data": {
      "text/plain": [
       "(::var\"#interp1d_glob#3\"{Array{Float64,1},Array{Float64,1}}) (generic function with 1 method)"
      ]
     },
     "execution_count": 9,
     "metadata": {},
     "output_type": "execute_result"
    }
   ],
   "source": [
    "# Define interpolation function for weather data\n",
    "seconds_values = Array(data[!, 1]) * 60.0*60.0;\n",
    "Text_values = Array(data[!, 2]);\n",
    "directSun_values = Array(data[!, 3]);\n",
    "\n",
    "T_ext = build_interp1d(seconds_values, Text_values)\n",
    "solar_irrad = build_interp1d(seconds_values, directSun_values)"
   ]
  },
  {
   "cell_type": "code",
   "execution_count": 10,
   "metadata": {},
   "outputs": [],
   "source": [
    "include(\"SimuThermiqueSolver_src.jl\")\n",
    "using .SimuThermiqueSolver"
   ]
  },
  {
   "cell_type": "code",
   "execution_count": 11,
   "metadata": {},
   "outputs": [
    {
     "data": {
      "text/plain": [
       "86400.0"
      ]
     },
     "execution_count": 11,
     "metadata": {},
     "output_type": "execute_result"
    }
   ],
   "source": [
    "minute = 60.0\n",
    "hour = 60.0 * minute\n",
    "day = 24 * hour"
   ]
  },
  {
   "cell_type": "code",
   "execution_count": 12,
   "metadata": {},
   "outputs": [],
   "source": [
    "m = Model(dt=10minute)\n",
    "\n",
    "L = 3.0  # house size, meter\n",
    "\n",
    "air = Material(25e-3, 1.225, 1.0006)\n",
    "clay = Material(1.28, 880.0, 1450.0) # Clay\n",
    "roof_isolation = Material(0.036, 150.0, 2700.2)\n",
    "slab_isolation = Material(0.036, 150.0, 2700.2)\n",
    "wall_isolation = Material(0.036, 150.0, 2700.2)\n",
    "\n",
    "interior_air = add_simplethermalmass!(m, \"air\"; thermal_mass=air.rho*air.Cp*L^2)\n",
    "roof = add_simple_wall!(m, \"roof\", material=roof_isolation, thickness=.10, area=1.2*L)\n",
    "slab = add_composite_wall!(m, \"slab\", layers=[(slab_isolation, 0.1), (clay, 1.5*L)], area=1.0*L)\n",
    "south_wall = add_simple_wall!(m, \"souht_wall\", material=wall_isolation, thickness=0.10, area=L*0.5)\n",
    "\n",
    "h_exterior = 6.5\n",
    "h_interior_vertical = .7\n",
    "h_interior_horizontal = 2.5\n",
    "\n",
    "\n",
    "add_convectivesource!(m, roof.ext; Tsource=T_ext, hS=h_exterior*L)\n",
    "add_convectivesource!(m, south_wall.ext; Tsource=T_ext, hS=h_exterior*L)\n",
    "\n",
    "add_conductance!(m, roof.int, interior_air; UA=h_interior_vertical*L/2)\n",
    "add_conductance!(m, south_wall.int, interior_air; UA=h_interior_vertical*L/2)\n",
    "add_conductance!(m, slab.int, interior_air; UA=h_interior_horizontal*L)\n",
    "\n",
    "add_convectivesource!(m, slab.ext; Tsource=t->14, hS=10*h_exterior)\n",
    "\n",
    "add_directsource!(m, roof.ext, flux=t->0.8*solar_irrad(t)*L)\n",
    "add_directsource!(m, south_wall.ext, flux=t->0.4*solar_irrad(t)*L/2.0)"
   ]
  },
  {
   "cell_type": "code",
   "execution_count": 13,
   "metadata": {},
   "outputs": [],
   "source": [
    "save = [roof.int, slab.int, interior_air];\n",
    "save_idx = map(x->m.id_to_index[x], save);"
   ]
  },
  {
   "cell_type": "code",
   "execution_count": 27,
   "metadata": {},
   "outputs": [
    {
     "data": {
      "text/plain": [
       "600.0"
      ]
     },
     "execution_count": 27,
     "metadata": {},
     "output_type": "execute_result"
    }
   ],
   "source": [
    "state = init_solver(m);\n",
    "\n",
    "# Burn (solve in reverse)\n",
    "state.dt = -state.dt\n",
    "state.t = 50day\n",
    "\n",
    "n_iter = Int(floor(state.t/m.dt));\n",
    "\n",
    "for k in 1:n_iter\n",
    "    iter!(state)\n",
    "end\n",
    "\n",
    "state.dt = -state.dt"
   ]
  },
  {
   "cell_type": "code",
   "execution_count": 28,
   "metadata": {},
   "outputs": [],
   "source": [
    "# solve\n",
    "n_iter = Int(floor(150day/m.dt));\n",
    "\n",
    "sol = zeros(n_iter, length(m.M))\n",
    "times = zeros(n_iter)\n",
    "for k in 1:n_iter\n",
    "    iter!(state)\n",
    "    sol[k, :] = state.T\n",
    "    times[k] = state.t\n",
    "end"
   ]
  },
  {
   "cell_type": "code",
   "execution_count": 29,
   "metadata": {},
   "outputs": [
    {
     "data": {
      "text/plain": [
       "groupby_day (generic function with 1 method)"
      ]
     },
     "execution_count": 29,
     "metadata": {},
     "output_type": "execute_result"
    }
   ],
   "source": [
    "function groupby_day(y, nbr_values_per_day)\n",
    "    y = reshape(y, (:, nbr_values_per_day));\n",
    "\n",
    "    y_max = maximum.(eachcol(y))\n",
    "    y_min = minimum.(eachcol(y))\n",
    "    y_avg = mean.(eachcol(y))\n",
    "    return y_min, y_avg, y_max\n",
    "end"
   ]
  },
  {
   "cell_type": "code",
   "execution_count": 30,
   "metadata": {},
   "outputs": [],
   "source": [
    "#plot(times/hour, sol, label=permutedims(save))\n",
    "#plot!(times/hour, [T_ext(t) for t in times], label=\"T_ext\")\n",
    "#plot!(times/hour, [0.01*solar_irrad(t) for t in times], label=\"solar\")"
   ]
  },
  {
   "cell_type": "markdown",
   "metadata": {},
   "source": [
    "MetaModel\n",
    "\n",
    "same as model but takes Params instead of values"
   ]
  },
  {
   "cell_type": "code",
   "execution_count": 31,
   "metadata": {},
   "outputs": [
    {
     "data": {
      "text/plain": [
       "([600.0, 90600.0, 180600.0, 270600.0, 360600.0, 450600.0, 540600.0, 630600.0, 720600.0, 810600.0  …  1.20606e7, 1.21506e7, 1.22406e7, 1.23306e7, 1.24206e7, 1.25106e7, 1.26006e7, 1.26906e7, 1.27806e7, 1.28706e7], [45300.0, 135300.0, 225300.0, 315300.0, 405300.0, 495300.0, 585300.0, 675300.0, 765300.0, 855300.0  …  1.21053e7, 1.21953e7, 1.22853e7, 1.23753e7, 1.24653e7, 1.25553e7, 1.26453e7, 1.27353e7, 1.28253e7, 1.29153e7], [90000.0, 180000.0, 270000.0, 360000.0, 450000.0, 540000.0, 630000.0, 720000.0, 810000.0, 900000.0  …  1.215e7, 1.224e7, 1.233e7, 1.242e7, 1.251e7, 1.26e7, 1.269e7, 1.278e7, 1.287e7, 1.296e7])"
      ]
     },
     "execution_count": 31,
     "metadata": {},
     "output_type": "execute_result"
    }
   ],
   "source": [
    "dt = m.dt\n",
    "nbr_values_per_day = Int( day / dt )\n",
    "\n",
    "t_min, t_avg, t_max = groupby_day(times, nbr_values_per_day)"
   ]
  },
  {
   "cell_type": "code",
   "execution_count": 25,
   "metadata": {},
   "outputs": [
    {
     "data": {
      "text/plain": [
       "Dict{String,Int64} with 9 entries:\n",
       "  \"roof_ext\"       => 2\n",
       "  \"slab2_int\"      => 218\n",
       "  \"slab1_ext\"      => 18\n",
       "  \"souht_wall_ext\" => 220\n",
       "  \"slab2_ext\"      => 33\n",
       "  \"slab1_int\"      => 33\n",
       "  \"souht_wall_int\" => 235\n",
       "  \"air\"            => 1\n",
       "  \"roof_int\"       => 17"
      ]
     },
     "execution_count": 25,
     "metadata": {},
     "output_type": "execute_result"
    }
   ],
   "source": [
    "m.id_to_index"
   ]
  },
  {
   "cell_type": "code",
   "execution_count": 35,
   "metadata": {},
   "outputs": [
    {
     "data": {
      "image/svg+xml": [
       "<?xml version=\"1.0\" encoding=\"utf-8\"?>\n",
       "<svg xmlns=\"http://www.w3.org/2000/svg\" xmlns:xlink=\"http://www.w3.org/1999/xlink\" width=\"600\" height=\"400\" viewBox=\"0 0 2400 1600\">\n",
       "<defs>\n",
       "  <clipPath id=\"clip1300\">\n",
       "    <rect x=\"0\" y=\"0\" width=\"2400\" height=\"1600\"/>\n",
       "  </clipPath>\n",
       "</defs>\n",
       "<path clip-path=\"url(#clip1300)\" d=\"\n",
       "M0 1600 L2400 1600 L2400 0 L0 0  Z\n",
       "  \" fill=\"#ffffff\" fill-rule=\"evenodd\" fill-opacity=\"1\"/>\n",
       "<defs>\n",
       "  <clipPath id=\"clip1301\">\n",
       "    <rect x=\"480\" y=\"0\" width=\"1681\" height=\"1600\"/>\n",
       "  </clipPath>\n",
       "</defs>\n",
       "<path clip-path=\"url(#clip1300)\" d=\"\n",
       "M140.517 1487.47 L2352.76 1487.47 L2352.76 47.2441 L140.517 47.2441  Z\n",
       "  \" fill=\"#ffffff\" fill-rule=\"evenodd\" fill-opacity=\"1\"/>\n",
       "<defs>\n",
       "  <clipPath id=\"clip1302\">\n",
       "    <rect x=\"140\" y=\"47\" width=\"2213\" height=\"1441\"/>\n",
       "  </clipPath>\n",
       "</defs>\n",
       "<polyline clip-path=\"url(#clip1302)\" style=\"stroke:#000000; stroke-width:2; stroke-opacity:0.1; fill:none\" points=\"\n",
       "  203.03,1487.47 203.03,47.2441 \n",
       "  \"/>\n",
       "<polyline clip-path=\"url(#clip1302)\" style=\"stroke:#000000; stroke-width:2; stroke-opacity:0.1; fill:none\" points=\"\n",
       "  903.568,1487.47 903.568,47.2441 \n",
       "  \"/>\n",
       "<polyline clip-path=\"url(#clip1302)\" style=\"stroke:#000000; stroke-width:2; stroke-opacity:0.1; fill:none\" points=\"\n",
       "  1604.11,1487.47 1604.11,47.2441 \n",
       "  \"/>\n",
       "<polyline clip-path=\"url(#clip1302)\" style=\"stroke:#000000; stroke-width:2; stroke-opacity:0.1; fill:none\" points=\"\n",
       "  2304.64,1487.47 2304.64,47.2441 \n",
       "  \"/>\n",
       "<polyline clip-path=\"url(#clip1302)\" style=\"stroke:#000000; stroke-width:2; stroke-opacity:0.1; fill:none\" points=\"\n",
       "  140.517,1390.49 2352.76,1390.49 \n",
       "  \"/>\n",
       "<polyline clip-path=\"url(#clip1302)\" style=\"stroke:#000000; stroke-width:2; stroke-opacity:0.1; fill:none\" points=\"\n",
       "  140.517,1120.96 2352.76,1120.96 \n",
       "  \"/>\n",
       "<polyline clip-path=\"url(#clip1302)\" style=\"stroke:#000000; stroke-width:2; stroke-opacity:0.1; fill:none\" points=\"\n",
       "  140.517,851.434 2352.76,851.434 \n",
       "  \"/>\n",
       "<polyline clip-path=\"url(#clip1302)\" style=\"stroke:#000000; stroke-width:2; stroke-opacity:0.1; fill:none\" points=\"\n",
       "  140.517,581.907 2352.76,581.907 \n",
       "  \"/>\n",
       "<polyline clip-path=\"url(#clip1302)\" style=\"stroke:#000000; stroke-width:2; stroke-opacity:0.1; fill:none\" points=\"\n",
       "  140.517,312.38 2352.76,312.38 \n",
       "  \"/>\n",
       "<polyline clip-path=\"url(#clip1300)\" style=\"stroke:#000000; stroke-width:4; stroke-opacity:1; fill:none\" points=\"\n",
       "  140.517,1487.47 2352.76,1487.47 \n",
       "  \"/>\n",
       "<polyline clip-path=\"url(#clip1300)\" style=\"stroke:#000000; stroke-width:4; stroke-opacity:1; fill:none\" points=\"\n",
       "  140.517,1487.47 140.517,47.2441 \n",
       "  \"/>\n",
       "<polyline clip-path=\"url(#clip1300)\" style=\"stroke:#000000; stroke-width:4; stroke-opacity:1; fill:none\" points=\"\n",
       "  203.03,1487.47 203.03,1470.19 \n",
       "  \"/>\n",
       "<polyline clip-path=\"url(#clip1300)\" style=\"stroke:#000000; stroke-width:4; stroke-opacity:1; fill:none\" points=\"\n",
       "  903.568,1487.47 903.568,1470.19 \n",
       "  \"/>\n",
       "<polyline clip-path=\"url(#clip1300)\" style=\"stroke:#000000; stroke-width:4; stroke-opacity:1; fill:none\" points=\"\n",
       "  1604.11,1487.47 1604.11,1470.19 \n",
       "  \"/>\n",
       "<polyline clip-path=\"url(#clip1300)\" style=\"stroke:#000000; stroke-width:4; stroke-opacity:1; fill:none\" points=\"\n",
       "  2304.64,1487.47 2304.64,1470.19 \n",
       "  \"/>\n",
       "<polyline clip-path=\"url(#clip1300)\" style=\"stroke:#000000; stroke-width:4; stroke-opacity:1; fill:none\" points=\"\n",
       "  140.517,1390.49 167.064,1390.49 \n",
       "  \"/>\n",
       "<polyline clip-path=\"url(#clip1300)\" style=\"stroke:#000000; stroke-width:4; stroke-opacity:1; fill:none\" points=\"\n",
       "  140.517,1120.96 167.064,1120.96 \n",
       "  \"/>\n",
       "<polyline clip-path=\"url(#clip1300)\" style=\"stroke:#000000; stroke-width:4; stroke-opacity:1; fill:none\" points=\"\n",
       "  140.517,851.434 167.064,851.434 \n",
       "  \"/>\n",
       "<polyline clip-path=\"url(#clip1300)\" style=\"stroke:#000000; stroke-width:4; stroke-opacity:1; fill:none\" points=\"\n",
       "  140.517,581.907 167.064,581.907 \n",
       "  \"/>\n",
       "<polyline clip-path=\"url(#clip1300)\" style=\"stroke:#000000; stroke-width:4; stroke-opacity:1; fill:none\" points=\"\n",
       "  140.517,312.38 167.064,312.38 \n",
       "  \"/>\n",
       "<g clip-path=\"url(#clip1300)\">\n",
       "<text style=\"fill:#000000; fill-opacity:1; font-family:Arial,Helvetica Neue,Helvetica,sans-serif; font-size:48px; text-anchor:middle;\" transform=\"rotate(0, 203.03, 1541.47)\" x=\"203.03\" y=\"1541.47\">0</text>\n",
       "</g>\n",
       "<g clip-path=\"url(#clip1300)\">\n",
       "<text style=\"fill:#000000; fill-opacity:1; font-family:Arial,Helvetica Neue,Helvetica,sans-serif; font-size:48px; text-anchor:middle;\" transform=\"rotate(0, 903.568, 1541.47)\" x=\"903.568\" y=\"1541.47\">50</text>\n",
       "</g>\n",
       "<g clip-path=\"url(#clip1300)\">\n",
       "<text style=\"fill:#000000; fill-opacity:1; font-family:Arial,Helvetica Neue,Helvetica,sans-serif; font-size:48px; text-anchor:middle;\" transform=\"rotate(0, 1604.11, 1541.47)\" x=\"1604.11\" y=\"1541.47\">100</text>\n",
       "</g>\n",
       "<g clip-path=\"url(#clip1300)\">\n",
       "<text style=\"fill:#000000; fill-opacity:1; font-family:Arial,Helvetica Neue,Helvetica,sans-serif; font-size:48px; text-anchor:middle;\" transform=\"rotate(0, 2304.64, 1541.47)\" x=\"2304.64\" y=\"1541.47\">150</text>\n",
       "</g>\n",
       "<g clip-path=\"url(#clip1300)\">\n",
       "<text style=\"fill:#000000; fill-opacity:1; font-family:Arial,Helvetica Neue,Helvetica,sans-serif; font-size:48px; text-anchor:end;\" transform=\"rotate(0, 116.517, 1407.99)\" x=\"116.517\" y=\"1407.99\">3</text>\n",
       "</g>\n",
       "<g clip-path=\"url(#clip1300)\">\n",
       "<text style=\"fill:#000000; fill-opacity:1; font-family:Arial,Helvetica Neue,Helvetica,sans-serif; font-size:48px; text-anchor:end;\" transform=\"rotate(0, 116.517, 1138.46)\" x=\"116.517\" y=\"1138.46\">6</text>\n",
       "</g>\n",
       "<g clip-path=\"url(#clip1300)\">\n",
       "<text style=\"fill:#000000; fill-opacity:1; font-family:Arial,Helvetica Neue,Helvetica,sans-serif; font-size:48px; text-anchor:end;\" transform=\"rotate(0, 116.517, 868.934)\" x=\"116.517\" y=\"868.934\">9</text>\n",
       "</g>\n",
       "<g clip-path=\"url(#clip1300)\">\n",
       "<text style=\"fill:#000000; fill-opacity:1; font-family:Arial,Helvetica Neue,Helvetica,sans-serif; font-size:48px; text-anchor:end;\" transform=\"rotate(0, 116.517, 599.407)\" x=\"116.517\" y=\"599.407\">12</text>\n",
       "</g>\n",
       "<g clip-path=\"url(#clip1300)\">\n",
       "<text style=\"fill:#000000; fill-opacity:1; font-family:Arial,Helvetica Neue,Helvetica,sans-serif; font-size:48px; text-anchor:end;\" transform=\"rotate(0, 116.517, 329.88)\" x=\"116.517\" y=\"329.88\">15</text>\n",
       "</g>\n",
       "<polyline clip-path=\"url(#clip1302)\" style=\"stroke:#009af9; stroke-width:4; stroke-opacity:1; fill:none\" points=\"\n",
       "  203.127,1166.92 217.722,1139.64 232.316,1105.52 246.911,1124.75 261.505,1176.7 276.1,1161.84 290.695,1141.66 305.289,1158.26 319.884,1149.14 334.478,997.18 \n",
       "  349.073,1081.11 363.667,1068 378.262,1059.43 392.856,1278.13 407.451,1277.42 422.045,1278.47 436.64,1228.41 451.234,1232.1 465.829,1155.72 480.423,1078.41 \n",
       "  495.018,1077.64 509.613,1162.11 524.207,1166.63 538.802,1261.68 553.396,1288.15 567.991,1378.05 582.585,1312.21 597.18,1320.16 611.774,1322.4 626.369,1265.24 \n",
       "  640.963,1244 655.558,1221.37 670.152,1259.54 684.747,1142.13 699.341,1012.79 713.936,1127.29 728.53,1134.85 743.125,1101.04 757.72,991.16 772.314,1138.63 \n",
       "  786.909,1013.72 801.503,1097.18 816.098,1091.48 830.692,1117.94 845.287,1118.04 859.881,1046.1 874.476,1046.24 889.07,1104.86 903.665,1039.43 918.259,1058.07 \n",
       "  932.854,1081.21 947.448,1091.73 962.043,1051.68 976.638,1052.22 991.232,1030 1005.83,821.553 1020.42,903.62 1035.02,1022.33 1049.61,1015.97 1064.2,907.466 \n",
       "  1078.8,934.645 1093.39,810.151 1107.99,961.217 1122.58,927.291 1137.18,872.929 1151.77,799.543 1166.37,675.353 1180.96,605.866 1195.56,593.825 1210.15,584.297 \n",
       "  1224.74,586.143 1239.34,604.361 1253.93,797.768 1268.53,896.324 1283.12,961.732 1297.72,1060.93 1312.31,1030.41 1326.91,1030.93 1341.5,1085.74 1356.1,1109.88 \n",
       "  1370.69,1025.49 1385.28,704.869 1399.88,640.514 1414.47,690.049 1429.07,856.067 1443.66,1019.64 1458.26,858.31 1472.85,648.326 1487.45,817.372 1502.04,764.165 \n",
       "  1516.64,732.62 1531.23,852.821 1545.82,887.621 1560.42,946.021 1575.01,952.788 1589.61,783.558 1604.2,633.307 1618.8,514.931 1633.39,573.44 1647.99,773.512 \n",
       "  1662.58,581.057 1677.18,379.887 1691.77,531.526 1706.36,768.661 1720.96,722.143 1735.55,804.063 1750.15,583.595 1764.74,538.513 1779.34,438.936 1793.93,228.648 \n",
       "  1808.53,167.567 1823.12,88.0053 1837.71,222.947 1852.31,393.71 1866.9,527.773 1881.5,258.056 1896.09,213.549 1910.69,109.491 1925.28,113.574 1939.88,457.742 \n",
       "  1954.47,567.408 1969.07,252.098 1983.66,320.027 1998.25,321.947 2012.85,252.409 2027.44,176.46 2042.04,298.709 2056.63,129.506 2071.23,260.437 2085.82,163.847 \n",
       "  2100.42,249.49 2115.01,316.796 2129.61,370.508 2144.2,475.101 2158.79,461.931 2173.39,413.75 2187.98,268.853 2202.58,158.507 2217.17,350.634 2231.77,359.104 \n",
       "  2246.36,420.219 2260.96,395.39 2275.55,395.029 2290.15,146.031 \n",
       "  \"/>\n",
       "<polyline clip-path=\"url(#clip1302)\" style=\"stroke:#e26f46; stroke-width:4; stroke-opacity:1; fill:none\" points=\"\n",
       "  203.127,1250.87 217.722,1197.04 232.316,1261.08 246.911,1245.61 261.505,1209.79 276.1,1176.67 290.695,1170.88 305.289,1218.16 319.884,1232.77 334.478,1154.3 \n",
       "  349.073,1128.75 363.667,1195.65 378.262,1276.7 392.856,1351.4 407.451,1371.36 422.045,1368.71 436.64,1277.95 451.234,1275.3 465.829,1231.59 480.423,1155.24 \n",
       "  495.018,1213.98 509.613,1301.65 524.207,1274.67 538.802,1359.63 553.396,1389.23 567.991,1446.71 582.585,1377.97 597.18,1384.63 611.774,1400.43 626.369,1322.21 \n",
       "  640.963,1268.3 655.558,1273.31 670.152,1289.84 684.747,1288.22 699.341,1255.5 713.936,1168.08 728.53,1174.8 743.125,1164.81 757.72,1156.31 772.314,1251.21 \n",
       "  786.909,1211.27 801.503,1121.51 816.098,1159.58 830.692,1147.77 845.287,1182.35 859.881,1227.86 874.476,1136.46 889.07,1142.98 903.665,1224.68 918.259,1235.43 \n",
       "  932.854,1156.16 947.448,1172.53 962.043,1099.33 976.638,1170.75 991.232,1231.1 1005.83,1151.43 1020.42,1046.99 1035.02,1089.42 1049.61,1094.82 1064.2,1039.27 \n",
       "  1078.8,1032.3 1093.39,960.415 1107.99,1032.8 1122.58,1044.64 1137.18,1006.51 1151.77,1046.7 1166.37,958.458 1180.96,879.119 1195.56,860.243 1210.15,848.138 \n",
       "  1224.74,837.103 1239.34,864.262 1253.93,896.207 1268.53,960.175 1283.12,1086.03 1297.72,1150.24 1312.31,1135.04 1326.91,1099.44 1341.5,1127.08 1356.1,1140.28 \n",
       "  1370.69,1109.83 1385.28,1093.18 1399.88,908.961 1414.47,854.667 1429.07,1018.51 1443.66,1087.05 1458.26,1081.95 1472.85,849.906 1487.45,901.756 1502.04,867.059 \n",
       "  1516.64,865.011 1531.23,935.003 1545.82,1010.14 1560.42,1022.54 1575.01,1030.24 1589.61,1033.5 1604.2,929.962 1618.8,846.874 1633.39,772.283 1647.99,825.37 \n",
       "  1662.58,890.163 1677.18,758.74 1691.77,766.587 1706.36,889.501 1720.96,903.57 1735.55,850.728 1750.15,806.309 1764.74,720.944 1779.34,714.533 1793.93,559.352 \n",
       "  1808.53,412.587 1823.12,363.57 1837.71,475.617 1852.31,580.67 1866.9,632.217 1881.5,634.974 1896.09,485.285 1910.69,410.304 1925.28,456.197 1939.88,617.376 \n",
       "  1954.47,620.765 1969.07,608.894 1983.66,525.825 1998.25,574.519 2012.85,488.752 2027.44,422.221 2042.04,400.448 2056.63,426.177 2071.23,490.064 2085.82,490.674 \n",
       "  2100.42,443.383 2115.01,456.547 2129.61,520.709 2144.2,553.126 2158.79,555.644 2173.39,529.374 2187.98,434.526 2202.58,391.197 2217.17,487.207 2231.77,466.228 \n",
       "  2246.36,546.249 2260.96,583.429 2275.55,556.366 2290.15,545.943 \n",
       "  \"/>\n",
       "<polyline clip-path=\"url(#clip1302)\" style=\"stroke:#3da44d; stroke-width:4; stroke-opacity:1; fill:none\" points=\"\n",
       "  203.127,1215.54 217.722,1166.68 232.316,1182.27 246.911,1180.15 261.505,1191.8 276.1,1169.67 290.695,1156.67 305.289,1182.81 319.884,1187.8 334.478,1062.72 \n",
       "  349.073,1111.24 363.667,1119.42 378.262,1153.35 392.856,1316.21 407.451,1325.16 422.045,1301.5 436.64,1245.69 451.234,1253.1 465.829,1201.5 480.423,1138.53 \n",
       "  495.018,1159.25 509.613,1241.6 524.207,1239.51 538.802,1307.3 553.396,1357.25 567.991,1409.79 582.585,1339.99 597.18,1354.93 611.774,1369.27 626.369,1300.77 \n",
       "  640.963,1253.6 655.558,1251.25 670.152,1272.73 684.747,1207.14 699.341,1101.37 713.936,1154.24 728.53,1160.56 743.125,1127.6 757.72,1078.14 772.314,1186.65 \n",
       "  786.909,1115.23 801.503,1111.21 816.098,1128.13 830.692,1125.75 845.287,1149.51 859.881,1167.25 874.476,1106.97 889.07,1122.36 903.665,1134.84 918.259,1135.93 \n",
       "  932.854,1128.53 947.448,1129.41 962.043,1078.29 976.638,1083.59 991.232,1129.73 1005.83,960.928 1020.42,988.929 1035.02,1044.49 1049.61,1039.22 1064.2,968.168 \n",
       "  1078.8,962.048 1093.39,883.839 1107.99,1000.96 1122.58,975.702 1137.18,936.659 1151.77,977.209 1166.37,824.706 1180.96,738.96 1195.56,735.711 1210.15,729.46 \n",
       "  1224.74,706.658 1239.34,770.22 1253.93,870.2 1268.53,921.029 1283.12,1037.93 1297.72,1105.71 1312.31,1087.66 1326.91,1067.25 1341.5,1110.67 1356.1,1123.79 \n",
       "  1370.69,1060.64 1385.28,857.437 1399.88,756.348 1414.47,760.559 1429.07,914.976 1443.66,1051.65 1458.26,1025.6 1472.85,730.574 1487.45,858.235 1502.04,834.756 \n",
       "  1516.64,806.866 1531.23,897.408 1545.82,964.874 1560.42,983.323 1575.01,998.516 1589.61,928.232 1604.2,805.713 1618.8,689.825 1633.39,712.325 1647.99,801.478 \n",
       "  1662.58,723.448 1677.18,558.11 1691.77,662.64 1706.36,828.813 1720.96,803.29 1735.55,824.016 1750.15,657.514 1764.74,630.623 1779.34,547.744 1793.93,371.53 \n",
       "  1808.53,293.982 1823.12,227.831 1837.71,344.265 1852.31,499.86 1866.9,585.56 1881.5,543.535 1896.09,345.947 1910.69,270.395 1925.28,330.104 1939.88,572.155 \n",
       "  1954.47,601.233 1969.07,447.796 1983.66,453.765 1998.25,445.691 2012.85,358.468 2027.44,287.094 2042.04,349.211 2056.63,250.317 2071.23,379.17 2085.82,288.605 \n",
       "  2100.42,328.5 2115.01,395.617 2129.61,432.874 2144.2,507.628 2158.79,515.352 2173.39,467.594 2187.98,368.926 2202.58,280.254 2217.17,417.826 2231.77,417.899 \n",
       "  2246.36,490.379 2260.96,522.668 2275.55,475.834 2290.15,393.842 \n",
       "  \"/>\n",
       "<path clip-path=\"url(#clip1300)\" d=\"\n",
       "M1735.78 372.684 L2280.76 372.684 L2280.76 130.764 L1735.78 130.764  Z\n",
       "  \" fill=\"#ffffff\" fill-rule=\"evenodd\" fill-opacity=\"1\"/>\n",
       "<polyline clip-path=\"url(#clip1300)\" style=\"stroke:#000000; stroke-width:4; stroke-opacity:1; fill:none\" points=\"\n",
       "  1735.78,372.684 2280.76,372.684 2280.76,130.764 1735.78,130.764 1735.78,372.684 \n",
       "  \"/>\n",
       "<polyline clip-path=\"url(#clip1300)\" style=\"stroke:#009af9; stroke-width:4; stroke-opacity:1; fill:none\" points=\"\n",
       "  1759.78,191.244 1903.78,191.244 \n",
       "  \"/>\n",
       "<g clip-path=\"url(#clip1300)\">\n",
       "<text style=\"fill:#000000; fill-opacity:1; font-family:Arial,Helvetica Neue,Helvetica,sans-serif; font-size:48px; text-anchor:start;\" transform=\"rotate(0, 1927.78, 208.744)\" x=\"1927.78\" y=\"208.744\">y1</text>\n",
       "</g>\n",
       "<polyline clip-path=\"url(#clip1300)\" style=\"stroke:#e26f46; stroke-width:4; stroke-opacity:1; fill:none\" points=\"\n",
       "  1759.78,251.724 1903.78,251.724 \n",
       "  \"/>\n",
       "<g clip-path=\"url(#clip1300)\">\n",
       "<text style=\"fill:#000000; fill-opacity:1; font-family:Arial,Helvetica Neue,Helvetica,sans-serif; font-size:48px; text-anchor:start;\" transform=\"rotate(0, 1927.78, 269.224)\" x=\"1927.78\" y=\"269.224\">y2</text>\n",
       "</g>\n",
       "<polyline clip-path=\"url(#clip1300)\" style=\"stroke:#3da44d; stroke-width:4; stroke-opacity:1; fill:none\" points=\"\n",
       "  1759.78,312.204 1903.78,312.204 \n",
       "  \"/>\n",
       "<g clip-path=\"url(#clip1300)\">\n",
       "<text style=\"fill:#000000; fill-opacity:1; font-family:Arial,Helvetica Neue,Helvetica,sans-serif; font-size:48px; text-anchor:start;\" transform=\"rotate(0, 1927.78, 329.704)\" x=\"1927.78\" y=\"329.704\">souht_wall_int</text>\n",
       "</g>\n",
       "</svg>\n"
      ]
     },
     "execution_count": 35,
     "metadata": {},
     "output_type": "execute_result"
    }
   ],
   "source": [
    "node_name = \"souht_wall_int\"\n",
    "idx = m.id_to_index[node_name]\n",
    "\n",
    "y_min, y_avg, y_max = groupby_day(sol[:, idx], nbr_values_per_day)\n",
    "\n",
    "plot( t_min/day, y_max)\n",
    "plot!(t_min/day, y_min)\n",
    "plot!(t_min/day, y_avg, label=node_name)"
   ]
  },
  {
   "cell_type": "code",
   "execution_count": null,
   "metadata": {},
   "outputs": [],
   "source": []
  }
 ],
 "metadata": {
  "kernelspec": {
   "display_name": "Julia 1.3.1",
   "language": "julia",
   "name": "julia-1.3"
  },
  "language_info": {
   "file_extension": ".jl",
   "mimetype": "application/julia",
   "name": "julia",
   "version": "1.3.1"
  }
 },
 "nbformat": 4,
 "nbformat_minor": 4
}

{
 "cells": [
  {
   "cell_type": "code",
   "execution_count": 3,
   "metadata": {},
   "outputs": [],
   "source": [
    "#import Pkg; Pkg.add(\"BenchmarkTools\")"
   ]
  },
  {
   "cell_type": "code",
   "execution_count": 5,
   "metadata": {},
   "outputs": [],
   "source": [
    "#import Pkg; Pkg.add(\"CSV\")\n",
    "#Pkg.add(\"Plots\")\n",
    "#Pkg.add(\"PyPlot\")"
   ]
  },
  {
   "cell_type": "code",
   "execution_count": 4,
   "metadata": {},
   "outputs": [],
   "source": [
    "using BenchmarkTools"
   ]
  },
  {
   "cell_type": "code",
   "execution_count": 6,
   "metadata": {},
   "outputs": [],
   "source": [
    "using CSV"
   ]
  },
  {
   "cell_type": "code",
   "execution_count": 7,
   "metadata": {},
   "outputs": [
    {
     "name": "stderr",
     "output_type": "stream",
     "text": [
      "┌ Info: Precompiling Plots [91a5bcdd-55d7-5caf-9e0b-520d859cae80]\n",
      "└ @ Base loading.jl:1273\n"
     ]
    }
   ],
   "source": [
    "using Plots"
   ]
  },
  {
   "cell_type": "code",
   "execution_count": 22,
   "metadata": {},
   "outputs": [
    {
     "data": {
      "text/plain": [
       "surface_projection"
      ]
     },
     "execution_count": 22,
     "metadata": {},
     "output_type": "execute_result"
    }
   ],
   "source": [
    "deg_to_rad(theta) = theta * pi / 180.0\n",
    "\n",
    "\"\"\"\n",
    "Get the projection coefficient, cos(theta),\n",
    "for a given surface orientation and sun position\n",
    "\n",
    "sun_altitude:      sun altitude in degree (angle from horizon), degree\n",
    "sun_south_azimuth: sun azimuth relative to south, negative at east, degree\n",
    "\n",
    "surface_angle:     vertical angle of the surface, 0° is horizontal and 90° is vertical, degree\n",
    "surface_south_azimuth: azimuth of the surface, relative to south, with negative values\n",
    "                       in the southeast direction and positve values in the southwest\n",
    "\n",
    "Returns cos_theta such as  I = I_normal * cos_theta\n",
    "\"\"\"\n",
    "function surface_projection(sun_altitude, sun_south_azimuth,\n",
    "                            surface_angle, surface_south_azimuth)\n",
    "      \n",
    "    beta = deg_to_rad(sun_altitude)\n",
    "    phi_S = -deg_to_rad(sun_south_azimuth)\n",
    "    sigma = deg_to_rad(surface_angle)\n",
    "    phi_C = -deg_to_rad(surface_south_azimuth)\n",
    "    \n",
    "    cos_theta = cos(beta)*cos(phi_S - phi_C)*sin(sigma) + cos(sigma)*sin(beta)\n",
    "    return max(cos_theta, 0.0)\n",
    "end"
   ]
  },
  {
   "cell_type": "code",
   "execution_count": 23,
   "metadata": {},
   "outputs": [
    {
     "data": {
      "text/plain": [
       "build_interp1d"
      ]
     },
     "execution_count": 23,
     "metadata": {},
     "output_type": "execute_result"
    }
   ],
   "source": [
    "\"\"\" Linear interpolation\n",
    "\"\"\"\n",
    "function build_interp1d(x, y)\n",
    "    function interp1d_glob(t)\n",
    "        idx = searchsortedfirst(x, t)\n",
    "        if idx <= 1\n",
    "            return y[1]\n",
    "        elseif idx == length(x)+1\n",
    "            return y[end]\n",
    "        else\n",
    "            prev = idx-1\n",
    "            slope = (y[idx] - y[prev])/(x[idx] - x[prev])\n",
    "            return y[prev] + slope*(t - x[prev])\n",
    "        end\n",
    "    end\n",
    "    return interp1d_glob\n",
    "end"
   ]
  },
  {
   "cell_type": "code",
   "execution_count": 24,
   "metadata": {},
   "outputs": [
    {
     "name": "stdout",
     "output_type": "stream",
     "text": [
      "Symbol[Symbol(\"# Htsmd\"), :te0, :dirN]\n"
     ]
    }
   ],
   "source": [
    "path = \"./data/Fichiers_Meteo_RT2012/H1c_Macon.csv\"\n",
    "data = CSV.read(path; header=1);\n",
    "\n",
    "println(names(data))"
   ]
  },
  {
   "cell_type": "code",
   "execution_count": 25,
   "metadata": {},
   "outputs": [
    {
     "data": {
      "text/plain": [
       "(::var\"#interp1d_glob#13\"{Array{Float64,1},Array{Float64,1}}) (generic function with 1 method)"
      ]
     },
     "execution_count": 25,
     "metadata": {},
     "output_type": "execute_result"
    }
   ],
   "source": [
    "# Define interpolation function for weather data\n",
    "seconds_values = Array(data[!, 1]) * 60.0*60.0;\n",
    "Text_values = Array(data[!, 2]);\n",
    "directSun_values = Array(data[!, 3]);\n",
    "\n",
    "T_ext = build_interp1d(seconds_values, Text_values)\n",
    "solar_irrad = build_interp1d(seconds_values, directSun_values)"
   ]
  },
  {
   "cell_type": "code",
   "execution_count": 26,
   "metadata": {},
   "outputs": [
    {
     "name": "stderr",
     "output_type": "stream",
     "text": [
      "WARNING: replacing module SimuThermiqueSolver.\n",
      "WARNING: using SimuThermiqueSolver.add_conductance! in module Main conflicts with an existing identifier.\n",
      "WARNING: using SimuThermiqueSolver.add_simplethermalmass! in module Main conflicts with an existing identifier.\n",
      "WARNING: using SimuThermiqueSolver.add_composite_wall! in module Main conflicts with an existing identifier.\n",
      "WARNING: using SimuThermiqueSolver.Material in module Main conflicts with an existing identifier.\n",
      "WARNING: using SimuThermiqueSolver.add_convectivesource! in module Main conflicts with an existing identifier.\n",
      "WARNING: using SimuThermiqueSolver.add_simple_wall! in module Main conflicts with an existing identifier.\n",
      "WARNING: using SimuThermiqueSolver.init_solver in module Main conflicts with an existing identifier.\n",
      "WARNING: using SimuThermiqueSolver.Model in module Main conflicts with an existing identifier.\n",
      "WARNING: using SimuThermiqueSolver.add_directsource! in module Main conflicts with an existing identifier.\n",
      "WARNING: using SimuThermiqueSolver.iter! in module Main conflicts with an existing identifier.\n"
     ]
    }
   ],
   "source": [
    "include(\"SimuThermiqueSolver_src.jl\")\n",
    "using .SimuThermiqueSolver"
   ]
  },
  {
   "cell_type": "code",
   "execution_count": 27,
   "metadata": {},
   "outputs": [
    {
     "data": {
      "text/plain": [
       "86400.0"
      ]
     },
     "execution_count": 27,
     "metadata": {},
     "output_type": "execute_result"
    }
   ],
   "source": [
    "minute = 60.0\n",
    "hour = 60.0 * minute\n",
    "day = 24 * hour"
   ]
  },
  {
   "cell_type": "code",
   "execution_count": 28,
   "metadata": {},
   "outputs": [],
   "source": [
    "m = Model(dt=10minute)\n",
    "\n",
    "L = 3.0  # house size, meter\n",
    "\n",
    "air = Material(25e-3, 1.225, 1.0006)\n",
    "clay = Material(1.28, 880.0, 1450.0) # Clay\n",
    "roof_isolation = Material(0.036, 150.0, 2700.2)\n",
    "slab_isolation = Material(0.036, 150.0, 2700.2)\n",
    "wall_isolation = Material(0.036, 150.0, 2700.2)\n",
    "\n",
    "interior_air = add_simplethermalmass!(m, \"air\"; thermal_mass=air.rho*air.Cp*L^2)\n",
    "roof = add_simple_wall!(m, \"roof\", material=roof_isolation, thickness=.10, area=1.2*L)\n",
    "slab = add_composite_wall!(m, layers=[(\"slab_isol\", slab_isolation, 0.1),\n",
    "                                      (\"soil\", clay, 1.5*L)], area=1.0*L)\n",
    "south_wall = add_simple_wall!(m, \"souht_wall\", material=wall_isolation, thickness=0.10, area=L*0.5)\n",
    "\n",
    "h_exterior = 6.5\n",
    "h_interior_vertical = .7\n",
    "h_interior_horizontal = 2.5\n",
    "\n",
    "\n",
    "add_convectivesource!(m, roof.ext; Tsource=T_ext, hS=h_exterior*L)\n",
    "add_convectivesource!(m, south_wall.ext; Tsource=T_ext, hS=h_exterior*L)\n",
    "\n",
    "add_conductance!(m, roof.int, interior_air; UA=h_interior_vertical*L/2)\n",
    "add_conductance!(m, south_wall.int, interior_air; UA=h_interior_vertical*L/2)\n",
    "add_conductance!(m, slab.int, interior_air; UA=h_interior_horizontal*L)\n",
    "\n",
    "add_convectivesource!(m, slab.ext; Tsource=t->14, hS=10*h_exterior)\n",
    "\n",
    "add_directsource!(m, roof.ext, flux=t->0.8*solar_irrad(t)*L)\n",
    "add_directsource!(m, south_wall.ext, flux=t->0.4*solar_irrad(t)*L/2.0)"
   ]
  },
  {
   "cell_type": "code",
   "execution_count": null,
   "metadata": {},
   "outputs": [],
   "source": []
  },
  {
   "cell_type": "code",
   "execution_count": 29,
   "metadata": {},
   "outputs": [],
   "source": [
    "save = [roof.int, slab.int, interior_air];\n",
    "save_idx = map(x->m.id_to_index[x], save);"
   ]
  },
  {
   "cell_type": "code",
   "execution_count": 30,
   "metadata": {},
   "outputs": [
    {
     "data": {
      "text/plain": [
       "600.0"
      ]
     },
     "execution_count": 30,
     "metadata": {},
     "output_type": "execute_result"
    }
   ],
   "source": [
    "state = init_solver(m);\n",
    "\n",
    "# Burn (solve in reverse)\n",
    "state.dt = -state.dt\n",
    "state.t = 50day\n",
    "\n",
    "n_iter = Int(floor(state.t/m.dt));\n",
    "\n",
    "for k in 1:n_iter\n",
    "    iter!(state)\n",
    "end\n",
    "\n",
    "state.dt = -state.dt"
   ]
  },
  {
   "cell_type": "code",
   "execution_count": 32,
   "metadata": {},
   "outputs": [],
   "source": [
    "# solve\n",
    "n_iter = Int(floor(350day/m.dt));\n",
    "\n",
    "sol = zeros(n_iter, length(m.M))\n",
    "times = zeros(n_iter)\n",
    "for k in 1:n_iter\n",
    "    iter!(state)\n",
    "    sol[k, :] = state.T\n",
    "    times[k] = state.t\n",
    "end"
   ]
  },
  {
   "cell_type": "code",
   "execution_count": 33,
   "metadata": {},
   "outputs": [
    {
     "data": {
      "text/plain": [
       "groupby_day (generic function with 1 method)"
      ]
     },
     "execution_count": 33,
     "metadata": {},
     "output_type": "execute_result"
    }
   ],
   "source": [
    "function groupby_day(y, nbr_values_per_day)\n",
    "    y = reshape(y, (:, nbr_values_per_day));\n",
    "\n",
    "    y_max = maximum.(eachcol(y))\n",
    "    y_min = minimum.(eachcol(y))\n",
    "    y_avg = mean.(eachcol(y))\n",
    "    return y_min, y_avg, y_max\n",
    "end"
   ]
  },
  {
   "cell_type": "code",
   "execution_count": 34,
   "metadata": {},
   "outputs": [],
   "source": [
    "#plot(times/hour, sol, label=permutedims(save))\n",
    "#plot!(times/hour, [T_ext(t) for t in times], label=\"T_ext\")\n",
    "#plot!(times/hour, [0.01*solar_irrad(t) for t in times], label=\"solar\")"
   ]
  },
  {
   "cell_type": "markdown",
   "metadata": {},
   "source": [
    "MetaModel\n",
    "\n",
    "same as model but takes Params instead of values"
   ]
  },
  {
   "cell_type": "code",
   "execution_count": 36,
   "metadata": {},
   "outputs": [
    {
     "data": {
      "text/plain": [
       "([1.29606e7, 1.31706e7, 1.33806e7, 1.35906e7, 1.38006e7, 1.40106e7, 1.42206e7, 1.44306e7, 1.46406e7, 1.48506e7  …  4.11006e7, 4.13106e7, 4.15206e7, 4.17306e7, 4.19406e7, 4.21506e7, 4.23606e7, 4.25706e7, 4.27806e7, 4.29906e7], [1.30653e7, 1.32753e7, 1.34853e7, 1.36953e7, 1.39053e7, 1.41153e7, 1.43253e7, 1.45353e7, 1.47453e7, 1.49553e7  …  4.12053e7, 4.14153e7, 4.16253e7, 4.18353e7, 4.20453e7, 4.22553e7, 4.24653e7, 4.26753e7, 4.28853e7, 4.30953e7], [1.317e7, 1.338e7, 1.359e7, 1.38e7, 1.401e7, 1.422e7, 1.443e7, 1.464e7, 1.485e7, 1.506e7  …  4.131e7, 4.152e7, 4.173e7, 4.194e7, 4.215e7, 4.236e7, 4.257e7, 4.278e7, 4.299e7, 4.32e7])"
      ]
     },
     "execution_count": 36,
     "metadata": {},
     "output_type": "execute_result"
    }
   ],
   "source": [
    "dt = m.dt\n",
    "nbr_values_per_day = Int( day / dt )\n",
    "\n",
    "t_min, t_avg, t_max = groupby_day(times, nbr_values_per_day)"
   ]
  },
  {
   "cell_type": "code",
   "execution_count": 37,
   "metadata": {},
   "outputs": [
    {
     "data": {
      "text/plain": [
       "Dict{String,Int64} with 9 entries:\n",
       "  \"roof_ext\"       => 2\n",
       "  \"slab_isol_int\"  => 33\n",
       "  \"soil_int\"       => 218\n",
       "  \"souht_wall_ext\" => 220\n",
       "  \"souht_wall_int\" => 235\n",
       "  \"air\"            => 1\n",
       "  \"slab_isol_ext\"  => 18\n",
       "  \"soil_ext\"       => 33\n",
       "  \"roof_int\"       => 17"
      ]
     },
     "execution_count": 37,
     "metadata": {},
     "output_type": "execute_result"
    }
   ],
   "source": [
    "m.id_to_index"
   ]
  },
  {
   "cell_type": "code",
   "execution_count": 38,
   "metadata": {},
   "outputs": [
    {
     "data": {
      "image/svg+xml": [
       "<?xml version=\"1.0\" encoding=\"utf-8\"?>\n",
       "<svg xmlns=\"http://www.w3.org/2000/svg\" xmlns:xlink=\"http://www.w3.org/1999/xlink\" width=\"600\" height=\"400\" viewBox=\"0 0 2400 1600\">\n",
       "<defs>\n",
       "  <clipPath id=\"clip4200\">\n",
       "    <rect x=\"0\" y=\"0\" width=\"2400\" height=\"1600\"/>\n",
       "  </clipPath>\n",
       "</defs>\n",
       "<path clip-path=\"url(#clip4200)\" d=\"\n",
       "M0 1600 L2400 1600 L2400 0 L0 0  Z\n",
       "  \" fill=\"#ffffff\" fill-rule=\"evenodd\" fill-opacity=\"1\"/>\n",
       "<defs>\n",
       "  <clipPath id=\"clip4201\">\n",
       "    <rect x=\"480\" y=\"0\" width=\"1681\" height=\"1600\"/>\n",
       "  </clipPath>\n",
       "</defs>\n",
       "<path clip-path=\"url(#clip4200)\" d=\"\n",
       "M140.517 1487.47 L2352.76 1487.47 L2352.76 47.2441 L140.517 47.2441  Z\n",
       "  \" fill=\"#ffffff\" fill-rule=\"evenodd\" fill-opacity=\"1\"/>\n",
       "<defs>\n",
       "  <clipPath id=\"clip4202\">\n",
       "    <rect x=\"140\" y=\"47\" width=\"2213\" height=\"1441\"/>\n",
       "  </clipPath>\n",
       "</defs>\n",
       "<polyline clip-path=\"url(#clip4202)\" style=\"stroke:#000000; stroke-width:2; stroke-opacity:0.1; fill:none\" points=\"\n",
       "  503.316,1487.47 503.316,47.2441 \n",
       "  \"/>\n",
       "<polyline clip-path=\"url(#clip4202)\" style=\"stroke:#000000; stroke-width:2; stroke-opacity:0.1; fill:none\" points=\"\n",
       "  1103.78,1487.47 1103.78,47.2441 \n",
       "  \"/>\n",
       "<polyline clip-path=\"url(#clip4202)\" style=\"stroke:#000000; stroke-width:2; stroke-opacity:0.1; fill:none\" points=\"\n",
       "  1704.24,1487.47 1704.24,47.2441 \n",
       "  \"/>\n",
       "<polyline clip-path=\"url(#clip4202)\" style=\"stroke:#000000; stroke-width:2; stroke-opacity:0.1; fill:none\" points=\"\n",
       "  2304.7,1487.47 2304.7,47.2441 \n",
       "  \"/>\n",
       "<polyline clip-path=\"url(#clip4202)\" style=\"stroke:#000000; stroke-width:2; stroke-opacity:0.1; fill:none\" points=\"\n",
       "  140.517,1268.5 2352.76,1268.5 \n",
       "  \"/>\n",
       "<polyline clip-path=\"url(#clip4202)\" style=\"stroke:#000000; stroke-width:2; stroke-opacity:0.1; fill:none\" points=\"\n",
       "  140.517,1006.91 2352.76,1006.91 \n",
       "  \"/>\n",
       "<polyline clip-path=\"url(#clip4202)\" style=\"stroke:#000000; stroke-width:2; stroke-opacity:0.1; fill:none\" points=\"\n",
       "  140.517,745.325 2352.76,745.325 \n",
       "  \"/>\n",
       "<polyline clip-path=\"url(#clip4202)\" style=\"stroke:#000000; stroke-width:2; stroke-opacity:0.1; fill:none\" points=\"\n",
       "  140.517,483.738 2352.76,483.738 \n",
       "  \"/>\n",
       "<polyline clip-path=\"url(#clip4202)\" style=\"stroke:#000000; stroke-width:2; stroke-opacity:0.1; fill:none\" points=\"\n",
       "  140.517,222.151 2352.76,222.151 \n",
       "  \"/>\n",
       "<polyline clip-path=\"url(#clip4200)\" style=\"stroke:#000000; stroke-width:4; stroke-opacity:1; fill:none\" points=\"\n",
       "  140.517,1487.47 2352.76,1487.47 \n",
       "  \"/>\n",
       "<polyline clip-path=\"url(#clip4200)\" style=\"stroke:#000000; stroke-width:4; stroke-opacity:1; fill:none\" points=\"\n",
       "  140.517,1487.47 140.517,47.2441 \n",
       "  \"/>\n",
       "<polyline clip-path=\"url(#clip4200)\" style=\"stroke:#000000; stroke-width:4; stroke-opacity:1; fill:none\" points=\"\n",
       "  503.316,1487.47 503.316,1470.19 \n",
       "  \"/>\n",
       "<polyline clip-path=\"url(#clip4200)\" style=\"stroke:#000000; stroke-width:4; stroke-opacity:1; fill:none\" points=\"\n",
       "  1103.78,1487.47 1103.78,1470.19 \n",
       "  \"/>\n",
       "<polyline clip-path=\"url(#clip4200)\" style=\"stroke:#000000; stroke-width:4; stroke-opacity:1; fill:none\" points=\"\n",
       "  1704.24,1487.47 1704.24,1470.19 \n",
       "  \"/>\n",
       "<polyline clip-path=\"url(#clip4200)\" style=\"stroke:#000000; stroke-width:4; stroke-opacity:1; fill:none\" points=\"\n",
       "  2304.7,1487.47 2304.7,1470.19 \n",
       "  \"/>\n",
       "<polyline clip-path=\"url(#clip4200)\" style=\"stroke:#000000; stroke-width:4; stroke-opacity:1; fill:none\" points=\"\n",
       "  140.517,1268.5 167.064,1268.5 \n",
       "  \"/>\n",
       "<polyline clip-path=\"url(#clip4200)\" style=\"stroke:#000000; stroke-width:4; stroke-opacity:1; fill:none\" points=\"\n",
       "  140.517,1006.91 167.064,1006.91 \n",
       "  \"/>\n",
       "<polyline clip-path=\"url(#clip4200)\" style=\"stroke:#000000; stroke-width:4; stroke-opacity:1; fill:none\" points=\"\n",
       "  140.517,745.325 167.064,745.325 \n",
       "  \"/>\n",
       "<polyline clip-path=\"url(#clip4200)\" style=\"stroke:#000000; stroke-width:4; stroke-opacity:1; fill:none\" points=\"\n",
       "  140.517,483.738 167.064,483.738 \n",
       "  \"/>\n",
       "<polyline clip-path=\"url(#clip4200)\" style=\"stroke:#000000; stroke-width:4; stroke-opacity:1; fill:none\" points=\"\n",
       "  140.517,222.151 167.064,222.151 \n",
       "  \"/>\n",
       "<g clip-path=\"url(#clip4200)\">\n",
       "<text style=\"fill:#000000; fill-opacity:1; font-family:Arial,Helvetica Neue,Helvetica,sans-serif; font-size:48px; text-anchor:middle;\" transform=\"rotate(0, 503.316, 1541.47)\" x=\"503.316\" y=\"1541.47\">200</text>\n",
       "</g>\n",
       "<g clip-path=\"url(#clip4200)\">\n",
       "<text style=\"fill:#000000; fill-opacity:1; font-family:Arial,Helvetica Neue,Helvetica,sans-serif; font-size:48px; text-anchor:middle;\" transform=\"rotate(0, 1103.78, 1541.47)\" x=\"1103.78\" y=\"1541.47\">300</text>\n",
       "</g>\n",
       "<g clip-path=\"url(#clip4200)\">\n",
       "<text style=\"fill:#000000; fill-opacity:1; font-family:Arial,Helvetica Neue,Helvetica,sans-serif; font-size:48px; text-anchor:middle;\" transform=\"rotate(0, 1704.24, 1541.47)\" x=\"1704.24\" y=\"1541.47\">400</text>\n",
       "</g>\n",
       "<g clip-path=\"url(#clip4200)\">\n",
       "<text style=\"fill:#000000; fill-opacity:1; font-family:Arial,Helvetica Neue,Helvetica,sans-serif; font-size:48px; text-anchor:middle;\" transform=\"rotate(0, 2304.7, 1541.47)\" x=\"2304.7\" y=\"1541.47\">500</text>\n",
       "</g>\n",
       "<g clip-path=\"url(#clip4200)\">\n",
       "<text style=\"fill:#000000; fill-opacity:1; font-family:Arial,Helvetica Neue,Helvetica,sans-serif; font-size:48px; text-anchor:end;\" transform=\"rotate(0, 116.517, 1286)\" x=\"116.517\" y=\"1286\">10</text>\n",
       "</g>\n",
       "<g clip-path=\"url(#clip4200)\">\n",
       "<text style=\"fill:#000000; fill-opacity:1; font-family:Arial,Helvetica Neue,Helvetica,sans-serif; font-size:48px; text-anchor:end;\" transform=\"rotate(0, 116.517, 1024.41)\" x=\"116.517\" y=\"1024.41\">12</text>\n",
       "</g>\n",
       "<g clip-path=\"url(#clip4200)\">\n",
       "<text style=\"fill:#000000; fill-opacity:1; font-family:Arial,Helvetica Neue,Helvetica,sans-serif; font-size:48px; text-anchor:end;\" transform=\"rotate(0, 116.517, 762.825)\" x=\"116.517\" y=\"762.825\">14</text>\n",
       "</g>\n",
       "<g clip-path=\"url(#clip4200)\">\n",
       "<text style=\"fill:#000000; fill-opacity:1; font-family:Arial,Helvetica Neue,Helvetica,sans-serif; font-size:48px; text-anchor:end;\" transform=\"rotate(0, 116.517, 501.238)\" x=\"116.517\" y=\"501.238\">16</text>\n",
       "</g>\n",
       "<g clip-path=\"url(#clip4200)\">\n",
       "<text style=\"fill:#000000; fill-opacity:1; font-family:Arial,Helvetica Neue,Helvetica,sans-serif; font-size:48px; text-anchor:end;\" transform=\"rotate(0, 116.517, 239.651)\" x=\"116.517\" y=\"239.651\">18</text>\n",
       "</g>\n",
       "<polyline clip-path=\"url(#clip4202)\" style=\"stroke:#009af9; stroke-width:4; stroke-opacity:1; fill:none\" points=\"\n",
       "  203.127,873.483 217.722,840.09 232.316,892.114 246.911,821.425 261.505,777.297 276.1,741.496 290.695,702.97 305.289,545.866 319.884,393.903 334.478,426.312 \n",
       "  349.073,591.458 363.667,508.024 378.262,500.879 392.856,437.312 407.451,479.508 422.045,501.982 436.64,488.208 451.234,488.306 465.829,404.386 480.423,400.119 \n",
       "  495.018,472.352 509.613,383.128 524.207,219.014 538.802,227.882 553.396,231.578 567.991,162.08 582.585,156.314 597.18,170.447 611.774,150.606 626.369,166.428 \n",
       "  640.963,242.315 655.558,242.769 670.152,333.504 684.747,289.305 699.341,195.608 713.936,153.763 728.53,164.387 743.125,88.0053 757.72,88.477 772.314,124.508 \n",
       "  786.909,190.301 801.503,234.119 816.098,291.261 830.692,219.254 845.287,191.385 859.881,111.602 874.476,134.464 889.07,200.255 903.665,308.121 918.259,370.713 \n",
       "  932.854,280.766 947.448,292.455 962.043,377.356 976.638,361.852 991.232,396.329 1005.83,427.141 1020.42,398.013 1035.02,396.776 1049.61,393.415 1064.2,504.359 \n",
       "  1078.8,541.606 1093.39,519.298 1107.99,524.573 1122.58,511.617 1137.18,566.844 1151.77,573.851 1166.37,645.543 1180.96,660.264 1195.56,660.291 1210.15,709.168 \n",
       "  1224.74,735.014 1239.34,765.571 1253.93,778.328 1268.53,837.029 1283.12,842.871 1297.72,883.146 1312.31,920.911 1326.91,931.266 1341.5,940.01 1356.1,930.944 \n",
       "  1370.69,955.182 1385.28,944.345 1399.88,943.416 1414.47,936.309 1429.07,959.515 1443.66,1005.46 1458.26,1017.42 1472.85,1022.77 1487.45,1049.35 1502.04,1081.3 \n",
       "  1516.64,1110.5 1531.23,1132.26 1545.82,1150.34 1560.42,1166.21 1575.01,1180.5 1589.61,1193.58 1604.2,1205.68 1618.8,1216.95 1633.39,1227.52 1647.99,1237.46 \n",
       "  1662.58,1246.87 1677.18,1255.78 1691.77,1264.25 1706.36,1272.32 1720.96,1280.02 1735.55,1287.39 1750.15,1294.45 1764.74,1301.22 1779.34,1307.72 1793.93,1313.97 \n",
       "  1808.53,1319.99 1823.12,1325.79 1837.71,1331.38 1852.31,1336.78 1866.9,1342 1881.5,1347.05 1896.09,1351.94 1910.69,1356.67 1925.28,1361.26 1939.88,1365.71 \n",
       "  1954.47,1370.03 1969.07,1374.23 1983.66,1378.3 1998.25,1382.27 2012.85,1386.12 2027.44,1389.88 2042.04,1393.53 2056.63,1397.1 2071.23,1400.57 2085.82,1403.96 \n",
       "  2100.42,1407.27 2115.01,1410.5 2129.61,1413.66 2144.2,1416.74 2158.79,1419.76 2173.39,1422.71 2187.98,1425.6 2202.58,1428.43 2217.17,1431.2 2231.77,1433.91 \n",
       "  2246.36,1436.57 2260.96,1439.18 2275.55,1441.74 2290.15,1444.25 \n",
       "  \"/>\n",
       "<polyline clip-path=\"url(#clip4202)\" style=\"stroke:#e26f46; stroke-width:4; stroke-opacity:1; fill:none\" points=\"\n",
       "  203.127,1009.03 217.722,891.759 232.316,1018.33 246.911,1024.94 261.505,828.793 276.1,818.985 290.695,758.808 305.289,751.461 319.884,545.635 334.478,590.904 \n",
       "  349.073,683.016 363.667,651.403 378.262,535.197 392.856,533.266 407.451,531.703 422.045,567.179 436.64,598.36 451.234,553.429 465.829,552.431 480.423,472.156 \n",
       "  495.018,512.677 509.613,523.813 524.207,382.917 538.802,281.719 553.396,273.146 567.991,235.387 582.585,202.532 597.18,202.011 611.774,202.576 626.369,283.886 \n",
       "  640.963,313.978 655.558,333.387 670.152,393.349 684.747,377.565 699.341,292.234 713.936,206.919 728.53,201.725 743.125,176.676 757.72,140.75 772.314,191.122 \n",
       "  786.909,240.381 801.503,300.559 816.098,318.827 830.692,328.328 845.287,237.083 859.881,194.058 874.476,213.036 889.07,307.705 903.665,370.526 918.259,425.03 \n",
       "  932.854,403.806 947.448,384.544 962.043,413.602 976.638,396.044 991.232,460.071 1005.83,477.878 1020.42,429.817 1035.02,424.468 1049.61,504.106 1064.2,542.818 \n",
       "  1078.8,554.169 1093.39,559.242 1107.99,556.31 1122.58,566.527 1137.18,587.015 1151.77,645.329 1166.37,690.201 1180.96,688.898 1195.56,709.034 1210.15,734.953 \n",
       "  1224.74,765.556 1239.34,778.221 1253.93,843.298 1268.53,853.811 1283.12,882.882 1297.72,924.875 1312.31,931.25 1326.91,958.013 1341.5,979.461 1356.1,957.96 \n",
       "  1370.69,974.149 1385.28,955.566 1399.88,967.998 1414.47,959.5 1429.07,1005.21 1443.66,1021.73 1458.26,1028.27 1472.85,1066.53 1487.45,1081.2 1502.04,1110.43 \n",
       "  1516.64,1132.2 1531.23,1150.29 1545.82,1166.16 1560.42,1180.46 1575.01,1193.55 1589.61,1205.65 1604.2,1216.92 1618.8,1227.49 1633.39,1237.44 1647.99,1246.84 \n",
       "  1662.58,1255.75 1677.18,1264.22 1691.77,1272.3 1706.36,1280 1720.96,1287.37 1735.55,1294.43 1750.15,1301.2 1764.74,1307.7 1779.34,1313.95 1793.93,1319.97 \n",
       "  1808.53,1325.77 1823.12,1331.37 1837.71,1336.77 1852.31,1341.99 1866.9,1347.04 1881.5,1351.93 1896.09,1356.66 1910.69,1361.25 1925.28,1365.7 1939.88,1370.02 \n",
       "  1954.47,1374.21 1969.07,1378.29 1983.66,1382.25 1998.25,1386.11 2012.85,1389.87 2027.44,1393.52 2042.04,1397.09 2056.63,1400.56 2071.23,1403.95 2085.82,1407.26 \n",
       "  2100.42,1410.49 2115.01,1413.65 2129.61,1416.74 2144.2,1419.75 2158.79,1422.7 2173.39,1425.59 2187.98,1428.42 2202.58,1431.19 2217.17,1433.91 2231.77,1436.57 \n",
       "  2246.36,1439.18 2260.96,1441.74 2275.55,1444.25 2290.15,1446.71 \n",
       "  \"/>\n",
       "<polyline clip-path=\"url(#clip4202)\" style=\"stroke:#3da44d; stroke-width:4; stroke-opacity:1; fill:none\" points=\"\n",
       "  203.127,915.854 217.722,859.455 232.316,961.663 246.911,944.3 261.505,804.793 276.1,784.722 290.695,730.897 305.289,668.352 319.884,449.731 334.478,510.721 \n",
       "  349.073,652.812 363.667,571.302 378.262,513.516 392.856,475.797 407.451,503.004 422.045,523.96 436.64,551.671 451.234,519.113 465.829,494.629 480.423,437.211 \n",
       "  495.018,497.643 509.613,475.243 524.207,280.712 538.802,264.505 553.396,244.756 567.991,183.489 582.585,174.524 597.18,181.826 611.774,171.901 626.369,216.688 \n",
       "  640.963,282.311 655.558,289.221 670.152,368.85 684.747,332.335 699.341,235.476 713.936,174.445 728.53,182.855 743.125,128.603 757.72,107.759 772.314,157.472 \n",
       "  786.909,213.136 801.503,260.604 816.098,301.123 830.692,290.763 845.287,209.755 859.881,146.7 874.476,185.719 889.07,252.04 903.665,335.099 918.259,402.374 \n",
       "  932.854,324.135 947.448,341.674 962.043,393.45 976.638,373.723 991.232,434.739 1005.83,455.393 1020.42,412.371 1035.02,406.912 1049.61,445.087 1064.2,524.968 \n",
       "  1078.8,548.446 1093.39,541.575 1107.99,544.295 1122.58,531.339 1137.18,577.96 1151.77,604.709 1166.37,674.731 1180.96,682.192 1195.56,687.033 1210.15,724.061 \n",
       "  1224.74,748.71 1239.34,770.585 1253.93,808.919 1268.53,845.585 1283.12,853.695 1297.72,908.173 1312.31,924.879 1326.91,943.619 1341.5,962.731 1356.1,941.023 \n",
       "  1370.69,967.194 1385.28,948.676 1399.88,955.242 1414.47,948.807 1429.07,974.213 1443.66,1018.05 1458.26,1024.41 1472.85,1041.57 1487.45,1063.01 1502.04,1096.73 \n",
       "  1516.64,1121.76 1531.23,1141.5 1545.82,1158.4 1560.42,1173.45 1575.01,1187.11 1589.61,1199.69 1604.2,1211.36 1618.8,1222.27 1633.39,1232.52 1647.99,1242.19 \n",
       "  1662.58,1251.35 1677.18,1260.04 1691.77,1268.3 1706.36,1276.19 1720.96,1283.72 1735.55,1290.93 1750.15,1297.84 1764.74,1304.48 1779.34,1310.85 1793.93,1316.99 \n",
       "  1808.53,1322.9 1823.12,1328.59 1837.71,1334.09 1852.31,1339.4 1866.9,1344.54 1881.5,1349.5 1896.09,1354.31 1910.69,1358.97 1925.28,1363.49 1939.88,1367.88 \n",
       "  1954.47,1372.13 1969.07,1376.27 1983.66,1380.29 1998.25,1384.2 2012.85,1388 2027.44,1391.71 2042.04,1395.32 2056.63,1398.84 2071.23,1402.27 2085.82,1405.62 \n",
       "  2100.42,1408.89 2115.01,1412.08 2129.61,1415.2 2144.2,1418.25 2158.79,1421.24 2173.39,1424.16 2187.98,1427.02 2202.58,1429.81 2217.17,1432.56 2231.77,1435.24 \n",
       "  2246.36,1437.88 2260.96,1440.46 2275.55,1443 2290.15,1445.49 \n",
       "  \"/>\n",
       "<path clip-path=\"url(#clip4200)\" d=\"\n",
       "M1890.96 372.684 L2280.76 372.684 L2280.76 130.764 L1890.96 130.764  Z\n",
       "  \" fill=\"#ffffff\" fill-rule=\"evenodd\" fill-opacity=\"1\"/>\n",
       "<polyline clip-path=\"url(#clip4200)\" style=\"stroke:#000000; stroke-width:4; stroke-opacity:1; fill:none\" points=\"\n",
       "  1890.96,372.684 2280.76,372.684 2280.76,130.764 1890.96,130.764 1890.96,372.684 \n",
       "  \"/>\n",
       "<polyline clip-path=\"url(#clip4200)\" style=\"stroke:#009af9; stroke-width:4; stroke-opacity:1; fill:none\" points=\"\n",
       "  1914.96,191.244 2058.96,191.244 \n",
       "  \"/>\n",
       "<g clip-path=\"url(#clip4200)\">\n",
       "<text style=\"fill:#000000; fill-opacity:1; font-family:Arial,Helvetica Neue,Helvetica,sans-serif; font-size:48px; text-anchor:start;\" transform=\"rotate(0, 2082.96, 208.744)\" x=\"2082.96\" y=\"208.744\">y1</text>\n",
       "</g>\n",
       "<polyline clip-path=\"url(#clip4200)\" style=\"stroke:#e26f46; stroke-width:4; stroke-opacity:1; fill:none\" points=\"\n",
       "  1914.96,251.724 2058.96,251.724 \n",
       "  \"/>\n",
       "<g clip-path=\"url(#clip4200)\">\n",
       "<text style=\"fill:#000000; fill-opacity:1; font-family:Arial,Helvetica Neue,Helvetica,sans-serif; font-size:48px; text-anchor:start;\" transform=\"rotate(0, 2082.96, 269.224)\" x=\"2082.96\" y=\"269.224\">y2</text>\n",
       "</g>\n",
       "<polyline clip-path=\"url(#clip4200)\" style=\"stroke:#3da44d; stroke-width:4; stroke-opacity:1; fill:none\" points=\"\n",
       "  1914.96,312.204 2058.96,312.204 \n",
       "  \"/>\n",
       "<g clip-path=\"url(#clip4200)\">\n",
       "<text style=\"fill:#000000; fill-opacity:1; font-family:Arial,Helvetica Neue,Helvetica,sans-serif; font-size:48px; text-anchor:start;\" transform=\"rotate(0, 2082.96, 329.704)\" x=\"2082.96\" y=\"329.704\">soil_int</text>\n",
       "</g>\n",
       "</svg>\n"
      ]
     },
     "execution_count": 38,
     "metadata": {},
     "output_type": "execute_result"
    }
   ],
   "source": [
    "node_name = \"soil_int\"\n",
    "idx = m.id_to_index[node_name]\n",
    "\n",
    "y_min, y_avg, y_max = groupby_day(sol[:, idx], nbr_values_per_day)\n",
    "\n",
    "plot( t_min/day, y_max)\n",
    "plot!(t_min/day, y_min)\n",
    "plot!(t_min/day, y_avg, label=node_name)"
   ]
  },
  {
   "cell_type": "code",
   "execution_count": null,
   "metadata": {},
   "outputs": [],
   "source": []
  }
 ],
 "metadata": {
  "kernelspec": {
   "display_name": "Julia 1.3.1",
   "language": "julia",
   "name": "julia-1.3"
  },
  "language_info": {
   "file_extension": ".jl",
   "mimetype": "application/julia",
   "name": "julia",
   "version": "1.3.1"
  }
 },
 "nbformat": 4,
 "nbformat_minor": 4
}

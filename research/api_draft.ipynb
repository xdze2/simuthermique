{
 "cells": [
  {
   "cell_type": "code",
   "execution_count": 40,
   "metadata": {},
   "outputs": [],
   "source": [
    "using LinearAlgebra"
   ]
  },
  {
   "cell_type": "code",
   "execution_count": 3,
   "metadata": {},
   "outputs": [
    {
     "ename": "UndefVarError",
     "evalue": "UndefVarError: Material not defined",
     "output_type": "error",
     "traceback": [
      "UndefVarError: Material not defined",
      "",
      "Stacktrace:",
      " [1] top-level scope at In[3]:1"
     ]
    }
   ],
   "source": [
    "mat1 = Material(k, rho, Cp)\n",
    "mat2 = Material(...)\n",
    "\n",
    "model = Model()\n",
    "\n",
    "add_wall(model\n",
    "         label=\"mur ext\",    # not an id\n",
    "         thickness=.2, #  m\n",
    "         surface=3,    #  m2\n",
    "         material=mat1)\n",
    "\n",
    "add_wall(model\n",
    "         name=\"mur int\",   \n",
    "         thickness=.3,\n",
    "         material=mat1)\n",
    "--> create node  mux_ext, mur_int\n",
    "\n",
    "add_simple_mass(model, name, mass)\n",
    "\n",
    "connect(nodeA, nodeB) -->\n",
    "\n",
    "or\n",
    "stack( wallA, wallB)"
   ]
  },
  {
   "cell_type": "code",
   "execution_count": null,
   "metadata": {},
   "outputs": [],
   "source": [
    "add_conduction_surfacique(R, surface, nodeA, nodeB)\n",
    "add_conduction_line(phi, length, nodeA, nodeB)\n",
    "\n",
    "add_heat_source(model, node, phi(t))\n",
    "\n",
    "fix_temperature(nodeC, T(t))"
   ]
  },
  {
   "cell_type": "code",
   "execution_count": null,
   "metadata": {},
   "outputs": [],
   "source": [
    "add_convection(h,\n",
    "               surface, \n",
    "               \"nodeA\",\n",
    "                get_T_ext)"
   ]
  },
  {
   "cell_type": "code",
   "execution_count": 1,
   "metadata": {},
   "outputs": [],
   "source": [
    "struct SimpleThermalMass\n",
    "   mass_th # rhoCp V \n",
    "   label\n",
    "end\n",
    "\n",
    "struct Wall\n",
    "   mat\n",
    "   thickness\n",
    "   label\n",
    "end"
   ]
  },
  {
   "cell_type": "code",
   "execution_count": 3,
   "metadata": {},
   "outputs": [
    {
     "data": {
      "text/plain": [
       "Wall"
      ]
     },
     "execution_count": 3,
     "metadata": {},
     "output_type": "execute_result"
    }
   ],
   "source": [
    "SimpleThermalMass(mass_th) = SimpleThermalMass(mass_th, \"\")\n",
    "Wall(mat, thickness) = Wall(mat, thickness, \"\")"
   ]
  },
  {
   "cell_type": "code",
   "execution_count": 7,
   "metadata": {},
   "outputs": [
    {
     "data": {
      "text/plain": [
       "Model"
      ]
     },
     "execution_count": 7,
     "metadata": {},
     "output_type": "execute_result"
    }
   ],
   "source": [
    "struct Model\n",
    "    simple_masses\n",
    "    walls\n",
    "    sources\n",
    "    resistances\n",
    "end\n",
    "\n",
    "Model() = Model(Dict(), Dict(), Dict(), [])"
   ]
  },
  {
   "cell_type": "code",
   "execution_count": 8,
   "metadata": {},
   "outputs": [
    {
     "data": {
      "text/plain": [
       "Model(Dict{Any,Any}(), Dict{Any,Any}(), Dict{Any,Any}(), Any[])"
      ]
     },
     "execution_count": 8,
     "metadata": {},
     "output_type": "execute_result"
    }
   ],
   "source": []
  },
  {
   "cell_type": "code",
   "execution_count": 33,
   "metadata": {},
   "outputs": [
    {
     "data": {
      "text/plain": [
       "add! (generic function with 2 methods)"
      ]
     },
     "execution_count": 33,
     "metadata": {},
     "output_type": "execute_result"
    }
   ],
   "source": [
    "function add!(m::Model, simplemass::SimpleThermalMass; id=nothing)\n",
    "    if id == nothing\n",
    "        id = \"node$(length(m.simple_masses)+1)\"\n",
    "        println(\"create node $id\")\n",
    "    end\n",
    "    m.simple_masses[id] = simplemass\n",
    "    end"
   ]
  },
  {
   "cell_type": "code",
   "execution_count": 34,
   "metadata": {},
   "outputs": [
    {
     "data": {
      "text/plain": [
       "Model(Dict{Any,Any}(), Dict{Any,Any}(), Dict{Any,Any}(), Any[])"
      ]
     },
     "execution_count": 34,
     "metadata": {},
     "output_type": "execute_result"
    }
   ],
   "source": [
    "m = Model()"
   ]
  },
  {
   "cell_type": "code",
   "execution_count": 38,
   "metadata": {},
   "outputs": [
    {
     "name": "stdout",
     "output_type": "stream",
     "text": [
      "create node node2\n"
     ]
    },
    {
     "data": {
      "text/plain": [
       "SimpleThermalMass(3.4, \"\")"
      ]
     },
     "execution_count": 38,
     "metadata": {},
     "output_type": "execute_result"
    }
   ],
   "source": [
    "add!(m, SimpleThermalMass(3.3); id=\"air_int\")\n",
    "add!(m, SimpleThermalMass(3.4))"
   ]
  },
  {
   "cell_type": "code",
   "execution_count": 39,
   "metadata": {},
   "outputs": [
    {
     "data": {
      "text/plain": [
       "Model(Dict{Any,Any}(\"node2\"=>SimpleThermalMass(3.4, \"\"),\"air_int\"=>SimpleThermalMass(3.3, \"\")), Dict{Any,Any}(), Dict{Any,Any}(), Any[])"
      ]
     },
     "execution_count": 39,
     "metadata": {},
     "output_type": "execute_result"
    }
   ],
   "source": [
    "Convection(Sh, nodeA, nodeB)\n",
    "SourceConvection(Sh, node, T_ext(t, deltaT))"
   ]
  },
  {
   "cell_type": "code",
   "execution_count": 43,
   "metadata": {},
   "outputs": [
    {
     "data": {
      "text/plain": [
       "build (generic function with 1 method)"
      ]
     },
     "execution_count": 43,
     "metadata": {},
     "output_type": "execute_result"
    }
   ],
   "source": [
    "function build(wall::Wall, dt)\n",
    "    \"\"\"-- Build the adiabatic wall matrix --\"\"\"\n",
    "    delta_x = sqrt( dt * wall.mat.alpha )\n",
    "    N = 1 + Int(ceil( wall.thickness/delta_x ))\n",
    "    dx = thickness / N\n",
    "    \n",
    "    M = Tridiagonal(ones(N-1), -2.0 * ones(N), ones(N-1));\n",
    "    #M[1, 1] += -2.0*h_left*dx/mat.k\n",
    "    M[1, 2] = 2.0\n",
    "    #M[end, end] += -2.0*h_right*dx/mat.k\n",
    "    M[end, end-1] = 2.0\n",
    "\n",
    "    A = mat.alpha / dx^2 * M;\n",
    "    return M\n",
    "end"
   ]
  },
  {
   "cell_type": "code",
   "execution_count": null,
   "metadata": {},
   "outputs": [],
   "source": [
    "w = Wall(mat, thickness=0.2, label=\"ext\")\n",
    "add!(model, w)\n",
    "\n",
    "SourceConvection(Sh, w.left, t->T_ext(t, deltaT))"
   ]
  },
  {
   "cell_type": "code",
   "execution_count": null,
   "metadata": {},
   "outputs": [],
   "source": [
    "function assemble(m::Model, dt)\n",
    "    \n",
    "    M_walls = [build(w, dt) for w in m.walls]\n",
    "    \n",
    "    # convection\n",
    "    M[ , ] += -2.0*conv.hS/m.conv.node"
   ]
  }
 ],
 "metadata": {
  "kernelspec": {
   "display_name": "Julia 1.0.4",
   "language": "julia",
   "name": "julia-1.0"
  },
  "language_info": {
   "file_extension": ".jl",
   "mimetype": "application/julia",
   "name": "julia",
   "version": "1.0.4"
  }
 },
 "nbformat": 4,
 "nbformat_minor": 4
}

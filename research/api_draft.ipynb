{
 "cells": [
  {
   "cell_type": "code",
   "execution_count": 3,
   "metadata": {},
   "outputs": [
    {
     "ename": "UndefVarError",
     "evalue": "UndefVarError: Material not defined",
     "output_type": "error",
     "traceback": [
      "UndefVarError: Material not defined",
      "",
      "Stacktrace:",
      " [1] top-level scope at In[3]:1"
     ]
    }
   ],
   "source": [
    "mat1 = Material(k, rho, Cp)\n",
    "mat2 = Material(...)\n",
    "\n",
    "model = Model()\n",
    "\n",
    "add_wall(model\n",
    "         label=\"mur ext\",    # not an id\n",
    "         thickness=.2, #  m\n",
    "         surface=3,    #  m2\n",
    "         material=mat1)\n",
    "\n",
    "add_wall(model\n",
    "         name=\"mur int\",   \n",
    "         thickness=.3,\n",
    "         material=mat1)\n",
    "--> create node  mux_ext, mur_int\n",
    "\n",
    "add_simple_mass(model, name, mass)\n",
    "\n",
    "connect(nodeA, nodeB) -->\n",
    "\n",
    "or\n",
    "stack( wallA, wallB)"
   ]
  },
  {
   "cell_type": "code",
   "execution_count": null,
   "metadata": {},
   "outputs": [],
   "source": [
    "add_conduction_surfacique(R, surface, nodeA, nodeB)\n",
    "add_conduction_line(phi, length, nodeA, nodeB)\n",
    "\n",
    "add_heat_source(model, node, phi(t))\n",
    "\n",
    "fix_temperature(nodeC, T(t))"
   ]
  },
  {
   "cell_type": "code",
   "execution_count": null,
   "metadata": {},
   "outputs": [],
   "source": [
    "add_convection(h,\n",
    "               surface, \n",
    "               \"nodeA\",\n",
    "                get_T_ext)"
   ]
  }
 ],
 "metadata": {
  "kernelspec": {
   "display_name": "Julia 1.2.0",
   "language": "julia",
   "name": "julia-1.2"
  },
  "language_info": {
   "file_extension": ".jl",
   "mimetype": "application/julia",
   "name": "julia",
   "version": "1.2.0"
  }
 },
 "nbformat": 4,
 "nbformat_minor": 2
}

{
 "cells": [
  {
   "cell_type": "code",
   "execution_count": 94,
   "metadata": {},
   "outputs": [
    {
     "name": "stderr",
     "output_type": "stream",
     "text": [
      "┌ Info: Recompiling stale cache file /home/etienne/.julia/compiled/v1.2/Plots/ld3vC.ji for Plots [91a5bcdd-55d7-5caf-9e0b-520d859cae80]\n",
      "└ @ Base loading.jl:1240\n"
     ]
    }
   ],
   "source": [
    "using Plots"
   ]
  },
  {
   "cell_type": "code",
   "execution_count": 1,
   "metadata": {},
   "outputs": [],
   "source": [
    "using LinearAlgebra"
   ]
  },
  {
   "cell_type": "markdown",
   "metadata": {},
   "source": [
    "# 1D Finite volume for heat conduction\n",
    "\n",
    "Constant coefficients and no heat generation inside the material, the Fourier equation:\n",
    "$$\n",
    "\\rho C_p \\, \\frac{\\partial T}{\\partial t} = -k \\, \\frac{\\partial^2 T}{\\partial x^2}\n",
    "$$\n",
    "\n",
    "\n",
    "http://www.csc.kth.se/utbildning/kth/kurser/DN2255/ndiff13/Lecture3.pdf\n",
    "\n",
    "\n",
    "$$\n",
    "\\Delta x \\sim \\sqrt{ \\alpha \\Delta t }\n",
    "$$\n",
    "\n",
    "\n",
    "$$\n",
    "\\rho C_p dx \\, \\frac{\\partial T_i}{\\partial t} = -k \\, \\frac{T_{i-1} - 2T_{i} + T_{i+1}}{dx}\n",
    "$$\n",
    "\n",
    "\n",
    "Boundary coundary conditions:\n",
    "\n",
    "$$\n",
    "\\rho C_p dx \\, \\frac{\\partial T_1}{\\partial t} = -k \\, \\frac{- T_1 + T_{2}}{dx} + S_1(T,\\, t)\n",
    "$$\n",
    "\n",
    "Considering convection BC: $S_1(T, t) = h_1\\, \\left( T_{source} - T_1 \\right)$\n",
    "\n",
    "\n",
    "\n",
    "$$\n",
    "\\rho C_p dx \\, \\frac{\\partial T_1}{\\partial t} =\n",
    "-k \\, \\frac{(-1 + h_1dx/k)T_1 + T_{2}}{dx} + h_1\\,  T_{source} \n",
    "$$\n",
    "\n",
    "fixed temperature with $h_1 = k/dx$ and $T_{source} = T_{BC}$\n",
    "\n",
    "Linear system (matrix) formulation:\n",
    "$$\n",
    "\\frac{\\partial T}{\\partial t} = A \\, T + S(t)\n",
    "$$\n",
    "\n",
    "Time discretization using theta-method:\n",
    "$$\n",
    "T^{k+1} - T^{k} = \\theta\\, dt \\left[ A \\, T^{k+1} + S^{k+1} \\right]\n",
    "+ (1-\\theta)\\, dt \\left[ A \\, T^{k} + S^{k} \\right]\n",
    "$$\n",
    "\n",
    "$$\n",
    " \\left[ I  - \\theta\\, dt\\, A \\right] T^{k+1} =\n",
    " \\theta\\, dt \\, S^{k+1} \n",
    "+ (1-\\theta)\\, dt \\left[ A \\, T^{k} + S^{k} \\right] + T^k\n",
    "$$\n",
    "\n",
    "$$\n",
    "\\left[ I  - \\theta\\, dt\\, A \\right] T^{k+1} =\n",
    "\\left[I + (1-\\theta)\\, dt \\,A \\right] T^{k}\n",
    "+ \\left( \\theta \\, S^{k+1} +  (1-\\theta)\\, S^{k}  \\right) dt\n",
    "$$\n"
   ]
  },
  {
   "cell_type": "code",
   "execution_count": 4,
   "metadata": {},
   "outputs": [
    {
     "data": {
      "text/plain": [
       "Material"
      ]
     },
     "execution_count": 4,
     "metadata": {},
     "output_type": "execute_result"
    }
   ],
   "source": [
    "struct Material\n",
    "    \"\"\"\n",
    "    thermal conductivity\n",
    "    density\n",
    "    specific heat\n",
    "    Thermal diffusivity\n",
    "    \"\"\"\n",
    "    k\n",
    "    rho\n",
    "    Cp\n",
    "    alpha\n",
    "end\n",
    "\n",
    "Material(k, rho, Cp) = Material(k, rho, Cp, k/(rho*Cp))"
   ]
  },
  {
   "cell_type": "code",
   "execution_count": 5,
   "metadata": {},
   "outputs": [
    {
     "data": {
      "text/plain": [
       "0.01"
      ]
     },
     "execution_count": 5,
     "metadata": {},
     "output_type": "execute_result"
    }
   ],
   "source": [
    "# -- some units --\n",
    "min = 60.0 # seconds\n",
    "cm = 0.01   # meters"
   ]
  },
  {
   "cell_type": "code",
   "execution_count": 6,
   "metadata": {},
   "outputs": [
    {
     "name": "stdout",
     "output_type": "stream",
     "text": [
      "0.005976143046671968\n"
     ]
    },
    {
     "data": {
      "text/plain": [
       "0.0058823529411764705"
      ]
     },
     "execution_count": 6,
     "metadata": {},
     "output_type": "execute_result"
    }
   ],
   "source": [
    "# -- material properties --\n",
    "mat = Material(0.04, 160.0, 2100.0)\n",
    "\n",
    "# \n",
    "dt = 5min\n",
    "thickness = 20cm\n",
    "\n",
    "# buidl a wall\n",
    "delta_x = sqrt( dt*mat.alpha )\n",
    "println(delta_x)\n",
    "\n",
    "N = Int(ceil( thickness/delta_x ))\n",
    "\n",
    "dx = thickness / N"
   ]
  },
  {
   "cell_type": "code",
   "execution_count": 7,
   "metadata": {},
   "outputs": [],
   "source": [
    "# -- Build the matrix --\n",
    "M = SymTridiagonal(-2.0 * ones(N), ones(N-1));\n",
    "M[1, 1] = -1.0     #- h_left*dx/k\n",
    "M[end, end] = -1.0 #- h_right*dx/k\n",
    "\n",
    "A = mat.alpha / dx^2 * M;"
   ]
  },
  {
   "cell_type": "code",
   "execution_count": 21,
   "metadata": {},
   "outputs": [
    {
     "data": {
      "text/plain": [
       "34×34 SymTridiagonal{Float64,Array{Float64,1}}:\n",
       " -1.0   1.0    ⋅     ⋅     ⋅     ⋅   …    ⋅     ⋅     ⋅     ⋅     ⋅     ⋅ \n",
       "  1.0  -2.0   1.0    ⋅     ⋅     ⋅        ⋅     ⋅     ⋅     ⋅     ⋅     ⋅ \n",
       "   ⋅    1.0  -2.0   1.0    ⋅     ⋅        ⋅     ⋅     ⋅     ⋅     ⋅     ⋅ \n",
       "   ⋅     ⋅    1.0  -2.0   1.0    ⋅        ⋅     ⋅     ⋅     ⋅     ⋅     ⋅ \n",
       "   ⋅     ⋅     ⋅    1.0  -2.0   1.0       ⋅     ⋅     ⋅     ⋅     ⋅     ⋅ \n",
       "   ⋅     ⋅     ⋅     ⋅    1.0  -2.0  …    ⋅     ⋅     ⋅     ⋅     ⋅     ⋅ \n",
       "   ⋅     ⋅     ⋅     ⋅     ⋅    1.0       ⋅     ⋅     ⋅     ⋅     ⋅     ⋅ \n",
       "   ⋅     ⋅     ⋅     ⋅     ⋅     ⋅        ⋅     ⋅     ⋅     ⋅     ⋅     ⋅ \n",
       "   ⋅     ⋅     ⋅     ⋅     ⋅     ⋅        ⋅     ⋅     ⋅     ⋅     ⋅     ⋅ \n",
       "   ⋅     ⋅     ⋅     ⋅     ⋅     ⋅        ⋅     ⋅     ⋅     ⋅     ⋅     ⋅ \n",
       "   ⋅     ⋅     ⋅     ⋅     ⋅     ⋅   …    ⋅     ⋅     ⋅     ⋅     ⋅     ⋅ \n",
       "   ⋅     ⋅     ⋅     ⋅     ⋅     ⋅        ⋅     ⋅     ⋅     ⋅     ⋅     ⋅ \n",
       "   ⋅     ⋅     ⋅     ⋅     ⋅     ⋅        ⋅     ⋅     ⋅     ⋅     ⋅     ⋅ \n",
       "  ⋮                             ⋮    ⋱               ⋮                    \n",
       "   ⋅     ⋅     ⋅     ⋅     ⋅     ⋅        ⋅     ⋅     ⋅     ⋅     ⋅     ⋅ \n",
       "   ⋅     ⋅     ⋅     ⋅     ⋅     ⋅        ⋅     ⋅     ⋅     ⋅     ⋅     ⋅ \n",
       "   ⋅     ⋅     ⋅     ⋅     ⋅     ⋅        ⋅     ⋅     ⋅     ⋅     ⋅     ⋅ \n",
       "   ⋅     ⋅     ⋅     ⋅     ⋅     ⋅   …    ⋅     ⋅     ⋅     ⋅     ⋅     ⋅ \n",
       "   ⋅     ⋅     ⋅     ⋅     ⋅     ⋅        ⋅     ⋅     ⋅     ⋅     ⋅     ⋅ \n",
       "   ⋅     ⋅     ⋅     ⋅     ⋅     ⋅       1.0    ⋅     ⋅     ⋅     ⋅     ⋅ \n",
       "   ⋅     ⋅     ⋅     ⋅     ⋅     ⋅      -2.0   1.0    ⋅     ⋅     ⋅     ⋅ \n",
       "   ⋅     ⋅     ⋅     ⋅     ⋅     ⋅       1.0  -2.0   1.0    ⋅     ⋅     ⋅ \n",
       "   ⋅     ⋅     ⋅     ⋅     ⋅     ⋅   …    ⋅    1.0  -2.0   1.0    ⋅     ⋅ \n",
       "   ⋅     ⋅     ⋅     ⋅     ⋅     ⋅        ⋅     ⋅    1.0  -2.0   1.0    ⋅ \n",
       "   ⋅     ⋅     ⋅     ⋅     ⋅     ⋅        ⋅     ⋅     ⋅    1.0  -2.0   1.0\n",
       "   ⋅     ⋅     ⋅     ⋅     ⋅     ⋅        ⋅     ⋅     ⋅     ⋅    1.0  -1.0"
      ]
     },
     "execution_count": 21,
     "metadata": {},
     "output_type": "execute_result"
    }
   ],
   "source": [
    "M"
   ]
  },
  {
   "cell_type": "code",
   "execution_count": 20,
   "metadata": {},
   "outputs": [
    {
     "data": {
      "text/plain": [
       "T_int (generic function with 1 method)"
      ]
     },
     "execution_count": 20,
     "metadata": {},
     "output_type": "execute_result"
    }
   ],
   "source": [
    "M\n",
    "\n",
    "# -- Boundary conditions: Convection --\n",
    "h_left = 10.0\n",
    "h_right = .0\n",
    "\n",
    "period = 30000\n",
    "w = 2*pi/period\n",
    "T_ext(t) = 1. * sin(w*t)\n",
    "T_int(t) = 0.0"
   ]
  },
  {
   "cell_type": "code",
   "execution_count": 8,
   "metadata": {},
   "outputs": [
    {
     "name": "stdout",
     "output_type": "stream",
     "text": [
      "0.002\n"
     ]
    }
   ],
   "source": [
    "dx = L/N\n",
    "println(dx)"
   ]
  },
  {
   "cell_type": "code",
   "execution_count": 9,
   "metadata": {},
   "outputs": [
    {
     "name": "stdout",
     "output_type": "stream",
     "text": [
      "dt_min 16.8\n"
     ]
    },
    {
     "data": {
      "text/plain": [
       "16.8"
      ]
     },
     "execution_count": 9,
     "metadata": {},
     "output_type": "execute_result"
    }
   ],
   "source": [
    "dt_min = dx^2 /( 2*kappa )\n",
    "println(\"dt_min \", dt_min)\n",
    "\n",
    "dt = dt_min"
   ]
  },
  {
   "cell_type": "code",
   "execution_count": 10,
   "metadata": {},
   "outputs": [],
   "source": [
    "# -- Build the matrix --\n",
    "M = SymTridiagonal(-2.0 * ones(N), ones(N-1));\n",
    "M[1, 1] = -1.0 - h_left*dx/k\n",
    "M[end, end] = -1.0 - h_right*dx/k\n",
    "\n",
    "A = k/(rho*Cp*dx^2) * M;"
   ]
  },
  {
   "cell_type": "code",
   "execution_count": null,
   "metadata": {},
   "outputs": [],
   "source": [
    "inv_A = factorize( I - dt*theta*A );"
   ]
  },
  {
   "cell_type": "code",
   "execution_count": 11,
   "metadata": {},
   "outputs": [
    {
     "data": {
      "text/plain": [
       "update_S! (generic function with 1 method)"
      ]
     },
     "execution_count": 11,
     "metadata": {},
     "output_type": "execute_result"
    }
   ],
   "source": [
    "function update_S!(S, t)\n",
    "    fill!(S, 0.0)\n",
    "    S[1]   = h_left*T_ext(t)/(rho*Cp*dx)\n",
    "    S[end] = h_right*T_int(t)/(rho*Cp*dx)\n",
    "end "
   ]
  },
  {
   "cell_type": "code",
   "execution_count": 16,
   "metadata": {},
   "outputs": [
    {
     "data": {
      "text/plain": [
       "0.0"
      ]
     },
     "execution_count": 16,
     "metadata": {},
     "output_type": "execute_result"
    }
   ],
   "source": [
    "t = 0\n",
    "T = zeros(N);\n",
    "S = zeros(N);\n",
    "update_S!(S, t)"
   ]
  },
  {
   "cell_type": "code",
   "execution_count": 13,
   "metadata": {},
   "outputs": [
    {
     "data": {
      "text/plain": [
       "0.0"
      ]
     },
     "execution_count": 13,
     "metadata": {},
     "output_type": "execute_result"
    }
   ],
   "source": []
  },
  {
   "cell_type": "code",
   "execution_count": 24,
   "metadata": {},
   "outputs": [
    {
     "data": {
      "text/plain": [
       "SymTridiagonal{Float64,Array{Float64,1}}"
      ]
     },
     "execution_count": 24,
     "metadata": {},
     "output_type": "execute_result"
    }
   ],
   "source": [
    "typeof((I + (1- 0.5 )*dt*A))"
   ]
  },
  {
   "cell_type": "code",
   "execution_count": 19,
   "metadata": {},
   "outputs": [],
   "source": [
    "mutable struct LinearSystem\n",
    "    A::SymTridiagonal{Float64,Array{Float64,1}}\n",
    "    update_S!::Function\n",
    "    T::Array{Float64,1}\n",
    "    dt::Float64\n",
    "    t::Float64\n",
    "    theta::Float64\n",
    "    I_minus_A::LDLt{Float64,SymTridiagonal{Float64,Array{Float64,1}}}\n",
    "    I_plus_A::SymTridiagonal{Float64,Array{Float64,1}}\n",
    "    St::Array{Float64,1}\n",
    "end"
   ]
  },
  {
   "cell_type": "code",
   "execution_count": 20,
   "metadata": {},
   "outputs": [
    {
     "data": {
      "text/plain": [
       "LinearSystem"
      ]
     },
     "execution_count": 20,
     "metadata": {},
     "output_type": "execute_result"
    }
   ],
   "source": [
    "LinearSystem(A, S0, T0, dt, update_S!) = LinearSystem(\n",
    "    A,\n",
    "    update_S!,\n",
    "    T0,\n",
    "    dt,\n",
    "    0.0, 0.5,\n",
    "    factorize( I - dt* 0.5 *A ),\n",
    "    (I + (1 - 0.5)*dt*A),\n",
    "    S0)"
   ]
  },
  {
   "cell_type": "code",
   "execution_count": 22,
   "metadata": {},
   "outputs": [
    {
     "data": {
      "text/plain": [
       "LinearSystem([-0.04464285714285715 0.029761904761904767 … 0.0 0.0; 0.029761904761904767 -0.059523809523809534 … 0.0 0.0; … ; 0.0 0.0 … -0.059523809523809534 0.029761904761904767; 0.0 0.0 … 0.029761904761904767 -0.029761904761904767], update_S!, [1.0, 1.0, 1.0, 1.0, 1.0, 1.0, 1.0, 1.0, 1.0, 1.0  …  1.0, 1.0, 1.0, 1.0, 1.0, 1.0, 1.0, 1.0, 1.0, 1.0], 10.0, 0.0, 0.5, LDLt{Float64,SymTridiagonal{Float64,Array{Float64,1}}}([1.2232142857142858 -0.12165450121654503 … 0.0 0.0; -0.12165450121654503 1.2795156992237284 … 0.0 0.0; … ; 0.0 0.0 … 1.2803232004702307 -0.11622809284004992; 0.0 0.0 … -0.11622809284004992 1.1315136766607068]), [0.7767857142857142 0.14880952380952384 … 0.0 0.0; 0.14880952380952384 0.7023809523809523 … 0.0 0.0; … ; 0.0 0.0 … 0.7023809523809523 0.14880952380952384; 0.0 0.0 … 0.14880952380952384 0.8511904761904762], [0.0, 0.0, 0.0, 0.0, 0.0, 0.0, 0.0, 0.0, 0.0, 0.0  …  0.0, 0.0, 0.0, 0.0, 0.0, 0.0, 0.0, 0.0, 0.0, 0.0])"
      ]
     },
     "execution_count": 22,
     "metadata": {},
     "output_type": "execute_result"
    }
   ],
   "source": [
    "state = LinearSystem(A, S, ones(size(A)[1]), 10, update_S!)"
   ]
  },
  {
   "cell_type": "code",
   "execution_count": 36,
   "metadata": {},
   "outputs": [
    {
     "data": {
      "text/plain": [
       "iter! (generic function with 1 method)"
      ]
     },
     "execution_count": 36,
     "metadata": {},
     "output_type": "execute_result"
    }
   ],
   "source": [
    "function iter!(state)\n",
    "    theta = state.theta\n",
    "    dt = state.dt\n",
    "    A = state.A\n",
    "    \n",
    "    state.t += dt\n",
    "    old_S = state.St\n",
    "    state.update_S!(state.St, state.t)\n",
    "    S_theta = theta*state.St + (1 - theta)*old_S\n",
    "\n",
    "    state.T = state.I_minus_A \\ ( state.I_plus_A*T + dt*S_theta )\n",
    "    \n",
    "    return state.t, state.T\n",
    "end"
   ]
  },
  {
   "cell_type": "code",
   "execution_count": 32,
   "metadata": {},
   "outputs": [
    {
     "data": {
      "text/plain": [
       "(1.161006e7, [0.0015506408653885207, 0.00018022803046395237, 2.0947560257143604e-5, 2.4346949783398266e-6, 2.829799539796847e-7, 3.289022036302386e-8, 3.822767585883237e-9, 4.443129858779704e-10, 5.164165097266453e-11, 6.0022106036643076e-12  …  1.1708769898735872e-87, 1.360887994833055e-88, 1.581734162083672e-89, 1.8384194503906772e-90, 2.1367598656998347e-91, 2.4835152499578405e-92, 2.88654322634021e-93, 3.3550443410822416e-94, 3.9055439083504585e-95, 5.058994699935829e-96])"
      ]
     },
     "execution_count": 32,
     "metadata": {},
     "output_type": "execute_result"
    }
   ],
   "source": [
    "iter!(state)"
   ]
  },
  {
   "cell_type": "code",
   "execution_count": 33,
   "metadata": {},
   "outputs": [
    {
     "ename": "LoadError",
     "evalue": "syntax: \"*\" is not a unary operator",
     "output_type": "error",
     "traceback": [
      "syntax: \"*\" is not a unary operator",
      ""
     ]
    }
   ],
   "source": [
    "for i in 1:87600\n",
    "    S_theta = theta*S(t+dt) + (1-theta)*S(t)\n",
    "    T_iplus = inv_A\\( *T + dt*S_theta )\n",
    "    t = t + dt\n",
    "    T[:] = T_iplus[:]\n",
    "end\n",
    "println(t)\n",
    "\n",
    "plot(T)"
   ]
  },
  {
   "cell_type": "code",
   "execution_count": 28,
   "metadata": {},
   "outputs": [],
   "source": [
    "using BenchmarkTools"
   ]
  },
  {
   "cell_type": "code",
   "execution_count": 35,
   "metadata": {},
   "outputs": [
    {
     "name": "stdout",
     "output_type": "stream",
     "text": [
      "  2.646 μs (19 allocations: 6.33 KiB)\n"
     ]
    },
    {
     "data": {
      "text/plain": [
       "(2.252011e7, [-0.10825992512344006, -0.012582844628104044, -0.0014624800336272004, -0.00016998126512514155, -1.9756598264034096e-5, -2.296271737235724e-6, -2.6689128466141645e-7, -3.1020265011827304e-8, -3.605426241717616e-9, -4.190518159503073e-10  …  -8.174623672175255e-86, -9.501209191020556e-87, -1.1043074239466832e-87, -1.283515457945209e-88, -1.4918055381539028e-89, -1.7338971324994161e-90, -2.0152761385587893e-91, -2.3423660323848003e-92, -2.726704168075626e-93, -3.5320002177145423e-94])"
      ]
     },
     "execution_count": 35,
     "metadata": {},
     "output_type": "execute_result"
    }
   ],
   "source": [
    "@btime iter!(state)\n",
    "#   4.215 μs (29 allocations: 10.81 KiB)\n",
    "#   4.050 μs (27 allocations: 10.78 KiB)\n",
    "#   3.890 μs (29 allocations: 10.81 KiB)  with type def\n",
    "#   3.370 μs (25 allocations: 9.89 KiB)   with in place S\n",
    "#   2.633 μs (19 allocations: 6.33 KiB)  with I_plus_A"
   ]
  },
  {
   "cell_type": "code",
   "execution_count": 50,
   "metadata": {},
   "outputs": [
    {
     "data": {
      "text/plain": [
       "test (generic function with 1 method)"
      ]
     },
     "execution_count": 50,
     "metadata": {},
     "output_type": "execute_result"
    }
   ],
   "source": [
    "function test(state, a)\n",
    "    state.I_plus_A * a\n",
    "end"
   ]
  },
  {
   "cell_type": "code",
   "execution_count": 56,
   "metadata": {},
   "outputs": [
    {
     "data": {
      "text/plain": [
       "Float64"
      ]
     },
     "execution_count": 56,
     "metadata": {},
     "output_type": "execute_result"
    }
   ],
   "source": [
    "typeof(S[1])"
   ]
  },
  {
   "cell_type": "code",
   "execution_count": 55,
   "metadata": {},
   "outputs": [
    {
     "name": "stdout",
     "output_type": "stream",
     "text": [
      "  211.202 ns (1 allocation: 896 bytes)\n"
     ]
    },
    {
     "data": {
      "text/plain": [
       "100-element Array{Float64,1}:\n",
       " 0.3083886413796859 \n",
       " 0.08095377048229922\n",
       " 0.14431180561960052\n",
       " 0.7183941628590877 \n",
       " 0.7524611105788032 \n",
       " 0.4909881156404826 \n",
       " 0.19572680339006504\n",
       " 0.29887391782591705\n",
       " 0.5349496612734986 \n",
       " 0.7200684541103309 \n",
       " 0.7045988496623894 \n",
       " 0.3981357217078018 \n",
       " 0.8149949443272301 \n",
       " ⋮                  \n",
       " 0.4958409467444562 \n",
       " 0.6600161657419276 \n",
       " 0.6906672687447506 \n",
       " 0.6381906421804872 \n",
       " 0.23087101213649083\n",
       " 0.24219464010839561\n",
       " 0.5085407009324917 \n",
       " 0.46760894196259134\n",
       " 0.2629401558558435 \n",
       " 0.7827942116991566 \n",
       " 0.601211058237685  \n",
       " 0.65648870926009   "
      ]
     },
     "execution_count": 55,
     "metadata": {},
     "output_type": "execute_result"
    }
   ],
   "source": [
    "@btime test(state, a) setup=(a=rand(N))\n",
    "#   1.063 μs (1 allocation: 896 bytes)    inverse\n",
    "#   175.217 ns (1 allocation: 896 bytes)  sum\n",
    "#   209.491 ns (1 allocation: 896 bytes) produit\n",
    "# #   465.347 ns (11 allocations: 176 bytes)  call update_S"
   ]
  },
  {
   "cell_type": "code",
   "execution_count": 54,
   "metadata": {},
   "outputs": [
    {
     "name": "stdout",
     "output_type": "stream",
     "text": [
      "  473.959 ns (11 allocations: 176 bytes)\n"
     ]
    },
    {
     "data": {
      "text/plain": [
       "0.0"
      ]
     },
     "execution_count": 54,
     "metadata": {},
     "output_type": "execute_result"
    }
   ],
   "source": [
    "@btime state.update_S!(state.St, t) setup=(t=rand())\n",
    "#   465.347 ns (11 allocations: 176 bytes)"
   ]
  },
  {
   "cell_type": "code",
   "execution_count": null,
   "metadata": {},
   "outputs": [],
   "source": []
  }
 ],
 "metadata": {
  "kernelspec": {
   "display_name": "Julia 1.2.0",
   "language": "julia",
   "name": "julia-1.2"
  },
  "language_info": {
   "file_extension": ".jl",
   "mimetype": "application/julia",
   "name": "julia",
   "version": "1.2.0"
  }
 },
 "nbformat": 4,
 "nbformat_minor": 2
}

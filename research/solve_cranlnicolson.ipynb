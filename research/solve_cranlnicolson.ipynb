{
 "cells": [
  {
   "cell_type": "code",
   "execution_count": 16,
   "metadata": {},
   "outputs": [
    {
     "name": "stderr",
     "output_type": "stream",
     "text": [
      "┌ Info: Precompiling Plots [91a5bcdd-55d7-5caf-9e0b-520d859cae80]\n",
      "└ @ Base loading.jl:1273\n"
     ]
    }
   ],
   "source": [
    "using Plots"
   ]
  },
  {
   "cell_type": "code",
   "execution_count": 1,
   "metadata": {},
   "outputs": [],
   "source": [
    "using LinearAlgebra"
   ]
  },
  {
   "cell_type": "markdown",
   "metadata": {},
   "source": [
    "# 1D Finite volume for heat conduction\n",
    "\n",
    "- Heat conduction, with constant coefficients and no heat generation inside the material, the Fourier equation:\n",
    "$$\n",
    "\\rho C_p \\, \\frac{\\partial T}{\\partial t} = -k \\, \\frac{\\partial^2 T}{\\partial x^2}\n",
    "$$\n",
    "\n",
    "\n",
    "http://www.csc.kth.se/utbildning/kth/kurser/DN2255/ndiff13/Lecture3.pdf\n",
    "\n",
    "- Relation between caracteristic time $\\Delta t$ and length scale $\\Delta x$:\n",
    "$$\n",
    "\\Delta x \\sim \\sqrt{ \\alpha \\Delta t }\n",
    "$$\n",
    "\n",
    "$\\alpha = \\frac{k}{\\rho \\, Cp}$ is the thermal diffusivity.\n",
    "\n",
    "- Spatial discretization for interior points:\n",
    "\n",
    "$$\n",
    "\\rho C_p dx \\, \\frac{\\partial T_i}{\\partial t} = k \\, \\frac{T_{i-1} - 2T_{i} + T_{i+1}}{dx}\n",
    "$$\n",
    "\n",
    "i.e.\n",
    "\n",
    "$$\n",
    "\\frac{\\partial T_i}{\\partial t} = \\frac{\\alpha}{dx^2} \\, \\left[ T_{i-1} - 2T_{i} + T_{i+1} \\right]\n",
    "$$"
   ]
  },
  {
   "cell_type": "markdown",
   "metadata": {},
   "source": [
    "- Boundary coundary conditions ($i = 1$), using half-control volume  ($T_1$ is the temperature of the surface):\n",
    "\n",
    "$$\n",
    "\\rho C_p \\frac{dx}{2} \\, \\frac{\\partial T_1}{\\partial t} = k \\, \\frac{- T_1 + T_{2}}{dx} + S_1(T,\\, t)\n",
    "$$\n",
    "\n",
    "Considering convection at the surface: $S_1(T, t) = h_1\\, \\left( T_{source} - T_1 \\right)$\n",
    "\n",
    "$$\n",
    "\\rho C_p \\frac{dx}{2} \\, \\frac{\\partial T_1}{\\partial t} =\n",
    "k \\, \\frac{-(1 + h_1dx/k)T_1 + T_{2}}{dx} + h_1\\,  T_{source} \n",
    "$$\n",
    "\n",
    "i.e.\n",
    "\n",
    "\n",
    "$$\n",
    "\\frac{\\partial T_1}{\\partial t} =\n",
    "\\frac{\\alpha}{dx^2} \\, \\left[ -(2 + 2\\,h_1dx/k)T_1 + 2\\,T_{2} \\right]\n",
    "+ \\frac{ 2\\, h_1 }{ \\rho Cp  \\,dx }T_{source} \n",
    "$$\n",
    "\n",
    "\n",
    "\n",
    "- fixed surface temperature $T_{surface} = T_0(t)$, solve for $N-1$ unknows... ?"
   ]
  },
  {
   "cell_type": "markdown",
   "metadata": {},
   "source": [
    "- Time integration:\n",
    "\n",
    "Linear system (matrix) formulation:\n",
    "$$\n",
    "\\frac{\\partial T}{\\partial t} = A \\, T + S(t)\n",
    "$$\n",
    "\n",
    "Time discretization using theta-method:\n",
    "$$\n",
    "T^{k+1} - T^{k} = \\theta\\, dt \\left[ A \\, T^{k+1} + S^{k+1} \\right]\n",
    "+ (1-\\theta)\\, dt \\left[ A \\, T^{k} + S^{k} \\right]\n",
    "$$\n",
    "\n",
    "$$\n",
    " \\left[ I  - \\theta\\, dt\\, A \\right] T^{k+1} =\n",
    " \\theta\\, dt \\, S^{k+1} \n",
    "+ (1-\\theta)\\, dt \\left[ A \\, T^{k} + S^{k} \\right] + T^k\n",
    "$$\n",
    "\n",
    "$$\n",
    "\\left[ I  - \\theta\\, dt\\, A \\right] T^{k+1} =\n",
    "\\left[I + (1-\\theta)\\, dt \\,A \\right] T^{k}\n",
    "+ \\left( \\theta \\, S^{k+1} +  (1-\\theta)\\, S^{k}  \\right) dt\n",
    "$$"
   ]
  },
  {
   "cell_type": "code",
   "execution_count": 2,
   "metadata": {},
   "outputs": [
    {
     "data": {
      "text/plain": [
       "Material"
      ]
     },
     "execution_count": 2,
     "metadata": {},
     "output_type": "execute_result"
    }
   ],
   "source": [
    "struct Material\n",
    "    \"\"\"\n",
    "    thermal conductivity\n",
    "    density\n",
    "    specific heat\n",
    "    Thermal diffusivity\n",
    "    \"\"\"\n",
    "    k\n",
    "    rho\n",
    "    Cp\n",
    "    alpha\n",
    "end\n",
    "\n",
    "Material(k, rho, Cp) = Material(k, rho, Cp, k/(rho*Cp))"
   ]
  },
  {
   "cell_type": "code",
   "execution_count": 3,
   "metadata": {},
   "outputs": [
    {
     "data": {
      "text/plain": [
       "0.01"
      ]
     },
     "execution_count": 3,
     "metadata": {},
     "output_type": "execute_result"
    }
   ],
   "source": [
    "# -- some units --\n",
    "min = 60.0 # seconds\n",
    "cm = 0.01   # meters"
   ]
  },
  {
   "cell_type": "code",
   "execution_count": 28,
   "metadata": {},
   "outputs": [
    {
     "name": "stdout",
     "output_type": "stream",
     "text": [
      "0.005976143046671968\n"
     ]
    },
    {
     "data": {
      "text/plain": [
       "0.005714285714285714"
      ]
     },
     "execution_count": 28,
     "metadata": {},
     "output_type": "execute_result"
    }
   ],
   "source": [
    "# -- material properties --\n",
    "mat = Material(0.04, 160.0, 2100.0)\n",
    "\n",
    "# \n",
    "dt = 5min\n",
    "thickness = 20cm\n",
    "\n",
    "\n",
    "# Boundary conditions\n",
    "h_left = 0.0\n",
    "T_left(t) = 0.0\n",
    "\n",
    "h_right = 5.0\n",
    "T_right(t) = 0.0\n",
    "\n",
    "# buidl a wall\n",
    "delta_x = sqrt( dt*mat.alpha )\n",
    "println(delta_x)\n",
    "\n",
    "# number of unknows\n",
    "\n",
    "N = 1 + Int(ceil( thickness/delta_x ))\n",
    "dx = thickness / N"
   ]
  },
  {
   "cell_type": "code",
   "execution_count": 29,
   "metadata": {},
   "outputs": [],
   "source": [
    "# -- Build the matrix --\n",
    "M = Tridiagonal(ones(N-1), -2.0 * ones(N), ones(N-1));\n",
    "M[1, 1] += -2.0*h_left*dx/mat.k\n",
    "M[1, 2] = 2.0\n",
    "M[end, end] += -2.0*h_right*dx/mat.k\n",
    "M[end, end-1] = 2.0\n",
    "\n",
    "A = mat.alpha / dx^2 * M;"
   ]
  },
  {
   "cell_type": "code",
   "execution_count": 30,
   "metadata": {},
   "outputs": [],
   "source": [
    "#inv_A = factorize( I - dt*theta*A );"
   ]
  },
  {
   "cell_type": "code",
   "execution_count": 31,
   "metadata": {},
   "outputs": [
    {
     "data": {
      "text/plain": [
       "update_S! (generic function with 1 method)"
      ]
     },
     "execution_count": 31,
     "metadata": {},
     "output_type": "execute_result"
    }
   ],
   "source": [
    "function update_S!(S, t)\n",
    "    fill!(S, 0.0)\n",
    "    S[1]   = 2.0* h_left*T_left(t)/(mat.rho*mat.Cp*dx)\n",
    "    S[end] = 2.0* h_right*T_right(t)/(mat.rho*mat.Cp*dx)\n",
    "end "
   ]
  },
  {
   "cell_type": "code",
   "execution_count": 32,
   "metadata": {},
   "outputs": [
    {
     "data": {
      "text/plain": [
       "0.0"
      ]
     },
     "execution_count": 32,
     "metadata": {},
     "output_type": "execute_result"
    }
   ],
   "source": [
    "t = 0\n",
    "T = ones(N);\n",
    "S = zeros(N);\n",
    "update_S!(S, t)"
   ]
  },
  {
   "cell_type": "code",
   "execution_count": null,
   "metadata": {},
   "outputs": [],
   "source": []
  },
  {
   "cell_type": "code",
   "execution_count": 33,
   "metadata": {},
   "outputs": [
    {
     "data": {
      "text/plain": [
       "Tridiagonal{Float64,Array{Float64,1}}"
      ]
     },
     "execution_count": 33,
     "metadata": {},
     "output_type": "execute_result"
    }
   ],
   "source": [
    "typeof((I + (1- 0.5 )*dt*A))"
   ]
  },
  {
   "cell_type": "code",
   "execution_count": 70,
   "metadata": {},
   "outputs": [],
   "source": [
    "mutable struct LinearSystem\n",
    "    A::Tridiagonal{Float64,Array{Float64,1}}\n",
    "    update_S!::Function\n",
    "    T::Array{Float64,1}\n",
    "    dt::Float64\n",
    "    t::Float64\n",
    "    theta::Float64\n",
    "    I_minus_A#::LDLt{Float64,Tridiagonal{Float64,Array{Float64,1}}}\n",
    "    I_plus_A::Tridiagonal{Float64,Array{Float64,1}}\n",
    "    St::Array{Float64,1}\n",
    "end"
   ]
  },
  {
   "cell_type": "code",
   "execution_count": 71,
   "metadata": {},
   "outputs": [
    {
     "data": {
      "text/plain": [
       "LinearSystem"
      ]
     },
     "execution_count": 71,
     "metadata": {},
     "output_type": "execute_result"
    }
   ],
   "source": [
    "LinearSystem(A, S0, T0, dt, update_S!) = LinearSystem(\n",
    "    A,\n",
    "    update_S!,\n",
    "    T0,\n",
    "    dt,\n",
    "    0.0, 0.5,\n",
    "    factorize( I - dt* 0.5 *A ),\n",
    "    (I + (1 - 0.5)*dt*A),\n",
    "    S0)"
   ]
  },
  {
   "cell_type": "code",
   "execution_count": 72,
   "metadata": {},
   "outputs": [
    {
     "data": {
      "text/plain": [
       "LinearSystem([-0.007291666666666667 0.007291666666666667 … 0.0 0.0; 0.0036458333333333334 -0.007291666666666667 … 0.0 0.0; … ; 0.0 0.0 … -0.007291666666666667 0.0036458333333333334; 0.0 0.0 … 0.007291666666666667 -0.0125], update_S!, [1.0, 1.0, 1.0, 1.0, 1.0, 1.0, 1.0, 1.0, 1.0, 1.0  …  1.0, 1.0, 1.0, 1.0, 1.0, 1.0, 1.0, 1.0, 1.0, 1.0], 10.0, 0.0, 0.5, LU{Float64,Tridiagonal{Float64,Array{Float64,1}}}([1.0364583333333333 -0.036458333333333336 … 0.0 0.0; -0.017587939698492466 1.0358171063651591 … 0.0 0.0; … ; 0.0 0.0 … 1.0361376206106687 -0.018229166666666668; 0.0 0.0 … -0.035186767286613796 1.0618585745546711], [1, 2, 3, 4, 5, 6, 7, 8, 9, 10  …  26, 27, 28, 29, 30, 31, 32, 33, 34, 35], 0), [0.9635416666666666 0.036458333333333336 … 0.0 0.0; 0.018229166666666668 0.9635416666666666 … 0.0 0.0; … ; 0.0 0.0 … 0.9635416666666666 0.018229166666666668; 0.0 0.0 … 0.036458333333333336 0.9375], [0.0, 0.0, 0.0, 0.0, 0.0, 0.0, 0.0, 0.0, 0.0, 0.0  …  0.0, 0.0, 0.0, 0.0, 0.0, 0.0, 0.0, 0.0, 0.0, 0.0])"
      ]
     },
     "execution_count": 72,
     "metadata": {},
     "output_type": "execute_result"
    }
   ],
   "source": [
    "state = LinearSystem(A, S, ones(size(A)[1]), 10, update_S!)"
   ]
  },
  {
   "cell_type": "code",
   "execution_count": 73,
   "metadata": {},
   "outputs": [
    {
     "data": {
      "text/plain": [
       "iter! (generic function with 1 method)"
      ]
     },
     "execution_count": 73,
     "metadata": {},
     "output_type": "execute_result"
    }
   ],
   "source": [
    "function iter!(state)\n",
    "    theta = state.theta\n",
    "    dt = state.dt\n",
    "    A = state.A\n",
    "    \n",
    "    state.t += dt\n",
    "    old_S = state.St\n",
    "    state.update_S!(state.St, state.t)\n",
    "    S_theta = theta*state.St + (1 - theta)*old_S\n",
    "\n",
    "    state.T = state.I_minus_A \\ ( state.I_plus_A*state.T + dt*S_theta )\n",
    "    \n",
    "    return state.t, state.T\n",
    "end"
   ]
  },
  {
   "cell_type": "code",
   "execution_count": 103,
   "metadata": {},
   "outputs": [
    {
     "data": {
      "image/svg+xml": [
       "<?xml version=\"1.0\" encoding=\"utf-8\"?>\n",
       "<svg xmlns=\"http://www.w3.org/2000/svg\" xmlns:xlink=\"http://www.w3.org/1999/xlink\" width=\"600\" height=\"400\" viewBox=\"0 0 2400 1600\">\n",
       "<defs>\n",
       "  <clipPath id=\"clip5500\">\n",
       "    <rect x=\"0\" y=\"0\" width=\"2400\" height=\"1600\"/>\n",
       "  </clipPath>\n",
       "</defs>\n",
       "<path clip-path=\"url(#clip5500)\" d=\"\n",
       "M0 1600 L2400 1600 L2400 0 L0 0  Z\n",
       "  \" fill=\"#ffffff\" fill-rule=\"evenodd\" fill-opacity=\"1\"/>\n",
       "<defs>\n",
       "  <clipPath id=\"clip5501\">\n",
       "    <rect x=\"480\" y=\"0\" width=\"1681\" height=\"1600\"/>\n",
       "  </clipPath>\n",
       "</defs>\n",
       "<path clip-path=\"url(#clip5500)\" d=\"\n",
       "M153.898 1487.47 L2352.76 1487.47 L2352.76 47.2441 L153.898 47.2441  Z\n",
       "  \" fill=\"#ffffff\" fill-rule=\"evenodd\" fill-opacity=\"1\"/>\n",
       "<defs>\n",
       "  <clipPath id=\"clip5502\">\n",
       "    <rect x=\"153\" y=\"47\" width=\"2200\" height=\"1441\"/>\n",
       "  </clipPath>\n",
       "</defs>\n",
       "<polyline clip-path=\"url(#clip5502)\" style=\"stroke:#000000; stroke-width:2; stroke-opacity:0.1; fill:none\" points=\"\n",
       "  155.118,1487.47 155.118,47.2441 \n",
       "  \"/>\n",
       "<polyline clip-path=\"url(#clip5502)\" style=\"stroke:#000000; stroke-width:2; stroke-opacity:0.1; fill:none\" points=\"\n",
       "  765.234,1487.47 765.234,47.2441 \n",
       "  \"/>\n",
       "<polyline clip-path=\"url(#clip5502)\" style=\"stroke:#000000; stroke-width:2; stroke-opacity:0.1; fill:none\" points=\"\n",
       "  1375.35,1487.47 1375.35,47.2441 \n",
       "  \"/>\n",
       "<polyline clip-path=\"url(#clip5502)\" style=\"stroke:#000000; stroke-width:2; stroke-opacity:0.1; fill:none\" points=\"\n",
       "  1985.47,1487.47 1985.47,47.2441 \n",
       "  \"/>\n",
       "<polyline clip-path=\"url(#clip5502)\" style=\"stroke:#000000; stroke-width:2; stroke-opacity:0.1; fill:none\" points=\"\n",
       "  153.898,1229.55 2352.76,1229.55 \n",
       "  \"/>\n",
       "<polyline clip-path=\"url(#clip5502)\" style=\"stroke:#000000; stroke-width:2; stroke-opacity:0.1; fill:none\" points=\"\n",
       "  153.898,922.555 2352.76,922.555 \n",
       "  \"/>\n",
       "<polyline clip-path=\"url(#clip5502)\" style=\"stroke:#000000; stroke-width:2; stroke-opacity:0.1; fill:none\" points=\"\n",
       "  153.898,615.561 2352.76,615.561 \n",
       "  \"/>\n",
       "<polyline clip-path=\"url(#clip5502)\" style=\"stroke:#000000; stroke-width:2; stroke-opacity:0.1; fill:none\" points=\"\n",
       "  153.898,308.566 2352.76,308.566 \n",
       "  \"/>\n",
       "<polyline clip-path=\"url(#clip5500)\" style=\"stroke:#000000; stroke-width:4; stroke-opacity:1; fill:none\" points=\"\n",
       "  153.898,1487.47 2352.76,1487.47 \n",
       "  \"/>\n",
       "<polyline clip-path=\"url(#clip5500)\" style=\"stroke:#000000; stroke-width:4; stroke-opacity:1; fill:none\" points=\"\n",
       "  153.898,1487.47 153.898,47.2441 \n",
       "  \"/>\n",
       "<polyline clip-path=\"url(#clip5500)\" style=\"stroke:#000000; stroke-width:4; stroke-opacity:1; fill:none\" points=\"\n",
       "  155.118,1487.47 155.118,1470.19 \n",
       "  \"/>\n",
       "<polyline clip-path=\"url(#clip5500)\" style=\"stroke:#000000; stroke-width:4; stroke-opacity:1; fill:none\" points=\"\n",
       "  765.234,1487.47 765.234,1470.19 \n",
       "  \"/>\n",
       "<polyline clip-path=\"url(#clip5500)\" style=\"stroke:#000000; stroke-width:4; stroke-opacity:1; fill:none\" points=\"\n",
       "  1375.35,1487.47 1375.35,1470.19 \n",
       "  \"/>\n",
       "<polyline clip-path=\"url(#clip5500)\" style=\"stroke:#000000; stroke-width:4; stroke-opacity:1; fill:none\" points=\"\n",
       "  1985.47,1487.47 1985.47,1470.19 \n",
       "  \"/>\n",
       "<polyline clip-path=\"url(#clip5500)\" style=\"stroke:#000000; stroke-width:4; stroke-opacity:1; fill:none\" points=\"\n",
       "  153.898,1229.55 180.284,1229.55 \n",
       "  \"/>\n",
       "<polyline clip-path=\"url(#clip5500)\" style=\"stroke:#000000; stroke-width:4; stroke-opacity:1; fill:none\" points=\"\n",
       "  153.898,922.555 180.284,922.555 \n",
       "  \"/>\n",
       "<polyline clip-path=\"url(#clip5500)\" style=\"stroke:#000000; stroke-width:4; stroke-opacity:1; fill:none\" points=\"\n",
       "  153.898,615.561 180.284,615.561 \n",
       "  \"/>\n",
       "<polyline clip-path=\"url(#clip5500)\" style=\"stroke:#000000; stroke-width:4; stroke-opacity:1; fill:none\" points=\"\n",
       "  153.898,308.566 180.284,308.566 \n",
       "  \"/>\n",
       "<g clip-path=\"url(#clip5500)\">\n",
       "<text style=\"fill:#000000; fill-opacity:1; font-family:Arial,Helvetica Neue,Helvetica,sans-serif; font-size:48px; text-anchor:middle;\" transform=\"rotate(0, 155.118, 1541.47)\" x=\"155.118\" y=\"1541.47\">0</text>\n",
       "</g>\n",
       "<g clip-path=\"url(#clip5500)\">\n",
       "<text style=\"fill:#000000; fill-opacity:1; font-family:Arial,Helvetica Neue,Helvetica,sans-serif; font-size:48px; text-anchor:middle;\" transform=\"rotate(0, 765.234, 1541.47)\" x=\"765.234\" y=\"1541.47\">10</text>\n",
       "</g>\n",
       "<g clip-path=\"url(#clip5500)\">\n",
       "<text style=\"fill:#000000; fill-opacity:1; font-family:Arial,Helvetica Neue,Helvetica,sans-serif; font-size:48px; text-anchor:middle;\" transform=\"rotate(0, 1375.35, 1541.47)\" x=\"1375.35\" y=\"1541.47\">20</text>\n",
       "</g>\n",
       "<g clip-path=\"url(#clip5500)\">\n",
       "<text style=\"fill:#000000; fill-opacity:1; font-family:Arial,Helvetica Neue,Helvetica,sans-serif; font-size:48px; text-anchor:middle;\" transform=\"rotate(0, 1985.47, 1541.47)\" x=\"1985.47\" y=\"1541.47\">30</text>\n",
       "</g>\n",
       "<g clip-path=\"url(#clip5500)\">\n",
       "<text style=\"fill:#000000; fill-opacity:1; font-family:Arial,Helvetica Neue,Helvetica,sans-serif; font-size:48px; text-anchor:end;\" transform=\"rotate(0, 129.898, 1247.05)\" x=\"129.898\" y=\"1247.05\">0.1</text>\n",
       "</g>\n",
       "<g clip-path=\"url(#clip5500)\">\n",
       "<text style=\"fill:#000000; fill-opacity:1; font-family:Arial,Helvetica Neue,Helvetica,sans-serif; font-size:48px; text-anchor:end;\" transform=\"rotate(0, 129.898, 940.055)\" x=\"129.898\" y=\"940.055\">0.2</text>\n",
       "</g>\n",
       "<g clip-path=\"url(#clip5500)\">\n",
       "<text style=\"fill:#000000; fill-opacity:1; font-family:Arial,Helvetica Neue,Helvetica,sans-serif; font-size:48px; text-anchor:end;\" transform=\"rotate(0, 129.898, 633.061)\" x=\"129.898\" y=\"633.061\">0.3</text>\n",
       "</g>\n",
       "<g clip-path=\"url(#clip5500)\">\n",
       "<text style=\"fill:#000000; fill-opacity:1; font-family:Arial,Helvetica Neue,Helvetica,sans-serif; font-size:48px; text-anchor:end;\" transform=\"rotate(0, 129.898, 326.066)\" x=\"129.898\" y=\"326.066\">0.4</text>\n",
       "</g>\n",
       "<polyline clip-path=\"url(#clip5502)\" style=\"stroke:#009af9; stroke-width:4; stroke-opacity:1; fill:none\" points=\"\n",
       "  216.13,88.0053 277.141,89.43 338.153,93.7011 399.165,100.81 460.176,110.744 521.188,123.482 582.199,139.001 643.211,157.269 704.223,178.251 765.234,201.906 \n",
       "  826.246,228.188 887.257,257.045 948.269,288.421 1009.28,322.255 1070.29,358.48 1131.3,397.025 1192.32,437.814 1253.33,480.769 1314.34,525.804 1375.35,572.83 \n",
       "  1436.36,621.757 1497.37,672.487 1558.38,724.921 1619.4,778.955 1680.41,834.484 1741.42,891.398 1802.43,949.584 1863.44,1008.93 1924.45,1069.32 1985.47,1130.62 \n",
       "  2046.48,1192.73 2107.49,1255.52 2168.5,1318.86 2229.51,1382.64 2290.52,1446.71 \n",
       "  \"/>\n",
       "<path clip-path=\"url(#clip5500)\" d=\"\n",
       "M1989.93 251.724 L2280.76 251.724 L2280.76 130.764 L1989.93 130.764  Z\n",
       "  \" fill=\"#ffffff\" fill-rule=\"evenodd\" fill-opacity=\"1\"/>\n",
       "<polyline clip-path=\"url(#clip5500)\" style=\"stroke:#000000; stroke-width:4; stroke-opacity:1; fill:none\" points=\"\n",
       "  1989.93,251.724 2280.76,251.724 2280.76,130.764 1989.93,130.764 1989.93,251.724 \n",
       "  \"/>\n",
       "<polyline clip-path=\"url(#clip5500)\" style=\"stroke:#009af9; stroke-width:4; stroke-opacity:1; fill:none\" points=\"\n",
       "  2013.93,191.244 2157.93,191.244 \n",
       "  \"/>\n",
       "<g clip-path=\"url(#clip5500)\">\n",
       "<text style=\"fill:#000000; fill-opacity:1; font-family:Arial,Helvetica Neue,Helvetica,sans-serif; font-size:48px; text-anchor:start;\" transform=\"rotate(0, 2181.93, 208.744)\" x=\"2181.93\" y=\"208.744\">y1</text>\n",
       "</g>\n",
       "</svg>\n"
      ]
     },
     "execution_count": 103,
     "metadata": {},
     "output_type": "execute_result"
    }
   ],
   "source": [
    "for k in 1:500\n",
    "    iter!(state)\n",
    "end\n",
    "plot( state.T )"
   ]
  },
  {
   "cell_type": "code",
   "execution_count": 28,
   "metadata": {},
   "outputs": [],
   "source": [
    "using BenchmarkTools"
   ]
  },
  {
   "cell_type": "code",
   "execution_count": 35,
   "metadata": {},
   "outputs": [
    {
     "name": "stdout",
     "output_type": "stream",
     "text": [
      "  2.646 μs (19 allocations: 6.33 KiB)\n"
     ]
    },
    {
     "data": {
      "text/plain": [
       "(2.252011e7, [-0.10825992512344006, -0.012582844628104044, -0.0014624800336272004, -0.00016998126512514155, -1.9756598264034096e-5, -2.296271737235724e-6, -2.6689128466141645e-7, -3.1020265011827304e-8, -3.605426241717616e-9, -4.190518159503073e-10  …  -8.174623672175255e-86, -9.501209191020556e-87, -1.1043074239466832e-87, -1.283515457945209e-88, -1.4918055381539028e-89, -1.7338971324994161e-90, -2.0152761385587893e-91, -2.3423660323848003e-92, -2.726704168075626e-93, -3.5320002177145423e-94])"
      ]
     },
     "execution_count": 35,
     "metadata": {},
     "output_type": "execute_result"
    }
   ],
   "source": [
    "@btime iter!(state)\n",
    "#   4.215 μs (29 allocations: 10.81 KiB)\n",
    "#   4.050 μs (27 allocations: 10.78 KiB)\n",
    "#   3.890 μs (29 allocations: 10.81 KiB)  with type def\n",
    "#   3.370 μs (25 allocations: 9.89 KiB)   with in place S\n",
    "#   2.633 μs (19 allocations: 6.33 KiB)  with I_plus_A"
   ]
  },
  {
   "cell_type": "code",
   "execution_count": 50,
   "metadata": {},
   "outputs": [
    {
     "data": {
      "text/plain": [
       "test (generic function with 1 method)"
      ]
     },
     "execution_count": 50,
     "metadata": {},
     "output_type": "execute_result"
    }
   ],
   "source": [
    "function test(state, a)\n",
    "    state.I_plus_A * a\n",
    "end"
   ]
  },
  {
   "cell_type": "code",
   "execution_count": 56,
   "metadata": {},
   "outputs": [
    {
     "data": {
      "text/plain": [
       "Float64"
      ]
     },
     "execution_count": 56,
     "metadata": {},
     "output_type": "execute_result"
    }
   ],
   "source": [
    "typeof(S[1])"
   ]
  },
  {
   "cell_type": "code",
   "execution_count": 55,
   "metadata": {},
   "outputs": [
    {
     "name": "stdout",
     "output_type": "stream",
     "text": [
      "  211.202 ns (1 allocation: 896 bytes)\n"
     ]
    },
    {
     "data": {
      "text/plain": [
       "100-element Array{Float64,1}:\n",
       " 0.3083886413796859 \n",
       " 0.08095377048229922\n",
       " 0.14431180561960052\n",
       " 0.7183941628590877 \n",
       " 0.7524611105788032 \n",
       " 0.4909881156404826 \n",
       " 0.19572680339006504\n",
       " 0.29887391782591705\n",
       " 0.5349496612734986 \n",
       " 0.7200684541103309 \n",
       " 0.7045988496623894 \n",
       " 0.3981357217078018 \n",
       " 0.8149949443272301 \n",
       " ⋮                  \n",
       " 0.4958409467444562 \n",
       " 0.6600161657419276 \n",
       " 0.6906672687447506 \n",
       " 0.6381906421804872 \n",
       " 0.23087101213649083\n",
       " 0.24219464010839561\n",
       " 0.5085407009324917 \n",
       " 0.46760894196259134\n",
       " 0.2629401558558435 \n",
       " 0.7827942116991566 \n",
       " 0.601211058237685  \n",
       " 0.65648870926009   "
      ]
     },
     "execution_count": 55,
     "metadata": {},
     "output_type": "execute_result"
    }
   ],
   "source": [
    "@btime test(state, a) setup=(a=rand(N))\n",
    "#   1.063 μs (1 allocation: 896 bytes)    inverse\n",
    "#   175.217 ns (1 allocation: 896 bytes)  sum\n",
    "#   209.491 ns (1 allocation: 896 bytes) produit\n",
    "# #   465.347 ns (11 allocations: 176 bytes)  call update_S"
   ]
  },
  {
   "cell_type": "code",
   "execution_count": 54,
   "metadata": {},
   "outputs": [
    {
     "name": "stdout",
     "output_type": "stream",
     "text": [
      "  473.959 ns (11 allocations: 176 bytes)\n"
     ]
    },
    {
     "data": {
      "text/plain": [
       "0.0"
      ]
     },
     "execution_count": 54,
     "metadata": {},
     "output_type": "execute_result"
    }
   ],
   "source": [
    "@btime state.update_S!(state.St, t) setup=(t=rand())\n",
    "#   465.347 ns (11 allocations: 176 bytes)"
   ]
  },
  {
   "cell_type": "markdown",
   "metadata": {},
   "source": [
    "## Verification case\n",
    "\n",
    "Ozisik p279(149) example 7-12\n",
    "\n",
    "BC: isolated and convection, initially at uniform temperature $T_0 = 1$"
   ]
  },
  {
   "cell_type": "code",
   "execution_count": null,
   "metadata": {},
   "outputs": [],
   "source": []
  }
 ],
 "metadata": {
  "kernelspec": {
   "display_name": "Julia 1.3.0",
   "language": "julia",
   "name": "julia-1.3"
  },
  "language_info": {
   "file_extension": ".jl",
   "mimetype": "application/julia",
   "name": "julia",
   "version": "1.3.0"
  }
 },
 "nbformat": 4,
 "nbformat_minor": 4
}

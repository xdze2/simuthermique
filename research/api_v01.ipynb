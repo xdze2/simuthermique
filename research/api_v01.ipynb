{
 "cells": [
  {
   "cell_type": "code",
   "execution_count": 1,
   "metadata": {},
   "outputs": [],
   "source": [
    "using LinearAlgebra\n",
    "using SparseArrays"
   ]
  },
  {
   "cell_type": "code",
   "execution_count": 28,
   "metadata": {},
   "outputs": [],
   "source": [
    "\"\"\"\n",
    "Thermal Properties of material\n",
    "\n",
    "        k      thermal conductivity, W/m2/K  \n",
    "        rho    density, kg/m3  \n",
    "        Cp     specific heat, J/kg  \n",
    "        alpha  thermal diffusivity, m2/s\n",
    "\"\"\"\n",
    "struct Material\n",
    "    k     ::Float64\n",
    "    rho   ::Float64\n",
    "    Cp    ::Float64\n",
    "    alpha ::Float64\n",
    "end\n",
    "\n",
    "Material(k, rho, Cp) = Material(k, rho, Cp, k/(rho*Cp));"
   ]
  },
  {
   "cell_type": "code",
   "execution_count": 29,
   "metadata": {},
   "outputs": [
    {
     "data": {
      "text/plain": [
       "Material(1.28, 880.0, 1450.0, 1.0031347962382445e-6)"
      ]
     },
     "execution_count": 29,
     "metadata": {},
     "output_type": "execute_result"
    }
   ],
   "source": [
    "clay = Material(1.28, 880.0, 1450.0) # Clay"
   ]
  },
  {
   "cell_type": "markdown",
   "metadata": {},
   "source": [
    "## v2"
   ]
  },
  {
   "cell_type": "code",
   "execution_count": 38,
   "metadata": {
    "lines_to_next_cell": 0
   },
   "outputs": [],
   "source": [
    "#  M dT/dt = K T  +  S\n",
    "struct Model\n",
    "    dt ::Float64\n",
    "    id_to_index ::Dict{String,Int64}\n",
    "    M ::Array{Float64,1}   # thermal mass of each nodes\n",
    "    K_ijv  # Array of named tuple (i, j, value)\n",
    "    S_iv  #sources -- array of [(idx, function(t)), ()...]\n",
    "end\n",
    "\n",
    "Model(dt) = Model(dt,\n",
    "                  Dict{String,Int64}(),\n",
    "                  Array{Float64,1}(),\n",
    "                  [],\n",
    "                  []);"
   ]
  },
  {
   "cell_type": "code",
   "execution_count": 54,
   "metadata": {},
   "outputs": [
    {
     "data": {
      "text/plain": [
       "add_simplethermalmass! (generic function with 1 method)"
      ]
     },
     "execution_count": 54,
     "metadata": {},
     "output_type": "execute_result"
    }
   ],
   "source": [
    "function add_simplethermalmass!(model, node_id, th_mass)\n",
    "    # error if key already exist\n",
    "    if haskey(model.id_to_index, node_id)\n",
    "        error(\"\"\"Can't add simple mass: \"$node_id\", the id already exists\"\"\")\n",
    "    end\n",
    "    push!(model.M, th_mass)\n",
    "    model.id_to_index[node_id] = length(model.M)\n",
    "    return node_id\n",
    "end"
   ]
  },
  {
   "cell_type": "code",
   "execution_count": 55,
   "metadata": {},
   "outputs": [
    {
     "data": {
      "text/plain": [
       "\"2\""
      ]
     },
     "execution_count": 55,
     "metadata": {},
     "output_type": "execute_result"
    }
   ],
   "source": [
    "# test\n",
    "m = Model(5*60)\n",
    "add_simplethermalmass!(m, \"1\", 0.1)\n",
    "add_simplethermalmass!(m, \"2\", 0.2)"
   ]
  },
  {
   "cell_type": "code",
   "execution_count": 156,
   "metadata": {},
   "outputs": [
    {
     "data": {
      "text/plain": [
       "add_wall! (generic function with 1 method)"
      ]
     },
     "execution_count": 156,
     "metadata": {},
     "output_type": "execute_result"
    }
   ],
   "source": [
    "function add_wall!(model, wall_id, material, thickness, surface)\n",
    "    # Mesh\n",
    "    delta_x = sqrt( model.dt * material.alpha )\n",
    "    N = 1 + Int(ceil( thickness/delta_x ))\n",
    "    dx = thickness / N\n",
    "    \n",
    "    # Register surfaces node index\n",
    "    i_ext = length(model.M) + 1\n",
    "    i_int = length(model.M) + N\n",
    "    \n",
    "    id_ext = \"$(wall_id)_ext\"\n",
    "    id_int = \"$(wall_id)_int\"\n",
    "    if haskey(model.id_to_index, id_ext) || haskey(model.id_to_index, id_int)\n",
    "        error(\"\"\"Can't add wall: \"$wall_id\", the id already exists\"\"\")\n",
    "    end\n",
    "    model.id_to_index[id_ext] = i_ext\n",
    "    model.id_to_index[id_int] = i_int\n",
    "    \n",
    "    is_boundary(i) = (i == i_ext || i == i_int)\n",
    "    \n",
    "    # Thermal mass\n",
    "    massth = (material.rho * material.Cp * dx * surface * (is_boundary(i) ? 0.5 : 1.0)\n",
    "              for i in i_ext:i_int)\n",
    "    append!(model.M, massth)\n",
    "\n",
    "    # Konduction\n",
    "    k_dx = material.k / dx\n",
    "    diagonal   = ( (i=i,   j=i,   v=(is_boundary(i) ? -1.0 : -2.0)*k_dx)\n",
    "                  for i in i_ext:i_int )\n",
    "    upper_diag = ( (i=i,   j=i+1, v=+k_dx) for i in i_ext:i_int-1 )\n",
    "    lower_diag = ( (i=i+1, j=i,   v=+k_dx) for i in i_ext:i_int-1 )\n",
    "    \n",
    "    append!(model.K_ijv, diagonal)\n",
    "    append!(model.K_ijv, upper_diag)\n",
    "    append!(model.K_ijv, lower_diag)\n",
    "\n",
    "    return (ext=id_ext, int=id_int)\n",
    "end"
   ]
  },
  {
   "cell_type": "code",
   "execution_count": 157,
   "metadata": {},
   "outputs": [
    {
     "data": {
      "text/plain": [
       "get_sparse_K (generic function with 1 method)"
      ]
     },
     "execution_count": 157,
     "metadata": {},
     "output_type": "execute_result"
    }
   ],
   "source": [
    "function get_sparse_K(model::Model)\n",
    "    I = map(x->x.i, m.K_ijv)\n",
    "    J = map(x->x.j, m.K_ijv)\n",
    "    V = map(x->x.v, m.K_ijv)\n",
    "    n = length(m.M)\n",
    "    K = sparse(I, J, V, n, n)\n",
    "    return K\n",
    "end"
   ]
  },
  {
   "cell_type": "code",
   "execution_count": 158,
   "metadata": {},
   "outputs": [
    {
     "data": {
      "text/plain": [
       "(ext = \"wall2_ext\", int = \"wall2_int\")"
      ]
     },
     "execution_count": 158,
     "metadata": {},
     "output_type": "execute_result"
    }
   ],
   "source": [
    "m = Model(5*60)\n",
    "\n",
    "air_int = add_simplethermalmass!(m, \"T_air_int\", 24.2)\n",
    "\n",
    "wall1 = add_wall!(m, \"wall1\", clay, .20, 4.)\n",
    "\n",
    "sol = add_simplethermalmass!(m, \"T_sol\", 4.2)\n",
    "\n",
    "wall1 = add_wall!(m, \"wall2\", clay, .10, 4.)"
   ]
  },
  {
   "cell_type": "code",
   "execution_count": 159,
   "metadata": {},
   "outputs": [
    {
     "data": {
      "text/plain": [
       "add_conductance! (generic function with 1 method)"
      ]
     },
     "execution_count": 159,
     "metadata": {},
     "output_type": "execute_result"
    }
   ],
   "source": [
    "function add_conductance!(model, id_nodeA, id_nodeB, UA)\n",
    "    if ~haskey(model.id_to_index, id_nodeA)\n",
    "        error(\"\"\"Can't add conductance: node \"$id_nodeA\" doesn't exist\"\"\")\n",
    "    end\n",
    "    if ~haskey(model.id_to_index, id_nodeB)\n",
    "        error(\"\"\"Can't add conductance: node \"$id_nodeB\" doesn't exist\"\"\")\n",
    "    end\n",
    "    i = model.id_to_index[id_nodeA]\n",
    "    j = model.id_to_index[id_nodeB]\n",
    "    \n",
    "    cells = [(i=i, j=i, v=-UA),\n",
    "             (i=j, j=j, v=-UA),\n",
    "             (i=i, j=j, v=+UA),\n",
    "             (i=j, j=i, v=+UA)] \n",
    "    append!(model.K_ijv, cells);\n",
    "    return nothing\n",
    "end"
   ]
  },
  {
   "cell_type": "code",
   "execution_count": 155,
   "metadata": {},
   "outputs": [
    {
     "ename": "ErrorException",
     "evalue": "Can't add conductance: node \"ez\" doesn't exist",
     "output_type": "error",
     "traceback": [
      "Can't add conductance: node \"ez\" doesn't exist",
      "",
      "Stacktrace:",
      " [1] error(::String) at ./error.jl:33",
      " [2] add_conductance!(::Model, ::String, ::String, ::Float64) at ./In[154]:3",
      " [3] top-level scope at In[155]:1"
     ]
    }
   ],
   "source": [
    "add_conductance!(m, \"ez\", wall1[2], 0.1)"
   ]
  },
  {
   "cell_type": "code",
   "execution_count": 165,
   "metadata": {},
   "outputs": [],
   "source": [
    "add_conductance!(m, air_int, wall1.ext, 0.1)"
   ]
  },
  {
   "cell_type": "code",
   "execution_count": 183,
   "metadata": {},
   "outputs": [
    {
     "data": {
      "text/plain": [
       "add_convectivesource (generic function with 1 method)"
      ]
     },
     "execution_count": 183,
     "metadata": {},
     "output_type": "execute_result"
    }
   ],
   "source": [
    "function add_convectivesource(model, node_id, Tsource, hS)\n",
    "    i = model.id_to_index[node_id]\n",
    "    push!(model.K_ijv, (i=i, j=i, v=-hS));\n",
    "    push!(model.S_iv, (i=i, v=t -> hS*Tsource(t)))  # more generic args?\n",
    "    return nothing\n",
    "end"
   ]
  },
  {
   "cell_type": "code",
   "execution_count": 185,
   "metadata": {},
   "outputs": [],
   "source": [
    "T_ext(t) = cos(t)\n",
    "add_convectivesource(m, wall1.int, T_ext, 1.5)"
   ]
  },
  {
   "cell_type": "code",
   "execution_count": 186,
   "metadata": {},
   "outputs": [
    {
     "data": {
      "text/plain": [
       "5-element Array{Any,1}:\n",
       " (i = 22, v = var\"#245#246\"{var\"#247#248\",Float64}(var\"#247#248\"(), 1.5))\n",
       " (i = 22, v = var\"#245#246\"{var\"#249#250\",Float64}(var\"#249#250\"(), 1.5))\n",
       " (i = 22, v = var\"#245#246\"{typeof(T_ext),Float64}(T_ext, 1.5))          \n",
       " (i = 22, v = var\"#253#254\"{typeof(T_ext),Float64}(T_ext, 1.5))          \n",
       " (i = 22, v = var\"#257#258\"{typeof(T_ext),Float64}(T_ext, 1.5))          "
      ]
     },
     "execution_count": 186,
     "metadata": {},
     "output_type": "execute_result"
    }
   ],
   "source": [
    "m.S_iv"
   ]
  },
  {
   "cell_type": "code",
   "execution_count": null,
   "metadata": {},
   "outputs": [],
   "source": []
  }
 ],
 "metadata": {
  "jupytext": {
   "encoding": "# -*- coding: utf-8 -*-",
   "formats": "ipynb,jl:light"
  },
  "kernelspec": {
   "display_name": "Julia 1.3.1",
   "language": "julia",
   "name": "julia-1.3"
  },
  "language_info": {
   "file_extension": ".jl",
   "mimetype": "application/julia",
   "name": "julia",
   "version": "1.3.1"
  }
 },
 "nbformat": 4,
 "nbformat_minor": 4
}

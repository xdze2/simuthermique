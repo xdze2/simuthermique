{
 "cells": [
  {
   "cell_type": "code",
   "execution_count": 2,
   "metadata": {},
   "outputs": [],
   "source": [
    "using LinearAlgebra"
   ]
  },
  {
   "cell_type": "code",
   "execution_count": 50,
   "metadata": {},
   "outputs": [
    {
     "data": {
      "text/plain": [
       "Material"
      ]
     },
     "execution_count": 50,
     "metadata": {},
     "output_type": "execute_result"
    }
   ],
   "source": [
    "struct Material\n",
    "    \"\"\"\n",
    "    Material\n",
    "    k      thermal conductivity, W/m2/K\n",
    "    rho    density, kg/m3\n",
    "    Cp     specific heat, J/kg\n",
    "    alpha  Thermal diffusivity, \n",
    "    \"\"\"\n",
    "    k     ::Float64\n",
    "    rho   ::Float64\n",
    "    Cp    ::Float64\n",
    "    alpha ::Float64\n",
    "end\n",
    "\n",
    "Material(k, rho, Cp) = Material(k, rho, Cp, k/(rho*Cp))"
   ]
  },
  {
   "cell_type": "code",
   "execution_count": 51,
   "metadata": {},
   "outputs": [
    {
     "data": {
      "text/plain": [
       "Material(0.2, 2000.0, 300.0, 3.3333333333333335e-7)"
      ]
     },
     "execution_count": 51,
     "metadata": {},
     "output_type": "execute_result"
    }
   ],
   "source": [
    "mat = Material(0.2, 2000, 300)"
   ]
  },
  {
   "cell_type": "code",
   "execution_count": 17,
   "metadata": {},
   "outputs": [
    {
     "data": {
      "text/plain": [
       "add! (generic function with 2 methods)"
      ]
     },
     "execution_count": 17,
     "metadata": {},
     "output_type": "execute_result"
    }
   ],
   "source": [
    "struct SimpleThermalMass\n",
    "   mass_th # rhoCp V \n",
    "end\n",
    "\n",
    "struct Wall\n",
    "   mat       ::Material\n",
    "   thickness ::Float64\n",
    "   surface   ::Float64\n",
    "end\n",
    "\n",
    "struct Model\n",
    "    simple_masses\n",
    "    walls\n",
    "    sources\n",
    "    resistances\n",
    "end\n",
    "\n",
    "Model() = Model(Dict(), Dict(), Dict(), [])\n",
    "\n",
    "\n",
    "function add!(m::Model, simplemass::SimpleThermalMass; id=nothing)\n",
    "    if id == nothing\n",
    "        id = \"node$(length(m.simple_masses)+1)\"\n",
    "        println(\"create node $id\")\n",
    "    end\n",
    "    m.simple_masses[id] = simplemass\n",
    "    return id\n",
    "end\n",
    "\n",
    "function add!(m::Model, wall::Wall; id=nothing)\n",
    "    if id == nothing\n",
    "        id = \"wall$(length(m.simple_masses)+1)\"\n",
    "        println(\"create a wall named $id\")\n",
    "    end\n",
    "    m.walls[id] = wall\n",
    "    return id\n",
    "end"
   ]
  },
  {
   "cell_type": "code",
   "execution_count": 33,
   "metadata": {},
   "outputs": [
    {
     "name": "stdout",
     "output_type": "stream",
     "text": [
      "create a wall named wall3\n"
     ]
    },
    {
     "data": {
      "text/plain": [
       "\"wall3\""
      ]
     },
     "execution_count": 33,
     "metadata": {},
     "output_type": "execute_result"
    }
   ],
   "source": [
    "m = Model()\n",
    "air_int = SimpleThermalMass(3.5, \"air intérieur\")\n",
    "add!(m, air_int; id=\"air_int\")\n",
    "\n",
    "air_cave = SimpleThermalMass(1.5, \"air de la cave\")\n",
    "add!(m, air_cave; id=\"air_cave\")\n",
    "\n",
    "\n",
    "mur_ext = Wall(mat, 0.30, 4, \"un mur\")\n",
    "add!(m, mur_ext)"
   ]
  },
  {
   "cell_type": "code",
   "execution_count": 49,
   "metadata": {},
   "outputs": [
    {
     "data": {
      "text/plain": [
       "33×33 Array{Float64,2}:\n",
       " 0.0  0.0  0.0  0.0  0.0  0.0  0.0  0.0  …  0.0  0.0  0.0  0.0  0.0  0.0  0.0\n",
       " 0.0  0.0  0.0  0.0  0.0  0.0  0.0  0.0     0.0  0.0  0.0  0.0  0.0  0.0  0.0\n",
       " 0.0  0.0  0.0  0.0  0.0  0.0  0.0  0.0     0.0  0.0  0.0  0.0  0.0  0.0  0.0\n",
       " 0.0  0.0  0.0  0.0  0.0  0.0  0.0  0.0     0.0  0.0  0.0  0.0  0.0  0.0  0.0\n",
       " 0.0  0.0  0.0  0.0  0.0  0.0  0.0  0.0     0.0  0.0  0.0  0.0  0.0  0.0  0.0\n",
       " 0.0  0.0  0.0  0.0  0.0  0.0  0.0  0.0  …  0.0  0.0  0.0  0.0  0.0  0.0  0.0\n",
       " 0.0  0.0  0.0  0.0  0.0  0.0  0.0  0.0     0.0  0.0  0.0  0.0  0.0  0.0  0.0\n",
       " 0.0  0.0  0.0  0.0  0.0  0.0  0.0  0.0     0.0  0.0  0.0  0.0  0.0  0.0  0.0\n",
       " 0.0  0.0  0.0  0.0  0.0  0.0  0.0  0.0     0.0  0.0  0.0  0.0  0.0  0.0  0.0\n",
       " 0.0  0.0  0.0  0.0  0.0  0.0  0.0  0.0     0.0  0.0  0.0  0.0  0.0  0.0  0.0\n",
       " 0.0  0.0  0.0  0.0  0.0  0.0  0.0  0.0  …  0.0  0.0  0.0  0.0  0.0  0.0  0.0\n",
       " 0.0  0.0  0.0  0.0  0.0  0.0  0.0  0.0     0.0  0.0  0.0  0.0  0.0  0.0  0.0\n",
       " 0.0  0.0  0.0  0.0  0.0  0.0  0.0  0.0     0.0  0.0  0.0  0.0  0.0  0.0  0.0\n",
       " ⋮                        ⋮              ⋱                      ⋮            \n",
       " 0.0  0.0  0.0  0.0  0.0  0.0  0.0  0.0     0.0  0.0  0.0  0.0  0.0  0.0  0.0\n",
       " 0.0  0.0  0.0  0.0  0.0  0.0  0.0  0.0     0.0  0.0  0.0  0.0  0.0  0.0  0.0\n",
       " 0.0  0.0  0.0  0.0  0.0  0.0  0.0  0.0     0.0  0.0  0.0  0.0  0.0  0.0  0.0\n",
       " 0.0  0.0  0.0  0.0  0.0  0.0  0.0  0.0     0.0  0.0  0.0  0.0  0.0  0.0  0.0\n",
       " 0.0  0.0  0.0  0.0  0.0  0.0  0.0  0.0  …  0.0  0.0  0.0  0.0  0.0  0.0  0.0\n",
       " 0.0  0.0  0.0  0.0  0.0  0.0  0.0  0.0     0.0  0.0  0.0  0.0  0.0  0.0  0.0\n",
       " 0.0  0.0  0.0  0.0  0.0  0.0  0.0  0.0     0.0  0.0  0.0  0.0  0.0  0.0  0.0\n",
       " 0.0  0.0  0.0  0.0  0.0  0.0  0.0  0.0     0.0  0.0  0.0  0.0  0.0  0.0  0.0\n",
       " 0.0  0.0  0.0  0.0  0.0  0.0  0.0  0.0     0.0  0.0  0.0  0.0  0.0  0.0  0.0\n",
       " 0.0  0.0  0.0  0.0  0.0  0.0  0.0  0.0  …  0.0  0.0  0.0  0.0  0.0  0.0  0.0\n",
       " 0.0  0.0  0.0  0.0  0.0  0.0  0.0  0.0     0.0  0.0  0.0  0.0  0.0  0.0  0.0\n",
       " 0.0  0.0  0.0  0.0  0.0  0.0  0.0  0.0     0.0  0.0  0.0  0.0  0.0  0.0  0.0"
      ]
     },
     "execution_count": 49,
     "metadata": {},
     "output_type": "execute_result"
    }
   ],
   "source": [
    "dt = 5*60.0\n",
    "nodes_mass = []\n",
    "M_i, M_j, M_v = [], [], []\n",
    "id_to_index = Dict{String, Int}()\n",
    "\n",
    "for (k, (id, thermalmass)) in enumerate(pairs(m.simple_masses))\n",
    "    id_to_index[id] = k\n",
    "    push!(nodes_mass, thermalmass.mass_th)\n",
    "end\n",
    "last_idx = length(nodes)\n",
    "\n",
    "for (id, wall) in pairs(m.walls)\n",
    "    massth, M = constructmesh(wall, dt)\n",
    "    \n",
    "    id_left = \"$(id)_left\"\n",
    "    id_right = \"$(id)_right\"\n",
    "    id_to_index[id_left] = 1 + last_idx\n",
    "    id_to_index[id_right] = 1 + last_idx + length(massth)\n",
    "    \n",
    "    last_idx = id_to_index[id_right]\n",
    "    \n",
    "    append!(nodes_mass, massth)\n",
    "    #push!(nodes, thermalmass.mass_th)\n",
    "end\n",
    "\n",
    "N = length(nodes)\n",
    "M = zeros(N, N)"
   ]
  },
  {
   "cell_type": "code",
   "execution_count": 48,
   "metadata": {},
   "outputs": [
    {
     "data": {
      "text/plain": [
       "Dict{String,Int64} with 4 entries:\n",
       "  \"wall3_right\" => 34\n",
       "  \"air_int\"     => 1\n",
       "  \"air_cave\"    => 2\n",
       "  \"wall3_left\"  => 3"
      ]
     },
     "execution_count": 48,
     "metadata": {},
     "output_type": "execute_result"
    }
   ],
   "source": [
    "id_to_index"
   ]
  },
  {
   "cell_type": "code",
   "execution_count": 38,
   "metadata": {},
   "outputs": [
    {
     "data": {
      "text/plain": [
       "constructmesh (generic function with 1 method)"
      ]
     },
     "execution_count": 38,
     "metadata": {},
     "output_type": "execute_result"
    }
   ],
   "source": [
    "function constructmesh(wall::Wall, dt)\n",
    "    \"\"\"-- Build the adiabatic wall matrix --\"\"\"\n",
    "    delta_x = sqrt( dt * wall.mat.alpha )\n",
    "    N = 1 + Int(ceil( wall.thickness/delta_x ))\n",
    "    dx = wall.thickness / N\n",
    "    \n",
    "    M = Tridiagonal(ones(N-1), -2.0 * ones(N), ones(N-1));\n",
    "    #M[1, 1] += -2.0*h_left*dx/mat.k\n",
    "    #M[1, 2] = 2.0\n",
    "    #M[end, end] += -2.0*h_right*dx/mat.k\n",
    "    #M[end, end-1] = 2.0\n",
    "\n",
    "    M[1, 1] = -1\n",
    "    M[end, end] = -1\n",
    "    #A = mat.alpha / dx^2 * M;\n",
    "    massth = ones(N) * wall.mat.rho * wall.mat.Cp * dx * wall.surface\n",
    "    massth[1] *= 0.5\n",
    "    massth[end] *= 0.5\n",
    "    return massth, (wall.mat.k / dx) * M\n",
    "end"
   ]
  },
  {
   "cell_type": "markdown",
   "metadata": {},
   "source": [
    "## v2"
   ]
  },
  {
   "cell_type": "code",
   "execution_count": 1,
   "metadata": {},
   "outputs": [
    {
     "data": {
      "text/plain": [
       "Material"
      ]
     },
     "execution_count": 1,
     "metadata": {},
     "output_type": "execute_result"
    }
   ],
   "source": [
    "struct Material\n",
    "    \"\"\"\n",
    "    Material\n",
    "    k      thermal conductivity, W/m2/K\n",
    "    rho    density, kg/m3\n",
    "    Cp     specific heat, J/kg\n",
    "    alpha  Thermal diffusivity, \n",
    "    \"\"\"\n",
    "    k     ::Float64\n",
    "    rho   ::Float64\n",
    "    Cp    ::Float64\n",
    "    alpha ::Float64\n",
    "end\n",
    "\n",
    "Material(k, rho, Cp) = Material(k, rho, Cp, k/(rho*Cp))"
   ]
  },
  {
   "cell_type": "code",
   "execution_count": null,
   "metadata": {},
   "outputs": [],
   "source": [
    "mat = Material(0.2, 2000, 300)"
   ]
  },
  {
   "cell_type": "code",
   "execution_count": null,
   "metadata": {},
   "outputs": [],
   "source": [
    "#  M dT/dt = K T  +  S\n",
    "struct Model\n",
    "    nodes   # actually thermal mass\n",
    "    id_to_index\n",
    "    walls\n",
    "    dt ::Float64\n",
    "    K_i\n",
    "    K_j\n",
    "    K_v\n",
    "    S#sources\n",
    "    #resistances\n",
    "end\n",
    "\n",
    "Model(dt) = Model([], Dict(), Dict(), dt, [], [], [], [])"
   ]
  },
  {
   "cell_type": "code",
   "execution_count": null,
   "metadata": {},
   "outputs": [],
   "source": []
  },
  {
   "cell_type": "code",
   "execution_count": 44,
   "metadata": {},
   "outputs": [
    {
     "data": {
      "text/plain": [
       "add_wall! (generic function with 1 method)"
      ]
     },
     "execution_count": 44,
     "metadata": {},
     "output_type": "execute_result"
    }
   ],
   "source": [
    "function add_simplethermalmass!(model, node_id, th_mass)\n",
    "    # warning if already exist \n",
    "    push!(model.nodes, th_mass)\n",
    "    model.id_to_index[node_id] = length(model.nodes)\n",
    "    return node_id\n",
    "end\n",
    "\n",
    "\n",
    "function add_wall!(model, wall_id, material, thickness, surface)\n",
    "    # mesh:\n",
    "    delta_x = sqrt( model.dt * material.alpha )\n",
    "    N = 1 + Int(ceil( thickness/delta_x ))\n",
    "    dx = thickness / N\n",
    "    \n",
    "    # thermal mass:\n",
    "    massth = ones(N) * material.rho * material.Cp * dx * surface\n",
    "    massth[1] *= 0.5\n",
    "    massth[end] *= 0.5\n",
    "    \n",
    "    # warning if already exist \n",
    "    id_left = \"$(wall_id)_left\"\n",
    "    id_right = \"$(wall_id)_right\"\n",
    "    model.id_to_index[id_left] = length(model.nodes) + 1\n",
    "    \n",
    "    append!(model.nodes, massth)\n",
    "    model.id_to_index[id_right] = length(model.nodes)\n",
    "    \n",
    "    # Konduction\n",
    "    ii = collect(model.id_to_index[id_left]:model.id_to_index[id_right])\n",
    "\n",
    "    # diagonal\n",
    "    append!(model.K_i, ii)\n",
    "    append!(model.K_j, ii)\n",
    "    append!(model.K_v, 2.0*ones(length(ii)))\n",
    "    # upper diag\n",
    "    append!(model.K_i, ii[1:end-1])\n",
    "    append!(model.K_j, ii[1:end-1] .+ 1)\n",
    "    append!(model.K_v, -1.0 *ones(length(ii)-1))\n",
    "    # lower diag\n",
    "    append!(model.K_i, ii[1:end-1] .+ 1)\n",
    "    append!(model.K_j, ii[1:end-1])\n",
    "    append!(model.K_v, -1.0 *ones(length(ii)-1))\n",
    "\n",
    "    return id_left, id_right\n",
    "end"
   ]
  },
  {
   "cell_type": "code",
   "execution_count": 45,
   "metadata": {},
   "outputs": [
    {
     "data": {
      "text/plain": [
       "Model(Any[], Dict{Any,Any}(), Dict{Any,Any}(), 300.0, Any[], Any[], Any[], Any[])"
      ]
     },
     "execution_count": 45,
     "metadata": {},
     "output_type": "execute_result"
    }
   ],
   "source": [
    "m = Model(5*60)"
   ]
  },
  {
   "cell_type": "code",
   "execution_count": 46,
   "metadata": {},
   "outputs": [
    {
     "data": {
      "text/plain": [
       "\"T_air_int\""
      ]
     },
     "execution_count": 46,
     "metadata": {},
     "output_type": "execute_result"
    }
   ],
   "source": [
    "add_simplethermalmass!(m, \"T_air_int\", 24.2)"
   ]
  },
  {
   "cell_type": "code",
   "execution_count": 47,
   "metadata": {},
   "outputs": [
    {
     "data": {
      "text/plain": [
       "(\"wall_ext_int_left\", \"wall_ext_int_right\")"
      ]
     },
     "execution_count": 47,
     "metadata": {},
     "output_type": "execute_result"
    }
   ],
   "source": [
    "add_wall!(m, \"wall_ext_int\", mat, .20, 4.)"
   ]
  },
  {
   "cell_type": "code",
   "execution_count": 51,
   "metadata": {},
   "outputs": [
    {
     "data": {
      "text/plain": [
       "\"T_sol\""
      ]
     },
     "execution_count": 51,
     "metadata": {},
     "output_type": "execute_result"
    }
   ],
   "source": [
    "add_simplethermalmass!(m, \"T_sol\", 4.2)"
   ]
  },
  {
   "cell_type": "code",
   "execution_count": 52,
   "metadata": {},
   "outputs": [
    {
     "data": {
      "text/plain": [
       "Dict{Any,Any} with 4 entries:\n",
       "  \"wall_ext_int_left\"  => 2\n",
       "  \"T_air_int\"          => 1\n",
       "  \"T_sol\"              => 23\n",
       "  \"wall_ext_int_right\" => 22"
      ]
     },
     "execution_count": 52,
     "metadata": {},
     "output_type": "execute_result"
    }
   ],
   "source": [
    "m.id_to_index"
   ]
  },
  {
   "cell_type": "code",
   "execution_count": 53,
   "metadata": {},
   "outputs": [],
   "source": [
    "using SparseArrays"
   ]
  },
  {
   "cell_type": "code",
   "execution_count": 54,
   "metadata": {},
   "outputs": [],
   "source": [
    "K = sparse(Array{Int}(m.K_i), Array{Int}(m.K_j),\n",
    "            Array{Float64}(m.K_v), length(m.nodes), length(m.nodes));"
   ]
  },
  {
   "cell_type": "code",
   "execution_count": 55,
   "metadata": {},
   "outputs": [
    {
     "data": {
      "text/plain": [
       "SparseMatrixCSC{Float64,Int64}"
      ]
     },
     "execution_count": 55,
     "metadata": {},
     "output_type": "execute_result"
    }
   ],
   "source": [
    "typeof(K)"
   ]
  },
  {
   "cell_type": "code",
   "execution_count": 56,
   "metadata": {},
   "outputs": [
    {
     "data": {
      "text/plain": [
       "23×23 Array{Float64,2}:\n",
       " 0.0   0.0   0.0   0.0   0.0   0.0  …   0.0   0.0   0.0   0.0   0.0  0.0\n",
       " 0.0   2.0  -1.0   0.0   0.0   0.0      0.0   0.0   0.0   0.0   0.0  0.0\n",
       " 0.0  -1.0   2.0  -1.0   0.0   0.0      0.0   0.0   0.0   0.0   0.0  0.0\n",
       " 0.0   0.0  -1.0   2.0  -1.0   0.0      0.0   0.0   0.0   0.0   0.0  0.0\n",
       " 0.0   0.0   0.0  -1.0   2.0  -1.0      0.0   0.0   0.0   0.0   0.0  0.0\n",
       " 0.0   0.0   0.0   0.0  -1.0   2.0  …   0.0   0.0   0.0   0.0   0.0  0.0\n",
       " 0.0   0.0   0.0   0.0   0.0  -1.0      0.0   0.0   0.0   0.0   0.0  0.0\n",
       " 0.0   0.0   0.0   0.0   0.0   0.0      0.0   0.0   0.0   0.0   0.0  0.0\n",
       " 0.0   0.0   0.0   0.0   0.0   0.0      0.0   0.0   0.0   0.0   0.0  0.0\n",
       " 0.0   0.0   0.0   0.0   0.0   0.0      0.0   0.0   0.0   0.0   0.0  0.0\n",
       " 0.0   0.0   0.0   0.0   0.0   0.0  …   0.0   0.0   0.0   0.0   0.0  0.0\n",
       " 0.0   0.0   0.0   0.0   0.0   0.0      0.0   0.0   0.0   0.0   0.0  0.0\n",
       " 0.0   0.0   0.0   0.0   0.0   0.0      0.0   0.0   0.0   0.0   0.0  0.0\n",
       " 0.0   0.0   0.0   0.0   0.0   0.0      0.0   0.0   0.0   0.0   0.0  0.0\n",
       " 0.0   0.0   0.0   0.0   0.0   0.0      0.0   0.0   0.0   0.0   0.0  0.0\n",
       " 0.0   0.0   0.0   0.0   0.0   0.0  …   0.0   0.0   0.0   0.0   0.0  0.0\n",
       " 0.0   0.0   0.0   0.0   0.0   0.0     -1.0   0.0   0.0   0.0   0.0  0.0\n",
       " 0.0   0.0   0.0   0.0   0.0   0.0      2.0  -1.0   0.0   0.0   0.0  0.0\n",
       " 0.0   0.0   0.0   0.0   0.0   0.0     -1.0   2.0  -1.0   0.0   0.0  0.0\n",
       " 0.0   0.0   0.0   0.0   0.0   0.0      0.0  -1.0   2.0  -1.0   0.0  0.0\n",
       " 0.0   0.0   0.0   0.0   0.0   0.0  …   0.0   0.0  -1.0   2.0  -1.0  0.0\n",
       " 0.0   0.0   0.0   0.0   0.0   0.0      0.0   0.0   0.0  -1.0   2.0  0.0\n",
       " 0.0   0.0   0.0   0.0   0.0   0.0      0.0   0.0   0.0   0.0   0.0  0.0"
      ]
     },
     "execution_count": 56,
     "metadata": {},
     "output_type": "execute_result"
    }
   ],
   "source": [
    "Array(K)"
   ]
  },
  {
   "cell_type": "code",
   "execution_count": null,
   "metadata": {},
   "outputs": [],
   "source": []
  }
 ],
 "metadata": {
  "kernelspec": {
   "display_name": "Julia 1.3.0",
   "language": "julia",
   "name": "julia-1.3"
  },
  "language_info": {
   "file_extension": ".jl",
   "mimetype": "application/julia",
   "name": "julia",
   "version": "1.3.0"
  }
 },
 "nbformat": 4,
 "nbformat_minor": 4
}

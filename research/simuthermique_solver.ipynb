{
 "cells": [
  {
   "cell_type": "code",
   "execution_count": 1,
   "metadata": {},
   "outputs": [],
   "source": [
    "using LinearAlgebra\n",
    "using SparseArrays"
   ]
  },
  {
   "cell_type": "code",
   "execution_count": 2,
   "metadata": {},
   "outputs": [],
   "source": [
    "\"\"\"\n",
    "Thermal Properties of material\n",
    "\n",
    "        k      thermal conductivity, W/m2/K  \n",
    "        rho    density, kg/m3  \n",
    "        Cp     specific heat, J/kg  \n",
    "        alpha  thermal diffusivity, m2/s\n",
    "\"\"\"\n",
    "struct Material\n",
    "    k     ::Float64\n",
    "    rho   ::Float64\n",
    "    Cp    ::Float64\n",
    "    alpha ::Float64\n",
    "end\n",
    "\n",
    "Material(k, rho, Cp) = Material(k, rho, Cp, k/(rho*Cp));"
   ]
  },
  {
   "cell_type": "code",
   "execution_count": 3,
   "metadata": {},
   "outputs": [
    {
     "data": {
      "text/plain": [
       "Material(1.28, 880.0, 1450.0, 1.0031347962382445e-6)"
      ]
     },
     "execution_count": 3,
     "metadata": {},
     "output_type": "execute_result"
    }
   ],
   "source": [
    "clay = Material(1.28, 880.0, 1450.0) # Clay"
   ]
  },
  {
   "cell_type": "markdown",
   "metadata": {},
   "source": [
    "## v2"
   ]
  },
  {
   "cell_type": "code",
   "execution_count": 4,
   "metadata": {
    "lines_to_next_cell": 0
   },
   "outputs": [],
   "source": [
    "\"\"\" \n",
    "    equation\n",
    "        M dT/dt = K T  +  S(t)\n",
    "\"\"\"\n",
    "struct Model\n",
    "    dt          ::Float64            # time step, seconds\n",
    "    id_to_index ::Dict{String, Int64}\n",
    "    M           ::Array{Float64,1}   # thermal mass of each nodes\n",
    "    K_ijv  ::Array{NamedTuple{(:i,:j,:v),Tuple{Int64,Int64,Float64}}, 1}# Array of named tuple (i, j, value)\n",
    "    S_iv  #sources -- array of [(idx, function(t)), ()...]\n",
    "end\n",
    "\n",
    "Model(dt) = Model(dt,\n",
    "                  Dict{String,Int64}(),\n",
    "                  Array{Float64,1}(),\n",
    "                  [],\n",
    "                  []);"
   ]
  },
  {
   "cell_type": "code",
   "execution_count": 5,
   "metadata": {},
   "outputs": [
    {
     "data": {
      "text/plain": [
       "add_simplethermalmass! (generic function with 1 method)"
      ]
     },
     "execution_count": 5,
     "metadata": {},
     "output_type": "execute_result"
    }
   ],
   "source": [
    "function add_simplethermalmass!(model, node_id, th_mass)\n",
    "    if haskey(model.id_to_index, node_id)\n",
    "        error(\"\"\"Can't add simple mass: \"$node_id\", the id already exists\"\"\")\n",
    "    end\n",
    "    push!(model.M, th_mass)\n",
    "    model.id_to_index[node_id] = length(model.M)\n",
    "    return node_id\n",
    "end"
   ]
  },
  {
   "cell_type": "code",
   "execution_count": 6,
   "metadata": {},
   "outputs": [
    {
     "data": {
      "text/plain": [
       "\"2\""
      ]
     },
     "execution_count": 6,
     "metadata": {},
     "output_type": "execute_result"
    }
   ],
   "source": [
    "# test\n",
    "m = Model(5*60)\n",
    "add_simplethermalmass!(m, \"1\", 0.1)\n",
    "add_simplethermalmass!(m, \"2\", 0.2)"
   ]
  },
  {
   "cell_type": "code",
   "execution_count": null,
   "metadata": {},
   "outputs": [],
   "source": []
  },
  {
   "cell_type": "code",
   "execution_count": 7,
   "metadata": {},
   "outputs": [
    {
     "data": {
      "text/plain": [
       "add_wall! (generic function with 1 method)"
      ]
     },
     "execution_count": 7,
     "metadata": {},
     "output_type": "execute_result"
    }
   ],
   "source": [
    "function add_wall!(model, wall_id, material, thickness, surface)\n",
    "    # Mesh\n",
    "    delta_x = sqrt( model.dt * material.alpha )\n",
    "    N = 1 + Int(ceil( thickness/delta_x ))\n",
    "    dx = thickness / N\n",
    "    \n",
    "    # Register surfaces node index\n",
    "    i_ext = length(model.M) + 1\n",
    "    i_int = length(model.M) + N\n",
    "    \n",
    "    id_ext = \"$(wall_id)_ext\"\n",
    "    id_int = \"$(wall_id)_int\"\n",
    "    if haskey(model.id_to_index, id_ext) || haskey(model.id_to_index, id_int)\n",
    "        error(\"\"\"Can't add wall: \"$wall_id\", the id already exists\"\"\")\n",
    "    end\n",
    "    model.id_to_index[id_ext] = i_ext\n",
    "    model.id_to_index[id_int] = i_int\n",
    "    \n",
    "    is_boundary(i) = (i == i_ext || i == i_int)\n",
    "    \n",
    "    # Thermal mass\n",
    "    massth = (material.rho * material.Cp * dx * surface * (is_boundary(i) ? 0.5 : 1.0)\n",
    "              for i in i_ext:i_int)\n",
    "    append!(model.M, massth)\n",
    "\n",
    "    # Konduction\n",
    "    k_dx = material.k / dx\n",
    "    diagonal   = ( (i=i,   j=i,   v=(is_boundary(i) ? -1.0 : -2.0)*k_dx)\n",
    "                  for i in i_ext:i_int )\n",
    "    upper_diag = ( (i=i,   j=i+1, v=+k_dx) for i in i_ext:i_int-1 )\n",
    "    lower_diag = ( (i=i+1, j=i,   v=+k_dx) for i in i_ext:i_int-1 )\n",
    "    cells = Iterators.flatten((diagonal, upper_diag, lower_diag))\n",
    "    append!(model.K_ijv, cells) \n",
    "\n",
    "    return (ext=id_ext, int=id_int)\n",
    "end"
   ]
  },
  {
   "cell_type": "code",
   "execution_count": 8,
   "metadata": {},
   "outputs": [
    {
     "data": {
      "text/plain": [
       "get_sparse_K (generic function with 1 method)"
      ]
     },
     "execution_count": 8,
     "metadata": {},
     "output_type": "execute_result"
    }
   ],
   "source": [
    "function get_sparse_K(model::Model)\n",
    "    I = map(x->x.i, m.K_ijv)\n",
    "    J = map(x->x.j, m.K_ijv)\n",
    "    V = map(x->x.v, m.K_ijv)\n",
    "    n = length(m.M)\n",
    "    K = sparse(I, J, V, n, n)\n",
    "    return K\n",
    "end"
   ]
  },
  {
   "cell_type": "code",
   "execution_count": 9,
   "metadata": {},
   "outputs": [
    {
     "data": {
      "text/plain": [
       "(ext = \"wall2_ext\", int = \"wall2_int\")"
      ]
     },
     "execution_count": 9,
     "metadata": {},
     "output_type": "execute_result"
    }
   ],
   "source": [
    "m = Model(5*60)\n",
    "\n",
    "air_int = add_simplethermalmass!(m, \"T_air_int\", 24.2)\n",
    "\n",
    "wall1 = add_wall!(m, \"wall1\", clay, .20, 4.)\n",
    "\n",
    "sol = add_simplethermalmass!(m, \"T_sol\", 4.2)\n",
    "\n",
    "wall1 = add_wall!(m, \"wall2\", clay, .10, 4.)"
   ]
  },
  {
   "cell_type": "code",
   "execution_count": 10,
   "metadata": {},
   "outputs": [
    {
     "data": {
      "text/plain": [
       "Array{NamedTuple{(:i, :j, :v),Tuple{Int64,Int64,Float64}},1}"
      ]
     },
     "execution_count": 10,
     "metadata": {},
     "output_type": "execute_result"
    }
   ],
   "source": [
    "typeof(m.K_ijv)"
   ]
  },
  {
   "cell_type": "code",
   "execution_count": 11,
   "metadata": {},
   "outputs": [
    {
     "data": {
      "text/plain": [
       "add_conductance! (generic function with 1 method)"
      ]
     },
     "execution_count": 11,
     "metadata": {},
     "output_type": "execute_result"
    }
   ],
   "source": [
    "function add_conductance!(model, id_nodeA, id_nodeB, UA)\n",
    "    i = model.id_to_index[id_nodeA]\n",
    "    j = model.id_to_index[id_nodeB]\n",
    "    \n",
    "    cells = [(i=i, j=i, v=-UA),\n",
    "             (i=j, j=j, v=-UA),\n",
    "             (i=i, j=j, v=+UA),\n",
    "             (i=j, j=i, v=+UA)] \n",
    "    append!(model.K_ijv, cells);\n",
    "    return nothing\n",
    "end"
   ]
  },
  {
   "cell_type": "code",
   "execution_count": 12,
   "metadata": {},
   "outputs": [
    {
     "ename": "KeyError",
     "evalue": "KeyError: key \"ez\" not found",
     "output_type": "error",
     "traceback": [
      "KeyError: key \"ez\" not found",
      "",
      "Stacktrace:",
      " [1] getindex at ./dict.jl:477 [inlined]",
      " [2] add_conductance!(::Model, ::String, ::String, ::Float64) at ./In[11]:2",
      " [3] top-level scope at In[12]:1"
     ]
    }
   ],
   "source": [
    "add_conductance!(m, \"ez\", wall1[2], 0.1)"
   ]
  },
  {
   "cell_type": "code",
   "execution_count": 13,
   "metadata": {},
   "outputs": [],
   "source": [
    "add_conductance!(m, air_int, wall1.ext, 0.1)"
   ]
  },
  {
   "cell_type": "code",
   "execution_count": 14,
   "metadata": {},
   "outputs": [
    {
     "data": {
      "text/plain": [
       "add_convectivesource (generic function with 1 method)"
      ]
     },
     "execution_count": 14,
     "metadata": {},
     "output_type": "execute_result"
    }
   ],
   "source": [
    "function add_convectivesource(model, node_id, Tsource, hS)\n",
    "    i = model.id_to_index[node_id]\n",
    "    push!(model.K_ijv, (i=i, j=i, v=-hS));\n",
    "    push!(model.S_iv,  (i=i, v=t -> hS*Tsource(t)))  # more generic args?\n",
    "    return nothing\n",
    "end"
   ]
  },
  {
   "cell_type": "code",
   "execution_count": 15,
   "metadata": {},
   "outputs": [],
   "source": [
    "T_ext(t) = cos(t)\n",
    "add_convectivesource(m, wall1.int, T_ext, 1.5)"
   ]
  },
  {
   "cell_type": "code",
   "execution_count": 16,
   "metadata": {},
   "outputs": [
    {
     "data": {
      "text/plain": [
       "1-element Array{Any,1}:\n",
       " (i = 22, v = var\"#18#19\"{typeof(T_ext),Float64}(T_ext, 1.5))"
      ]
     },
     "execution_count": 16,
     "metadata": {},
     "output_type": "execute_result"
    }
   ],
   "source": [
    "m.S_iv"
   ]
  },
  {
   "cell_type": "code",
   "execution_count": 17,
   "metadata": {},
   "outputs": [],
   "source": [
    "mutable struct State\n",
    "    update_S!   ::Function\n",
    "    T           ::Array{Float64,1}\n",
    "    dt          ::Float64\n",
    "    t           ::Float64\n",
    "    theta       ::Float64\n",
    "    I_minus_dtA #::LDLt{Float64,Tridiagonal{Float64,Array{Float64,1}}}\n",
    "    I_plus_dtA  #::Tridiagonal{Float64,Array{Float64,1}}\n",
    "    St          ::Array{Float64,1}\n",
    "end"
   ]
  },
  {
   "cell_type": "code",
   "execution_count": 27,
   "metadata": {},
   "outputs": [
    {
     "data": {
      "text/plain": [
       "init_solver (generic function with 1 method)"
      ]
     },
     "execution_count": 27,
     "metadata": {},
     "output_type": "execute_result"
    }
   ],
   "source": [
    "function init_solver(model; T0=nothing, theta=0.5, t=0.0)\n",
    "    M = Diagonal(model.M);\n",
    "    K = get_sparse_K(model);\n",
    "\n",
    "    A = M\\K;\n",
    "    dt = model.dt\n",
    "    I_minus_dtA = factorize(I - theta*dt*A)\n",
    "    I_plus_dtA = I + (1 - theta)*dt*A;\n",
    "\n",
    "    function update_S!(S, t)\n",
    "        fill!(S, 0.0)\n",
    "        foreach(cell->S[cell.i] += cell.v(t), m.S_iv)\n",
    "        S[:] = M \\ S\n",
    "    end    \n",
    "    St = zeros(length(model.M));\n",
    "    update_S!(St, t)\n",
    "    \n",
    "    if isnothing(T0)\n",
    "        T0 = zeros(length(model.M))\n",
    "    end\n",
    "    \n",
    "    return State(\n",
    "        update_S!,\n",
    "        T0,\n",
    "        model.dt,\n",
    "        t,\n",
    "        theta,\n",
    "        I_minus_dtA,\n",
    "        I_plus_dtA,\n",
    "        St\n",
    "    )\n",
    "end"
   ]
  },
  {
   "cell_type": "code",
   "execution_count": 28,
   "metadata": {},
   "outputs": [
    {
     "data": {
      "text/plain": [
       "iter! (generic function with 1 method)"
      ]
     },
     "execution_count": 28,
     "metadata": {},
     "output_type": "execute_result"
    }
   ],
   "source": [
    "function iter!(state)\n",
    "    theta = state.theta\n",
    "    dt = state.dt\n",
    "    \n",
    "    state.t += dt\n",
    "    old_S = state.St\n",
    "    state.update_S!(state.St, state.t)\n",
    "    S_theta = theta*state.St + (1 - theta)*old_S\n",
    "\n",
    "    state.T = state.I_minus_dtA \\ ( state.I_plus_dtA*state.T + dt*S_theta )\n",
    "    \n",
    "    return state.t, state.T\n",
    "end"
   ]
  },
  {
   "cell_type": "markdown",
   "metadata": {},
   "source": [
    "## Test with soil model"
   ]
  },
  {
   "cell_type": "code",
   "execution_count": 20,
   "metadata": {},
   "outputs": [],
   "source": [
    "using Plots"
   ]
  },
  {
   "cell_type": "code",
   "execution_count": 29,
   "metadata": {},
   "outputs": [
    {
     "data": {
      "text/plain": [
       "122400.0"
      ]
     },
     "execution_count": 29,
     "metadata": {},
     "output_type": "execute_result"
    }
   ],
   "source": [
    "min = 60.0\n",
    "hour = 60min\n",
    "day = 34hour"
   ]
  },
  {
   "cell_type": "code",
   "execution_count": 30,
   "metadata": {},
   "outputs": [],
   "source": [
    "clay = Material(1.28, 880.0, 1450.0) # Clay\n",
    "m = Model(2hour)\n",
    "\n",
    "soil = add_wall!(m, \"soil\", clay, 6.0, 1.)\n",
    "\n",
    "T_ext(t) = sin(2pi/(7day)*t)\n",
    "add_convectivesource(m, soil.ext, T_ext, 1.0)\n",
    "add_convectivesource(m, soil.int, t->0.0, 2.0)"
   ]
  },
  {
   "cell_type": "code",
   "execution_count": 106,
   "metadata": {},
   "outputs": [],
   "source": [
    "state = init_solver(m);"
   ]
  },
  {
   "cell_type": "code",
   "execution_count": 107,
   "metadata": {},
   "outputs": [],
   "source": [
    "save = [1, 4, 8];\n",
    "n_iter = 300;"
   ]
  },
  {
   "cell_type": "code",
   "execution_count": 108,
   "metadata": {},
   "outputs": [
    {
     "data": {
      "image/svg+xml": [
       "<?xml version=\"1.0\" encoding=\"utf-8\"?>\n",
       "<svg xmlns=\"http://www.w3.org/2000/svg\" xmlns:xlink=\"http://www.w3.org/1999/xlink\" width=\"600\" height=\"400\" viewBox=\"0 0 2400 1600\">\n",
       "<defs>\n",
       "  <clipPath id=\"clip8400\">\n",
       "    <rect x=\"0\" y=\"0\" width=\"2400\" height=\"1600\"/>\n",
       "  </clipPath>\n",
       "</defs>\n",
       "<path clip-path=\"url(#clip8400)\" d=\"\n",
       "M0 1600 L2400 1600 L2400 0 L0 0  Z\n",
       "  \" fill=\"#ffffff\" fill-rule=\"evenodd\" fill-opacity=\"1\"/>\n",
       "<defs>\n",
       "  <clipPath id=\"clip8401\">\n",
       "    <rect x=\"480\" y=\"0\" width=\"1681\" height=\"1600\"/>\n",
       "  </clipPath>\n",
       "</defs>\n",
       "<path clip-path=\"url(#clip8400)\" d=\"\n",
       "M182.008 1487.47 L2352.76 1487.47 L2352.76 47.2441 L182.008 47.2441  Z\n",
       "  \" fill=\"#ffffff\" fill-rule=\"evenodd\" fill-opacity=\"1\"/>\n",
       "<defs>\n",
       "  <clipPath id=\"clip8402\">\n",
       "    <rect x=\"182\" y=\"47\" width=\"2172\" height=\"1441\"/>\n",
       "  </clipPath>\n",
       "</defs>\n",
       "<polyline clip-path=\"url(#clip8402)\" style=\"stroke:#000000; stroke-width:2; stroke-opacity:0.1; fill:none\" points=\"\n",
       "  236.595,1487.47 236.595,47.2441 \n",
       "  \"/>\n",
       "<polyline clip-path=\"url(#clip8402)\" style=\"stroke:#000000; stroke-width:2; stroke-opacity:0.1; fill:none\" points=\"\n",
       "  921.503,1487.47 921.503,47.2441 \n",
       "  \"/>\n",
       "<polyline clip-path=\"url(#clip8402)\" style=\"stroke:#000000; stroke-width:2; stroke-opacity:0.1; fill:none\" points=\"\n",
       "  1606.41,1487.47 1606.41,47.2441 \n",
       "  \"/>\n",
       "<polyline clip-path=\"url(#clip8402)\" style=\"stroke:#000000; stroke-width:2; stroke-opacity:0.1; fill:none\" points=\"\n",
       "  2291.32,1487.47 2291.32,47.2441 \n",
       "  \"/>\n",
       "<polyline clip-path=\"url(#clip8402)\" style=\"stroke:#000000; stroke-width:2; stroke-opacity:0.1; fill:none\" points=\"\n",
       "  182.008,1379.73 2352.76,1379.73 \n",
       "  \"/>\n",
       "<polyline clip-path=\"url(#clip8402)\" style=\"stroke:#000000; stroke-width:2; stroke-opacity:0.1; fill:none\" points=\"\n",
       "  182.008,1113.37 2352.76,1113.37 \n",
       "  \"/>\n",
       "<polyline clip-path=\"url(#clip8402)\" style=\"stroke:#000000; stroke-width:2; stroke-opacity:0.1; fill:none\" points=\"\n",
       "  182.008,847.007 2352.76,847.007 \n",
       "  \"/>\n",
       "<polyline clip-path=\"url(#clip8402)\" style=\"stroke:#000000; stroke-width:2; stroke-opacity:0.1; fill:none\" points=\"\n",
       "  182.008,580.644 2352.76,580.644 \n",
       "  \"/>\n",
       "<polyline clip-path=\"url(#clip8402)\" style=\"stroke:#000000; stroke-width:2; stroke-opacity:0.1; fill:none\" points=\"\n",
       "  182.008,314.281 2352.76,314.281 \n",
       "  \"/>\n",
       "<polyline clip-path=\"url(#clip8402)\" style=\"stroke:#000000; stroke-width:2; stroke-opacity:0.1; fill:none\" points=\"\n",
       "  182.008,47.9187 2352.76,47.9187 \n",
       "  \"/>\n",
       "<polyline clip-path=\"url(#clip8400)\" style=\"stroke:#000000; stroke-width:4; stroke-opacity:1; fill:none\" points=\"\n",
       "  182.008,1487.47 2352.76,1487.47 \n",
       "  \"/>\n",
       "<polyline clip-path=\"url(#clip8400)\" style=\"stroke:#000000; stroke-width:4; stroke-opacity:1; fill:none\" points=\"\n",
       "  182.008,1487.47 182.008,47.2441 \n",
       "  \"/>\n",
       "<polyline clip-path=\"url(#clip8400)\" style=\"stroke:#000000; stroke-width:4; stroke-opacity:1; fill:none\" points=\"\n",
       "  236.595,1487.47 236.595,1470.19 \n",
       "  \"/>\n",
       "<polyline clip-path=\"url(#clip8400)\" style=\"stroke:#000000; stroke-width:4; stroke-opacity:1; fill:none\" points=\"\n",
       "  921.503,1487.47 921.503,1470.19 \n",
       "  \"/>\n",
       "<polyline clip-path=\"url(#clip8400)\" style=\"stroke:#000000; stroke-width:4; stroke-opacity:1; fill:none\" points=\"\n",
       "  1606.41,1487.47 1606.41,1470.19 \n",
       "  \"/>\n",
       "<polyline clip-path=\"url(#clip8400)\" style=\"stroke:#000000; stroke-width:4; stroke-opacity:1; fill:none\" points=\"\n",
       "  2291.32,1487.47 2291.32,1470.19 \n",
       "  \"/>\n",
       "<polyline clip-path=\"url(#clip8400)\" style=\"stroke:#000000; stroke-width:4; stroke-opacity:1; fill:none\" points=\"\n",
       "  182.008,1379.73 208.057,1379.73 \n",
       "  \"/>\n",
       "<polyline clip-path=\"url(#clip8400)\" style=\"stroke:#000000; stroke-width:4; stroke-opacity:1; fill:none\" points=\"\n",
       "  182.008,1113.37 208.057,1113.37 \n",
       "  \"/>\n",
       "<polyline clip-path=\"url(#clip8400)\" style=\"stroke:#000000; stroke-width:4; stroke-opacity:1; fill:none\" points=\"\n",
       "  182.008,847.007 208.057,847.007 \n",
       "  \"/>\n",
       "<polyline clip-path=\"url(#clip8400)\" style=\"stroke:#000000; stroke-width:4; stroke-opacity:1; fill:none\" points=\"\n",
       "  182.008,580.644 208.057,580.644 \n",
       "  \"/>\n",
       "<polyline clip-path=\"url(#clip8400)\" style=\"stroke:#000000; stroke-width:4; stroke-opacity:1; fill:none\" points=\"\n",
       "  182.008,314.281 208.057,314.281 \n",
       "  \"/>\n",
       "<polyline clip-path=\"url(#clip8400)\" style=\"stroke:#000000; stroke-width:4; stroke-opacity:1; fill:none\" points=\"\n",
       "  182.008,47.9187 208.057,47.9187 \n",
       "  \"/>\n",
       "<g clip-path=\"url(#clip8400)\">\n",
       "<text style=\"fill:#000000; fill-opacity:1; font-family:Arial,Helvetica Neue,Helvetica,sans-serif; font-size:48px; text-anchor:middle;\" transform=\"rotate(0, 236.595, 1541.47)\" x=\"236.595\" y=\"1541.47\">0</text>\n",
       "</g>\n",
       "<g clip-path=\"url(#clip8400)\">\n",
       "<text style=\"fill:#000000; fill-opacity:1; font-family:Arial,Helvetica Neue,Helvetica,sans-serif; font-size:48px; text-anchor:middle;\" transform=\"rotate(0, 921.503, 1541.47)\" x=\"921.503\" y=\"1541.47\">100</text>\n",
       "</g>\n",
       "<g clip-path=\"url(#clip8400)\">\n",
       "<text style=\"fill:#000000; fill-opacity:1; font-family:Arial,Helvetica Neue,Helvetica,sans-serif; font-size:48px; text-anchor:middle;\" transform=\"rotate(0, 1606.41, 1541.47)\" x=\"1606.41\" y=\"1541.47\">200</text>\n",
       "</g>\n",
       "<g clip-path=\"url(#clip8400)\">\n",
       "<text style=\"fill:#000000; fill-opacity:1; font-family:Arial,Helvetica Neue,Helvetica,sans-serif; font-size:48px; text-anchor:middle;\" transform=\"rotate(0, 2291.32, 1541.47)\" x=\"2291.32\" y=\"1541.47\">300</text>\n",
       "</g>\n",
       "<g clip-path=\"url(#clip8400)\">\n",
       "<text style=\"fill:#000000; fill-opacity:1; font-family:Arial,Helvetica Neue,Helvetica,sans-serif; font-size:48px; text-anchor:end;\" transform=\"rotate(0, 158.008, 1397.23)\" x=\"158.008\" y=\"1397.23\">-0.2</text>\n",
       "</g>\n",
       "<g clip-path=\"url(#clip8400)\">\n",
       "<text style=\"fill:#000000; fill-opacity:1; font-family:Arial,Helvetica Neue,Helvetica,sans-serif; font-size:48px; text-anchor:end;\" transform=\"rotate(0, 158.008, 1130.87)\" x=\"158.008\" y=\"1130.87\">-0.1</text>\n",
       "</g>\n",
       "<g clip-path=\"url(#clip8400)\">\n",
       "<text style=\"fill:#000000; fill-opacity:1; font-family:Arial,Helvetica Neue,Helvetica,sans-serif; font-size:48px; text-anchor:end;\" transform=\"rotate(0, 158.008, 864.507)\" x=\"158.008\" y=\"864.507\">0.0</text>\n",
       "</g>\n",
       "<g clip-path=\"url(#clip8400)\">\n",
       "<text style=\"fill:#000000; fill-opacity:1; font-family:Arial,Helvetica Neue,Helvetica,sans-serif; font-size:48px; text-anchor:end;\" transform=\"rotate(0, 158.008, 598.144)\" x=\"158.008\" y=\"598.144\">0.1</text>\n",
       "</g>\n",
       "<g clip-path=\"url(#clip8400)\">\n",
       "<text style=\"fill:#000000; fill-opacity:1; font-family:Arial,Helvetica Neue,Helvetica,sans-serif; font-size:48px; text-anchor:end;\" transform=\"rotate(0, 158.008, 331.781)\" x=\"158.008\" y=\"331.781\">0.2</text>\n",
       "</g>\n",
       "<g clip-path=\"url(#clip8400)\">\n",
       "<text style=\"fill:#000000; fill-opacity:1; font-family:Arial,Helvetica Neue,Helvetica,sans-serif; font-size:48px; text-anchor:end;\" transform=\"rotate(0, 158.008, 65.4187)\" x=\"158.008\" y=\"65.4187\">0.3</text>\n",
       "</g>\n",
       "<polyline clip-path=\"url(#clip8402)\" style=\"stroke:#009af9; stroke-width:4; stroke-opacity:1; fill:none\" points=\"\n",
       "  243.444,836.563 250.293,823.271 257.142,806.959 263.992,788.533 270.841,768.271 277.69,746.498 284.539,723.439 291.388,699.301 298.237,674.264 305.086,648.49 \n",
       "  311.935,622.132 318.784,595.331 325.633,568.221 332.482,540.93 339.331,513.581 346.181,486.293 353.03,459.179 359.879,432.349 366.728,405.909 373.577,379.962 \n",
       "  380.426,354.606 387.275,329.936 394.124,306.045 400.973,283.019 407.822,260.943 414.671,239.896 421.52,219.956 428.37,201.193 435.219,183.675 442.068,167.466 \n",
       "  448.917,152.624 455.766,139.205 462.615,127.257 469.464,116.826 476.313,107.952 483.162,100.67 490.011,95.0121 496.86,91.0023 503.709,88.6616 510.558,88.0053 \n",
       "  517.408,89.044 524.257,91.7829 531.106,96.2224 537.955,102.358 544.804,110.179 551.653,119.671 558.502,130.815 565.351,143.586 572.2,157.955 579.049,173.887 \n",
       "  585.898,191.345 592.747,210.285 599.597,230.661 606.446,252.42 613.295,275.507 620.144,299.864 626.993,325.426 633.842,352.128 640.691,379.899 647.54,408.667 \n",
       "  654.389,438.355 661.238,468.886 668.087,500.179 674.936,532.149 681.786,564.712 688.635,597.781 695.484,631.268 702.333,665.082 709.182,699.133 716.031,733.33 \n",
       "  722.88,767.58 729.729,801.791 736.578,835.871 743.427,869.729 750.276,903.272 757.125,936.411 763.975,969.055 770.824,1001.12 777.673,1032.51 784.522,1063.15 \n",
       "  791.371,1092.95 798.22,1121.84 805.069,1149.73 811.918,1176.55 818.767,1202.23 825.616,1226.7 832.465,1249.89 839.314,1271.74 846.163,1292.19 853.013,1311.19 \n",
       "  859.862,1328.68 866.711,1344.62 873.56,1358.97 880.409,1371.69 887.258,1382.75 894.107,1392.11 900.956,1399.75 907.805,1405.66 914.654,1409.81 921.503,1412.21 \n",
       "  928.352,1412.83 935.202,1411.69 942.051,1408.79 948.9,1404.14 955.749,1397.75 962.598,1389.65 969.447,1379.85 976.296,1368.38 983.145,1355.29 989.994,1340.6 \n",
       "  996.843,1324.36 1003.69,1306.62 1010.54,1287.43 1017.39,1266.84 1024.24,1244.91 1031.09,1221.7 1037.94,1197.28 1044.79,1171.72 1051.64,1145.1 1058.49,1117.48 \n",
       "  1065.33,1088.94 1072.18,1059.58 1079.03,1029.46 1085.88,998.674 1092.73,967.312 1099.58,935.459 1106.43,903.207 1113.28,870.646 1120.13,837.868 1126.98,804.966 \n",
       "  1133.82,772.032 1140.67,739.159 1147.52,706.44 1154.37,673.968 1161.22,641.833 1168.07,610.127 1174.92,578.939 1181.77,548.356 1188.62,518.465 1195.47,489.351 \n",
       "  1202.32,461.096 1209.16,433.778 1216.01,407.476 1222.86,382.263 1229.71,358.211 1236.56,335.388 1243.41,313.858 1250.26,293.682 1257.11,274.917 1263.96,257.616 \n",
       "  1270.81,241.829 1277.66,227.601 1284.5,214.971 1291.35,203.976 1298.2,194.647 1305.05,187.012 1311.9,181.092 1318.75,176.904 1325.6,174.461 1332.45,173.771 \n",
       "  1339.3,174.836 1346.15,177.654 1353,182.218 1359.84,188.516 1366.69,196.531 1373.54,206.242 1380.39,217.621 1387.24,230.639 1394.09,245.26 1400.94,261.443 \n",
       "  1407.79,279.144 1414.64,298.314 1421.49,318.901 1428.34,340.848 1435.18,364.095 1442.03,388.577 1448.88,414.226 1455.73,440.972 1462.58,468.742 1469.43,497.457 \n",
       "  1476.28,527.039 1483.13,557.406 1489.98,588.474 1496.83,620.157 1503.68,652.367 1510.52,685.014 1517.37,718.01 1524.22,751.261 1531.07,784.677 1537.92,818.164 \n",
       "  1544.77,851.629 1551.62,884.981 1558.47,918.126 1565.32,950.973 1572.17,983.43 1579.02,1015.41 1585.86,1046.82 1592.71,1077.57 1599.56,1107.59 1606.41,1136.78 \n",
       "  1613.26,1165.07 1620.11,1192.38 1626.96,1218.62 1633.81,1243.74 1640.66,1267.66 1647.51,1290.31 1654.36,1311.63 1661.2,1331.56 1668.05,1350.05 1674.9,1367.05 \n",
       "  1681.75,1382.5 1688.6,1396.37 1695.45,1408.62 1702.3,1419.22 1709.15,1428.13 1716,1435.33 1722.85,1440.8 1729.69,1444.52 1736.54,1446.5 1743.39,1446.71 \n",
       "  1750.24,1445.17 1757.09,1441.87 1763.94,1436.83 1770.79,1430.06 1777.64,1421.58 1784.49,1411.41 1791.34,1399.58 1798.19,1386.13 1805.03,1371.09 1811.88,1354.51 \n",
       "  1818.73,1336.43 1825.58,1316.9 1832.43,1295.98 1839.28,1273.73 1846.13,1250.21 1852.98,1225.48 1859.83,1199.61 1866.68,1172.69 1873.53,1144.77 1880.37,1115.94 \n",
       "  1887.22,1086.29 1894.07,1055.89 1900.92,1024.83 1907.77,993.19 1914.62,961.068 1921.47,928.551 1928.32,895.729 1935.17,862.694 1942.02,829.538 1948.87,796.355 \n",
       "  1955.71,763.237 1962.56,730.276 1969.41,697.566 1976.26,665.197 1983.11,633.259 1989.96,601.843 1996.81,571.036 2003.66,540.925 2010.51,511.593 2017.36,483.122 \n",
       "  2024.21,455.593 2031.05,429.082 2037.9,403.664 2044.75,379.409 2051.6,356.386 2058.45,334.659 2065.3,314.288 2072.15,295.332 2079,277.842 2085.85,261.869 \n",
       "  2092.7,247.457 2099.55,234.646 2106.39,223.472 2113.24,213.967 2120.09,206.157 2126.94,200.065 2133.79,195.708 2140.64,193.098 2147.49,192.243 2154.34,193.145 \n",
       "  2161.19,195.802 2168.04,200.208 2174.89,206.349 2181.73,214.209 2188.58,223.767 2195.43,234.997 2202.28,247.866 2209.13,262.339 2215.98,278.377 2222.83,295.935 \n",
       "  2229.68,314.964 2236.53,335.412 2243.38,357.221 2250.23,380.331 2257.07,404.678 2263.92,430.195 2270.77,456.81 2277.62,484.45 2284.47,513.037 2291.32,542.493 \n",
       "  \n",
       "  \"/>\n",
       "<polyline clip-path=\"url(#clip8402)\" style=\"stroke:#e26f46; stroke-width:4; stroke-opacity:1; fill:none\" points=\"\n",
       "  243.444,846.792 250.293,845.784 257.142,843.504 263.992,839.864 270.841,834.896 277.69,828.649 284.539,821.195 291.388,812.608 298.237,802.967 305.086,792.346 \n",
       "  311.935,780.824 318.784,768.474 325.633,755.371 332.482,741.589 339.331,727.2 346.181,712.277 353.03,696.891 359.879,681.113 366.728,665.011 373.577,648.656 \n",
       "  380.426,632.115 387.275,615.456 394.124,598.746 400.973,582.05 407.822,565.433 414.671,548.957 421.52,532.685 428.37,516.678 435.219,500.994 442.068,485.692 \n",
       "  448.917,470.826 455.766,456.452 462.615,442.621 469.464,429.383 476.313,416.786 483.162,404.876 490.011,393.696 496.86,383.288 503.709,373.689 510.558,364.935 \n",
       "  517.408,357.06 524.257,350.093 531.106,344.063 537.955,338.993 544.804,334.906 551.653,331.82 558.502,329.751 565.351,328.711 572.2,328.709 579.049,329.753 \n",
       "  585.898,331.846 592.747,334.986 599.597,339.173 606.446,344.399 613.295,350.656 620.144,357.932 626.993,366.21 633.842,375.474 640.691,385.703 647.54,396.872 \n",
       "  654.389,408.955 661.238,421.923 668.087,435.745 674.936,450.385 681.786,465.808 688.635,481.974 695.484,498.843 702.333,516.371 709.182,534.514 716.031,553.224 \n",
       "  722.88,572.452 729.729,592.15 736.578,612.265 743.427,632.744 750.276,653.535 757.125,674.581 763.975,695.828 770.824,717.22 777.673,738.7 784.522,760.211 \n",
       "  791.371,781.696 798.22,803.098 805.069,824.36 811.918,845.426 818.767,866.239 825.616,886.744 832.465,906.887 839.314,926.615 846.163,945.873 853.013,964.612 \n",
       "  859.862,982.781 866.711,1000.33 873.56,1017.22 880.409,1033.4 887.258,1048.82 894.107,1063.45 900.956,1077.26 907.805,1090.19 914.654,1102.22 921.503,1113.32 \n",
       "  928.352,1123.45 935.202,1132.6 942.051,1140.73 948.9,1147.83 955.749,1153.88 962.598,1158.87 969.447,1162.77 976.296,1165.59 983.145,1167.32 989.994,1167.94 \n",
       "  996.843,1167.48 1003.69,1165.92 1010.54,1163.27 1017.39,1159.54 1024.24,1154.75 1031.09,1148.9 1037.94,1142.03 1044.79,1134.13 1051.64,1125.25 1058.49,1115.41 \n",
       "  1065.33,1104.63 1072.18,1092.95 1079.03,1080.4 1085.88,1067.02 1092.73,1052.84 1099.58,1037.91 1106.43,1022.27 1113.28,1005.96 1120.13,989.041 1126.98,971.547 \n",
       "  1133.82,953.534 1140.67,935.052 1147.52,916.155 1154.37,896.896 1161.22,877.329 1168.07,857.512 1174.92,837.5 1181.77,817.35 1188.62,797.119 1195.47,776.865 \n",
       "  1202.32,756.646 1209.16,736.519 1216.01,716.54 1222.86,696.768 1229.71,677.258 1236.56,658.065 1243.41,639.244 1250.26,620.849 1257.11,602.931 1263.96,585.542 \n",
       "  1270.81,568.731 1277.66,552.547 1284.5,537.034 1291.35,522.237 1298.2,508.199 1305.05,494.959 1311.9,482.556 1318.75,471.024 1325.6,460.397 1332.45,450.705 \n",
       "  1339.3,441.977 1346.15,434.237 1353,427.507 1359.84,421.808 1366.69,417.156 1373.54,413.565 1380.39,411.046 1387.24,409.607 1394.09,409.251 1400.94,409.982 \n",
       "  1407.79,411.798 1414.64,414.694 1421.49,418.664 1428.34,423.697 1435.18,429.779 1442.03,436.895 1448.88,445.026 1455.73,454.149 1462.58,464.24 1469.43,475.271 \n",
       "  1476.28,487.212 1483.13,500.031 1489.98,513.693 1496.83,528.161 1503.68,543.394 1510.52,559.351 1517.37,575.988 1524.22,593.259 1531.07,611.117 1537.92,629.513 \n",
       "  1544.77,648.396 1551.62,667.715 1558.47,687.415 1565.32,707.443 1572.17,727.743 1579.02,748.26 1585.86,768.936 1592.71,789.716 1599.56,810.541 1606.41,831.354 \n",
       "  1613.26,852.097 1620.11,872.714 1626.96,893.148 1633.81,913.342 1640.66,933.24 1647.51,952.787 1654.36,971.931 1661.2,990.617 1668.05,1008.79 1674.9,1026.41 \n",
       "  1681.75,1043.42 1688.6,1059.78 1695.45,1075.44 1702.3,1090.35 1709.15,1104.48 1716,1117.79 1722.85,1130.24 1729.69,1141.79 1736.54,1152.43 1743.39,1162.1 \n",
       "  1750.24,1170.8 1757.09,1178.49 1763.94,1185.16 1770.79,1190.78 1777.64,1195.34 1784.49,1198.84 1791.34,1201.25 1798.19,1202.58 1805.03,1202.82 1811.88,1201.96 \n",
       "  1818.73,1200.02 1825.58,1197 1832.43,1192.91 1839.28,1187.76 1846.13,1181.56 1852.98,1174.33 1859.83,1166.09 1866.68,1156.87 1873.53,1146.7 1880.37,1135.59 \n",
       "  1887.22,1123.59 1894.07,1110.72 1900.92,1097.03 1907.77,1082.54 1914.62,1067.31 1921.47,1051.37 1928.32,1034.77 1935.17,1017.56 1942.02,999.781 1948.87,981.487 \n",
       "  1955.71,962.729 1962.56,943.559 1969.41,924.031 1976.26,904.2 1983.11,884.122 1989.96,863.853 1996.81,843.45 2003.66,822.969 2010.51,802.47 2017.36,782.008 \n",
       "  2024.21,761.641 2031.05,741.427 2037.9,721.422 2044.75,701.683 2051.6,682.264 2058.45,663.22 2065.3,644.605 2072.15,626.47 2079,608.867 2085.85,591.845 \n",
       "  2092.7,575.452 2099.55,559.734 2106.39,544.734 2113.24,530.496 2120.09,517.059 2126.94,504.46 2133.79,492.736 2140.64,481.92 2147.49,472.041 2154.34,463.127 \n",
       "  2161.19,455.204 2168.04,448.295 2174.89,442.418 2181.73,437.59 2188.58,433.826 2195.43,431.135 2202.28,429.526 2209.13,429.004 2215.98,429.57 2222.83,431.223 \n",
       "  2229.68,433.958 2236.53,437.769 2243.38,442.645 2250.23,448.572 2257.07,455.535 2263.92,463.514 2270.77,472.487 2277.62,482.43 2284.47,493.315 2291.32,505.112 \n",
       "  \n",
       "  \"/>\n",
       "<polyline clip-path=\"url(#clip8402)\" style=\"stroke:#3da44d; stroke-width:4; stroke-opacity:1; fill:none\" points=\"\n",
       "  243.444,847.006 250.293,846.995 257.142,846.945 263.992,846.803 270.841,846.498 277.69,845.958 284.539,845.122 291.388,843.939 298.237,842.371 305.086,840.389 \n",
       "  311.935,837.973 318.784,835.11 325.633,831.793 332.482,828.022 339.331,823.798 346.181,819.128 353.03,814.024 359.879,808.497 366.728,802.564 373.577,796.242 \n",
       "  380.426,789.551 387.275,782.512 394.124,775.149 400.973,767.486 407.822,759.548 414.671,751.362 421.52,742.956 428.37,734.358 435.219,725.597 442.068,716.702 \n",
       "  448.917,707.704 455.766,698.632 462.615,689.518 469.464,680.391 476.313,671.283 483.162,662.224 490.011,653.243 496.86,644.373 503.709,635.641 510.558,627.077 \n",
       "  517.408,618.711 524.257,610.57 531.106,602.681 537.955,595.072 544.804,587.768 551.653,580.794 558.502,574.174 565.351,567.93 572.2,562.085 579.049,556.658 \n",
       "  585.898,551.67 592.747,547.138 599.597,543.079 606.446,539.508 613.295,536.438 620.144,533.883 626.993,531.853 633.842,530.358 640.691,529.404 647.54,528.999 \n",
       "  654.389,529.147 661.238,529.851 668.087,531.112 674.936,532.931 681.786,535.305 688.635,538.23 695.484,541.703 702.333,545.716 709.182,550.26 716.031,555.328 \n",
       "  722.88,560.906 729.729,566.983 736.578,573.545 743.427,580.575 750.276,588.058 757.125,595.974 763.975,604.305 770.824,613.03 777.673,622.126 784.522,631.572 \n",
       "  791.371,641.343 798.22,651.415 805.069,661.762 811.918,672.357 818.767,683.173 825.616,694.183 832.465,705.358 839.314,716.668 846.163,728.085 853.013,739.58 \n",
       "  859.862,751.121 866.711,762.679 873.56,774.224 880.409,785.726 887.258,797.154 894.107,808.479 900.956,819.671 907.805,830.7 914.654,841.539 921.503,852.158 \n",
       "  928.352,862.53 935.202,872.628 942.051,882.425 948.9,891.896 955.749,901.016 962.598,909.761 969.447,918.109 976.296,926.038 983.145,933.528 989.994,940.559 \n",
       "  996.843,947.113 1003.69,953.175 1010.54,958.727 1017.39,963.757 1024.24,968.251 1031.09,972.2 1037.94,975.593 1044.79,978.422 1051.64,980.68 1058.49,982.364 \n",
       "  1065.33,983.47 1072.18,983.995 1079.03,983.941 1085.88,983.307 1092.73,982.099 1099.58,980.319 1106.43,977.975 1113.28,975.074 1120.13,971.625 1126.98,967.64 \n",
       "  1133.82,963.131 1140.67,958.112 1147.52,952.597 1154.37,946.603 1161.22,940.149 1168.07,933.253 1174.92,925.936 1181.77,918.219 1188.62,910.126 1195.47,901.678 \n",
       "  1202.32,892.902 1209.16,883.823 1216.01,874.467 1222.86,864.862 1229.71,855.034 1236.56,845.013 1243.41,834.828 1250.26,824.508 1257.11,814.082 1263.96,803.581 \n",
       "  1270.81,793.036 1277.66,782.475 1284.5,771.931 1291.35,761.433 1298.2,751.011 1305.05,740.695 1311.9,730.515 1318.75,720.501 1325.6,710.681 1332.45,701.084 \n",
       "  1339.3,691.736 1346.15,682.665 1353,673.898 1359.84,665.459 1366.69,657.373 1373.54,649.663 1380.39,642.352 1387.24,635.46 1394.09,629.008 1400.94,623.015 \n",
       "  1407.79,617.497 1414.64,612.472 1421.49,607.955 1428.34,603.957 1435.18,600.492 1442.03,597.569 1448.88,595.199 1455.73,593.387 1462.58,592.14 1469.43,591.462 \n",
       "  1476.28,591.356 1483.13,591.823 1489.98,592.861 1496.83,594.47 1503.68,596.645 1510.52,599.38 1517.37,602.67 1524.22,606.504 1531.07,610.874 1537.92,615.768 \n",
       "  1544.77,621.173 1551.62,627.075 1558.47,633.457 1565.32,640.302 1572.17,647.593 1579.02,655.309 1585.86,663.43 1592.71,671.933 1599.56,680.796 1606.41,689.994 \n",
       "  1613.26,699.502 1620.11,709.295 1626.96,719.346 1633.81,729.627 1640.66,740.111 1647.51,750.768 1654.36,761.57 1661.2,772.487 1668.05,783.489 1674.9,794.546 \n",
       "  1681.75,805.627 1688.6,816.704 1695.45,827.744 1702.3,838.719 1709.15,849.597 1716,860.35 1722.85,870.947 1729.69,881.36 1736.54,891.56 1743.39,901.519 \n",
       "  1750.24,911.211 1757.09,920.608 1763.94,929.685 1770.79,938.417 1777.64,946.78 1784.49,954.752 1791.34,962.31 1798.19,969.434 1805.03,976.106 1811.88,982.306 \n",
       "  1818.73,988.018 1825.58,993.226 1832.43,997.916 1839.28,1002.08 1846.13,1005.7 1852.98,1008.76 1859.83,1011.27 1866.68,1013.22 1873.53,1014.59 1880.37,1015.39 \n",
       "  1887.22,1015.61 1894.07,1015.26 1900.92,1014.33 1907.77,1012.83 1914.62,1010.77 1921.47,1008.14 1928.32,1004.96 1935.17,1001.24 1942.02,996.983 1948.87,992.206 \n",
       "  1955.71,986.923 1962.56,981.149 1969.41,974.898 1976.26,968.191 1983.11,961.045 1989.96,953.482 1996.81,945.522 2003.66,937.188 2010.51,928.503 2017.36,919.493 \n",
       "  2024.21,910.183 2031.05,900.599 2037.9,890.768 2044.75,880.719 2051.6,870.478 2058.45,860.076 2065.3,849.542 2072.15,838.905 2079,828.195 2085.85,817.443 \n",
       "  2092.7,806.679 2099.55,795.933 2106.39,785.236 2113.24,774.618 2120.09,764.109 2126.94,753.737 2133.79,743.534 2140.64,733.527 2147.49,723.744 2154.34,714.214 \n",
       "  2161.19,704.963 2168.04,696.017 2174.89,687.402 2181.73,679.142 2188.58,671.26 2195.43,663.778 2202.28,656.718 2209.13,650.1 2215.98,643.943 2222.83,638.263 \n",
       "  2229.68,633.077 2236.53,628.4 2243.38,624.246 2250.23,620.625 2257.07,617.55 2263.92,615.027 2270.77,613.065 2277.62,611.67 2284.47,610.845 2291.32,610.594 \n",
       "  \n",
       "  \"/>\n",
       "<path clip-path=\"url(#clip8400)\" d=\"\n",
       "M1989.93 372.684 L2280.76 372.684 L2280.76 130.764 L1989.93 130.764  Z\n",
       "  \" fill=\"#ffffff\" fill-rule=\"evenodd\" fill-opacity=\"1\"/>\n",
       "<polyline clip-path=\"url(#clip8400)\" style=\"stroke:#000000; stroke-width:4; stroke-opacity:1; fill:none\" points=\"\n",
       "  1989.93,372.684 2280.76,372.684 2280.76,130.764 1989.93,130.764 1989.93,372.684 \n",
       "  \"/>\n",
       "<polyline clip-path=\"url(#clip8400)\" style=\"stroke:#009af9; stroke-width:4; stroke-opacity:1; fill:none\" points=\"\n",
       "  2013.93,191.244 2157.93,191.244 \n",
       "  \"/>\n",
       "<g clip-path=\"url(#clip8400)\">\n",
       "<text style=\"fill:#000000; fill-opacity:1; font-family:Arial,Helvetica Neue,Helvetica,sans-serif; font-size:48px; text-anchor:start;\" transform=\"rotate(0, 2181.93, 208.744)\" x=\"2181.93\" y=\"208.744\">y1</text>\n",
       "</g>\n",
       "<polyline clip-path=\"url(#clip8400)\" style=\"stroke:#e26f46; stroke-width:4; stroke-opacity:1; fill:none\" points=\"\n",
       "  2013.93,251.724 2157.93,251.724 \n",
       "  \"/>\n",
       "<g clip-path=\"url(#clip8400)\">\n",
       "<text style=\"fill:#000000; fill-opacity:1; font-family:Arial,Helvetica Neue,Helvetica,sans-serif; font-size:48px; text-anchor:start;\" transform=\"rotate(0, 2181.93, 269.224)\" x=\"2181.93\" y=\"269.224\">y2</text>\n",
       "</g>\n",
       "<polyline clip-path=\"url(#clip8400)\" style=\"stroke:#3da44d; stroke-width:4; stroke-opacity:1; fill:none\" points=\"\n",
       "  2013.93,312.204 2157.93,312.204 \n",
       "  \"/>\n",
       "<g clip-path=\"url(#clip8400)\">\n",
       "<text style=\"fill:#000000; fill-opacity:1; font-family:Arial,Helvetica Neue,Helvetica,sans-serif; font-size:48px; text-anchor:start;\" transform=\"rotate(0, 2181.93, 329.704)\" x=\"2181.93\" y=\"329.704\">y3</text>\n",
       "</g>\n",
       "</svg>\n"
      ]
     },
     "execution_count": 108,
     "metadata": {},
     "output_type": "execute_result"
    }
   ],
   "source": [
    "sol = zeros(n_iter, length(save))\n",
    "for k in 1:n_iter\n",
    "    iter!(state)\n",
    "    sol[k, :] = state.T[save]\n",
    "end\n",
    "plot(sol)"
   ]
  }
 ],
 "metadata": {
  "jupytext": {
   "encoding": "# -*- coding: utf-8 -*-",
   "formats": "ipynb,jl:light"
  },
  "kernelspec": {
   "display_name": "Julia 1.3.0",
   "language": "julia",
   "name": "julia-1.3"
  },
  "language_info": {
   "file_extension": ".jl",
   "mimetype": "application/julia",
   "name": "julia",
   "version": "1.3.0"
  }
 },
 "nbformat": 4,
 "nbformat_minor": 4
}

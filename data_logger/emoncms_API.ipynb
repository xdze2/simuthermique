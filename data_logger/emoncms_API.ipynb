{
 "cells": [
  {
   "cell_type": "code",
   "execution_count": 1,
   "metadata": {},
   "outputs": [],
   "source": [
    "import numpy as np\n",
    "import pandas as pd\n",
    "import matplotlib.pyplot as plt\n",
    "import os"
   ]
  },
  {
   "cell_type": "code",
   "execution_count": 2,
   "metadata": {},
   "outputs": [],
   "source": [
    "import requests"
   ]
  },
  {
   "cell_type": "markdown",
   "metadata": {},
   "source": [
    "# Test the emonCMS feed API\n",
    "\n",
    "from [EmonCMS's forum](https://community.openenergymonitor.org/t/accessing-raw-data/6878):\n",
    "> The data is stored in binary and is not ‘human readable’, The long description can be found here for PHPFina: https://learn.openenergymonitor.org/electricity-monitoring/timeseries/Fixed-interval 13 there’s also a history there of timeseries storage development in emoncms.\n",
    "\n",
    "> Alternatively there is a guide here on exporting the data as CSV, you can export extended historic periods this way: https://guide.openenergymonitor.org/setup/export-csv/ 24 see full export via feeds interface.\n",
    "\n",
    "* https://guide.openenergymonitor.org/emoncms/export-csv/\n",
    "\n",
    "There is a problem when intervals are not regular. There are a lot of padded (empty) values, which prevents exporting raw data without strange averaging (only few points per bin).\n",
    "\n",
    "- same with the feed API\n",
    "> Request datapoint limit reached (8928), increase request interval or time range, requested datapoints = 150000"
   ]
  },
  {
   "cell_type": "code",
   "execution_count": 3,
   "metadata": {},
   "outputs": [],
   "source": [
    "key = '121f36f529a93aeb0103b2c194f0bcd2'\n",
    "ip_adress = '192.168.43.3'"
   ]
  },
  {
   "cell_type": "code",
   "execution_count": 4,
   "metadata": {},
   "outputs": [
    {
     "name": "stdout",
     "output_type": "stream",
     "text": [
      "http://192.168.43.3/feed/list.json\n"
     ]
    }
   ],
   "source": [
    "url = f\"http://{ip_adress}/feed/list.json\"\n",
    "r = requests.post(url, data={'apikey':key})\n",
    "feeds = r.json()\n",
    "print(r.url)"
   ]
  },
  {
   "cell_type": "code",
   "execution_count": 5,
   "metadata": {},
   "outputs": [
    {
     "name": "stdout",
     "output_type": "stream",
     "text": [
      "1 t1\n",
      "5 temperatureA\n",
      "6 humidityA\n",
      "7 temperatureB\n",
      "8 external temperatureB\n",
      "9 humidityB\n"
     ]
    }
   ],
   "source": [
    "for feed in feeds:\n",
    "    print(feed['id'], feed['name'])"
   ]
  },
  {
   "cell_type": "markdown",
   "metadata": {},
   "source": [
    "## Tentative to use the AI to download raw data\n",
    "\n",
    "https://github.com/emoncms/emoncmsorg/blob/751ebfa2851ca6b8f955252fff5320a2d5f78438/emoncms/Modules/feed/engine/PHPFina.php#L267"
   ]
  },
  {
   "cell_type": "code",
   "execution_count": 7,
   "metadata": {},
   "outputs": [],
   "source": [
    "feeds = {feed['name']:feed for feed in feeds}\n",
    "\n",
    "# http://192.168.43.3/feed/get.json?id=1&field=name \n",
    "        \n",
    "url = f'http://{ip_adress}/feed/getmeta.json'#?id=1 \n",
    "payload = {'id':6, 'apikey':key}\n",
    "r = requests.get(url, params=payload)\n",
    "r.json()"
   ]
  },
  {
   "cell_type": "code",
   "execution_count": 146,
   "metadata": {},
   "outputs": [],
   "source": [
    "data_limit = 8000"
   ]
  },
  {
   "cell_type": "code",
   "execution_count": 298,
   "metadata": {},
   "outputs": [
    {
     "name": "stdout",
     "output_type": "stream",
     "text": [
      "status_code: 200\n",
      "nbr_point: 2\n",
      "False\n",
      "Request datapoint limit reached (8928), increase request interval or time range, requested datapoints = 150000\n"
     ]
    }
   ],
   "source": [
    "url = f'http://{ip_adress}/feed/data.json'\n",
    "feed = feeds['external temperatureB']\n",
    "interval = 60*30#feed['interval']  # seconds\n",
    "\n",
    "s = int((feed['start_time']+1)*1000)\n",
    "e = s + interval*1000 * 5000\n",
    "payload = {'id': feed['id'], 'apikey':key,\n",
    "           'interval':60, #int(interval/2),\n",
    "           'start':s, 'end':e}\n",
    "r = requests.get(url, params=payload)\n",
    "print('status_code:', r.status_code)\n",
    "data = r.json()\n",
    "print('nbr_point:', len(data))\n",
    "\n",
    "try:\n",
    "    print(data['success'])\n",
    "    print(data['message'])\n",
    "except TypeError:\n",
    "    pass"
   ]
  },
  {
   "cell_type": "code",
   "execution_count": 289,
   "metadata": {},
   "outputs": [
    {
     "data": {
      "text/plain": [
       "array([ 60., 135., 255.])"
      ]
     },
     "execution_count": 289,
     "metadata": {},
     "output_type": "execute_result"
    }
   ],
   "source": [
    "time = np.array( [u[0] for u in data] )\n",
    "values = np.array( [u[1] for u in data] )\n",
    "np.unique( np.diff(time) )/1000"
   ]
  },
  {
   "cell_type": "code",
   "execution_count": 282,
   "metadata": {},
   "outputs": [
    {
     "data": {
      "text/plain": [
       "[<matplotlib.lines.Line2D at 0x7f2e804a7d30>]"
      ]
     },
     "execution_count": 282,
     "metadata": {},
     "output_type": "execute_result"
    },
    {
     "data": {
      "image/png": "[encoded data removed]",
      "text/plain": [
       "<Figure size 432x288 with 1 Axes>"
      ]
     },
     "metadata": {
      "needs_background": "light"
     },
     "output_type": "display_data"
    }
   ],
   "source": [
    "plt.plot(time, values)"
   ]
  },
  {
   "cell_type": "code",
   "execution_count": 114,
   "metadata": {},
   "outputs": [],
   "source": [
    "url = 'http://192.168.43.3/feed/aget.json?id=8'"
   ]
  },
  {
   "cell_type": "code",
   "execution_count": 102,
   "metadata": {},
   "outputs": [],
   "source": [
    "r = requests.get(url, params={'apikey':key})"
   ]
  },
  {
   "cell_type": "code",
   "execution_count": 103,
   "metadata": {},
   "outputs": [
    {
     "data": {
      "text/plain": [
       "{'id': '8',\n",
       " 'userid': '1',\n",
       " 'name': 'external temperatureB',\n",
       " 'datatype': '1',\n",
       " 'tag': 'emonth1',\n",
       " 'public': '0',\n",
       " 'size': '',\n",
       " 'engine': '5',\n",
       " 'processList': '',\n",
       " 'unit': '',\n",
       " 'value': 23.6,\n",
       " 'time': 1595112946}"
      ]
     },
     "execution_count": 103,
     "metadata": {},
     "output_type": "execute_result"
    }
   ],
   "source": [
    "r.json()"
   ]
  }
 ],
 "metadata": {
  "kernelspec": {
   "display_name": "Python 3",
   "language": "python",
   "name": "python3"
  },
  "language_info": {
   "codemirror_mode": {
    "name": "ipython",
    "version": 3
   },
   "file_extension": ".py",
   "mimetype": "text/x-python",
   "name": "python",
   "nbconvert_exporter": "python",
   "pygments_lexer": "ipython3",
   "version": "3.8.2"
  }
 },
 "nbformat": 4,
 "nbformat_minor": 4
}
